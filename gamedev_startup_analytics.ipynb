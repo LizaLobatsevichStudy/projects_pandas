{
 "cells": [
  {
   "cell_type": "markdown",
   "metadata": {
    "id": "0A5e9MbQb1GC"
   },
   "source": [
    "# Аналитика клиентов и логов gamedev-стартапа"
   ]
  },
  {
   "cell_type": "markdown",
   "metadata": {
    "id": "JS8rdpsmb1GK"
   },
   "source": [
    "Gamedev-стартап вывел на рынок игру: в приложении пользователь пытается угадать ответы на предлагаемые вопросы. Набор данных состоит из двух датасетов: user_data и logs.\n",
    "\n",
    "## Описание данных:\n",
    "\n",
    "user_data:\n",
    "\n",
    "* client – идентификатор пользователя  \n",
    "* premium – есть ли у клиента премиум статус  \n",
    "* age – возраст  \n",
    "\n",
    "logs:\n",
    "\n",
    "* client – идентификатор пользователя  \n",
    "* success – результат ответа (операции): успех - 1, нет - 0  \n",
    "* platform – платформа  \n",
    "* time – время в формате Unix"
   ]
  },
  {
   "cell_type": "markdown",
   "metadata": {
    "id": "zIHQtMUEb1GL"
   },
   "source": [
    "## Цель:\n",
    "1. Анализ данных о поездках на такси в Нью-Йорке;\n",
    "2. Получение инсайтов для бизнес-решений.\n",
    "\n",
    "## Задачи:\n",
    "1. Найти клиентов с наибольшим количеством успешных ответов;\n",
    "2. Определить платформу, с какой было дано наибольшее количество успешных ответов;\n",
    "3. Определить самую популярную платформу среди премиум-клиентов;\n",
    "4. Сравнить самую популярную платформу с остальными платформами;\n",
    "5. Опрделить категорию клиентов с высшей долей неуспешных ответов;\n",
    "6. Сравнить возраст премиум и обычных клиентов;\n",
    "7. Определить возраст клиентов, давших наибольшее количество успешных ответов на компьютере.\n"
   ]
  },
  {
   "cell_type": "code",
   "execution_count": 35,
   "metadata": {
    "id": "7KmtQEBvb1GP"
   },
   "outputs": [],
   "source": [
    "import pandas            as pd\n",
    "import matplotlib.pyplot as plt\n",
    "import seaborn           as sns\n",
    "user_data = pd.read_csv('3_user_data.csv')\n",
    "logs      = pd.read_csv('3_logs.csv')\n",
    "\n"
   ]
  },
  {
   "cell_type": "markdown",
   "metadata": {
    "id": "TGr1YhLAb1Gh"
   },
   "source": [
    "### Предварительный просмотр данных.\n",
    "\n",
    "Просмотр датафреймов, размер каждой таблицы, типы данных и описательная статистика колонок."
   ]
  },
  {
   "cell_type": "code",
   "execution_count": 2,
   "metadata": {
    "id": "FlTL9hlNb1Gi"
   },
   "outputs": [
    {
     "data": {
      "text/html": [
       "<div>\n",
       "<style scoped>\n",
       "    .dataframe tbody tr th:only-of-type {\n",
       "        vertical-align: middle;\n",
       "    }\n",
       "\n",
       "    .dataframe tbody tr th {\n",
       "        vertical-align: top;\n",
       "    }\n",
       "\n",
       "    .dataframe thead th {\n",
       "        text-align: right;\n",
       "    }\n",
       "</style>\n",
       "<table border=\"1\" class=\"dataframe\">\n",
       "  <thead>\n",
       "    <tr style=\"text-align: right;\">\n",
       "      <th></th>\n",
       "      <th>client</th>\n",
       "      <th>age</th>\n",
       "    </tr>\n",
       "  </thead>\n",
       "  <tbody>\n",
       "    <tr>\n",
       "      <th>count</th>\n",
       "      <td>2954.000000</td>\n",
       "      <td>2954.000000</td>\n",
       "    </tr>\n",
       "    <tr>\n",
       "      <th>mean</th>\n",
       "      <td>50767.886594</td>\n",
       "      <td>44.196005</td>\n",
       "    </tr>\n",
       "    <tr>\n",
       "      <th>std</th>\n",
       "      <td>28800.505847</td>\n",
       "      <td>14.248336</td>\n",
       "    </tr>\n",
       "    <tr>\n",
       "      <th>min</th>\n",
       "      <td>40.000000</td>\n",
       "      <td>20.000000</td>\n",
       "    </tr>\n",
       "    <tr>\n",
       "      <th>25%</th>\n",
       "      <td>25639.500000</td>\n",
       "      <td>32.000000</td>\n",
       "    </tr>\n",
       "    <tr>\n",
       "      <th>50%</th>\n",
       "      <td>51569.500000</td>\n",
       "      <td>44.000000</td>\n",
       "    </tr>\n",
       "    <tr>\n",
       "      <th>75%</th>\n",
       "      <td>75963.250000</td>\n",
       "      <td>56.000000</td>\n",
       "    </tr>\n",
       "    <tr>\n",
       "      <th>max</th>\n",
       "      <td>99973.000000</td>\n",
       "      <td>69.000000</td>\n",
       "    </tr>\n",
       "  </tbody>\n",
       "</table>\n",
       "</div>"
      ],
      "text/plain": [
       "             client          age\n",
       "count   2954.000000  2954.000000\n",
       "mean   50767.886594    44.196005\n",
       "std    28800.505847    14.248336\n",
       "min       40.000000    20.000000\n",
       "25%    25639.500000    32.000000\n",
       "50%    51569.500000    44.000000\n",
       "75%    75963.250000    56.000000\n",
       "max    99973.000000    69.000000"
      ]
     },
     "execution_count": 2,
     "metadata": {},
     "output_type": "execute_result"
    }
   ],
   "source": [
    "user_data.describe()\n",
    "\n"
   ]
  },
  {
   "cell_type": "markdown",
   "metadata": {
    "id": "oUKzpJ5Tb1Gi"
   },
   "source": [
    "### Просмотр пустых значений в датафрейме `user_data`\n",
    "\n",
    "Значение в столбце Non-Null Count описывает, сколько НЕпустых значений хранится в колонке. \n",
    "Это число (2954) совпадает с количеством строк всего датафрейма, следобвательно, *пустых значений нет*."
   ]
  },
  {
   "cell_type": "code",
   "execution_count": 3,
   "metadata": {
    "id": "ruf41kM3b1Gk"
   },
   "outputs": [
    {
     "name": "stdout",
     "output_type": "stream",
     "text": [
      "<class 'pandas.core.frame.DataFrame'>\n",
      "RangeIndex: 2954 entries, 0 to 2953\n",
      "Data columns (total 3 columns):\n",
      " #   Column   Non-Null Count  Dtype\n",
      "---  ------   --------------  -----\n",
      " 0   client   2954 non-null   int64\n",
      " 1   premium  2954 non-null   bool \n",
      " 2   age      2954 non-null   int64\n",
      "dtypes: bool(1), int64(2)\n",
      "memory usage: 49.2 KB\n"
     ]
    }
   ],
   "source": [
    "user_data.info()\n"
   ]
  },
  {
   "cell_type": "markdown",
   "metadata": {
    "id": "QkZR6KsJb1Gr"
   },
   "source": [
    "## Задача 1\n",
    "### Клиенты с наибольшим количеством успешных ответов.\n",
    "\n",
    "Cтартап выбирает амбассадоров продукта, чтобы через них продвигать игру. Для этого менеджер хочет встретиться с наиболее активными клиентами, которые дают больше других верных ответов. Задача — выявить таких клиентов."
   ]
  },
  {
   "cell_type": "markdown",
   "metadata": {
    "id": "C6eafRDJb1Gs"
   },
   "source": [
    "#### Для выполнения задачи отбираем из данных только успешные ответы (строки, где значение в столбце `success` датафрейма `logs` равно `True`) и считаем количество строк и находим максимальное."
   ]
  },
  {
   "cell_type": "code",
   "execution_count": 5,
   "metadata": {
    "id": "vPb1kFI5b1Gs",
    "scrolled": true
   },
   "outputs": [
    {
     "data": {
      "text/html": [
       "<div>\n",
       "<style scoped>\n",
       "    .dataframe tbody tr th:only-of-type {\n",
       "        vertical-align: middle;\n",
       "    }\n",
       "\n",
       "    .dataframe tbody tr th {\n",
       "        vertical-align: top;\n",
       "    }\n",
       "\n",
       "    .dataframe thead th {\n",
       "        text-align: right;\n",
       "    }\n",
       "</style>\n",
       "<table border=\"1\" class=\"dataframe\">\n",
       "  <thead>\n",
       "    <tr style=\"text-align: right;\">\n",
       "      <th></th>\n",
       "      <th>client</th>\n",
       "      <th>success</th>\n",
       "      <th>platform</th>\n",
       "      <th>time</th>\n",
       "    </tr>\n",
       "  </thead>\n",
       "  <tbody>\n",
       "    <tr>\n",
       "      <th>0</th>\n",
       "      <td>40177</td>\n",
       "      <td>True</td>\n",
       "      <td>phone</td>\n",
       "      <td>1585412212</td>\n",
       "    </tr>\n",
       "    <tr>\n",
       "      <th>1</th>\n",
       "      <td>61468</td>\n",
       "      <td>True</td>\n",
       "      <td>phone</td>\n",
       "      <td>1585425658</td>\n",
       "    </tr>\n",
       "    <tr>\n",
       "      <th>3</th>\n",
       "      <td>9961</td>\n",
       "      <td>True</td>\n",
       "      <td>phone</td>\n",
       "      <td>1585400189</td>\n",
       "    </tr>\n",
       "    <tr>\n",
       "      <th>4</th>\n",
       "      <td>10931</td>\n",
       "      <td>True</td>\n",
       "      <td>computer</td>\n",
       "      <td>1585468629</td>\n",
       "    </tr>\n",
       "    <tr>\n",
       "      <th>5</th>\n",
       "      <td>41928</td>\n",
       "      <td>True</td>\n",
       "      <td>phone</td>\n",
       "      <td>1585446772</td>\n",
       "    </tr>\n",
       "    <tr>\n",
       "      <th>...</th>\n",
       "      <td>...</td>\n",
       "      <td>...</td>\n",
       "      <td>...</td>\n",
       "      <td>...</td>\n",
       "    </tr>\n",
       "    <tr>\n",
       "      <th>4493</th>\n",
       "      <td>92584</td>\n",
       "      <td>True</td>\n",
       "      <td>computer</td>\n",
       "      <td>1585408896</td>\n",
       "    </tr>\n",
       "    <tr>\n",
       "      <th>4494</th>\n",
       "      <td>95152</td>\n",
       "      <td>True</td>\n",
       "      <td>computer</td>\n",
       "      <td>1585420263</td>\n",
       "    </tr>\n",
       "    <tr>\n",
       "      <th>4496</th>\n",
       "      <td>73299</td>\n",
       "      <td>True</td>\n",
       "      <td>phone</td>\n",
       "      <td>1585458370</td>\n",
       "    </tr>\n",
       "    <tr>\n",
       "      <th>4497</th>\n",
       "      <td>8967</td>\n",
       "      <td>True</td>\n",
       "      <td>phone</td>\n",
       "      <td>1585465121</td>\n",
       "    </tr>\n",
       "    <tr>\n",
       "      <th>4499</th>\n",
       "      <td>40921</td>\n",
       "      <td>True</td>\n",
       "      <td>phone</td>\n",
       "      <td>1585437692</td>\n",
       "    </tr>\n",
       "  </tbody>\n",
       "</table>\n",
       "<p>3289 rows × 4 columns</p>\n",
       "</div>"
      ],
      "text/plain": [
       "      client  success  platform        time\n",
       "0      40177     True     phone  1585412212\n",
       "1      61468     True     phone  1585425658\n",
       "3       9961     True     phone  1585400189\n",
       "4      10931     True  computer  1585468629\n",
       "5      41928     True     phone  1585446772\n",
       "...      ...      ...       ...         ...\n",
       "4493   92584     True  computer  1585408896\n",
       "4494   95152     True  computer  1585420263\n",
       "4496   73299     True     phone  1585458370\n",
       "4497    8967     True     phone  1585465121\n",
       "4499   40921     True     phone  1585437692\n",
       "\n",
       "[3289 rows x 4 columns]"
      ]
     },
     "execution_count": 5,
     "metadata": {},
     "output_type": "execute_result"
    }
   ],
   "source": [
    "logs.query('success==True')\n"
   ]
  },
  {
   "cell_type": "code",
   "execution_count": 6,
   "metadata": {
    "id": "IjoYLqN5b1Gs"
   },
   "outputs": [
    {
     "data": {
      "text/plain": [
       "36165    41\n",
       "61468    41\n",
       "12179    41\n",
       "61473    41\n",
       "78349    41\n",
       "         ..\n",
       "36194     1\n",
       "57752     1\n",
       "84618     1\n",
       "53228     1\n",
       "36864     1\n",
       "Name: client, Length: 2845, dtype: int64"
      ]
     },
     "execution_count": 6,
     "metadata": {},
     "output_type": "execute_result"
    }
   ],
   "source": [
    "count_success_answ=logs.loc[logs.success==True].client.value_counts()\n",
    "count_success_answ"
   ]
  },
  {
   "cell_type": "code",
   "execution_count": 7,
   "metadata": {
    "id": "khPdXNTcb1G5"
   },
   "outputs": [],
   "source": [
    "mx=count_success_answ.max()\n",
    "\n"
   ]
  },
  {
   "cell_type": "markdown",
   "metadata": {
    "id": "yp_s4EI0b1G6"
   },
   "source": [
    " #### Оставляем только записи о клиентах, которые дали максимальное число успешных ответов."
   ]
  },
  {
   "cell_type": "code",
   "execution_count": 8,
   "metadata": {
    "id": "WOdQwmPob1G6"
   },
   "outputs": [
    {
     "data": {
      "text/plain": [
       "36165    41\n",
       "61468    41\n",
       "12179    41\n",
       "61473    41\n",
       "78349    41\n",
       "28719    41\n",
       "92584    41\n",
       "52870    41\n",
       "82563    41\n",
       "Name: client, dtype: int64"
      ]
     },
     "execution_count": 8,
     "metadata": {},
     "output_type": "execute_result"
    }
   ],
   "source": [
    "users_max=count_success_answ.loc[count_success_answ==mx]\n",
    "users_max"
   ]
  },
  {
   "cell_type": "markdown",
   "metadata": {
    "id": "MrNSZuyvb1G6"
   },
   "source": [
    "#### И получаем идентификаторы этих клиентов."
   ]
  },
  {
   "cell_type": "code",
   "execution_count": 10,
   "metadata": {
    "id": "I4zQss7xb1G7"
   },
   "outputs": [
    {
     "data": {
      "text/plain": [
       "Int64Index([12179, 28719, 36165, 52870, 61468, 61473, 78349, 82563, 92584], dtype='int64')"
      ]
     },
     "execution_count": 10,
     "metadata": {},
     "output_type": "execute_result"
    }
   ],
   "source": [
    "users_max.index.sort_values()\n",
    "\n"
   ]
  },
  {
   "cell_type": "markdown",
   "metadata": {
    "id": "Y5wEsr6Ub1HW"
   },
   "source": [
    "## Задача 2\n",
    "### Платформа, с какой было дано наибольшее количество успешных ответов\n",
    "Команда стартапа хочет развивать свою игру, но имеет ограниченные ресурсы, поэтому решила определиться, с какой платформы стоит начать.\n",
    "\n",
    "\n",
    "\n",
    "(phone)"
   ]
  },
  {
   "cell_type": "markdown",
   "metadata": {
    "id": "nkdgirg9b1HX"
   },
   "source": [
    "#### Отбираем только успешные ответы."
   ]
  },
  {
   "cell_type": "code",
   "execution_count": 11,
   "metadata": {
    "id": "j8WtLIDfb1HX"
   },
   "outputs": [
    {
     "data": {
      "text/html": [
       "<div>\n",
       "<style scoped>\n",
       "    .dataframe tbody tr th:only-of-type {\n",
       "        vertical-align: middle;\n",
       "    }\n",
       "\n",
       "    .dataframe tbody tr th {\n",
       "        vertical-align: top;\n",
       "    }\n",
       "\n",
       "    .dataframe thead th {\n",
       "        text-align: right;\n",
       "    }\n",
       "</style>\n",
       "<table border=\"1\" class=\"dataframe\">\n",
       "  <thead>\n",
       "    <tr style=\"text-align: right;\">\n",
       "      <th></th>\n",
       "      <th>client</th>\n",
       "      <th>success</th>\n",
       "      <th>platform</th>\n",
       "      <th>time</th>\n",
       "    </tr>\n",
       "  </thead>\n",
       "  <tbody>\n",
       "    <tr>\n",
       "      <th>0</th>\n",
       "      <td>40177</td>\n",
       "      <td>True</td>\n",
       "      <td>phone</td>\n",
       "      <td>1585412212</td>\n",
       "    </tr>\n",
       "    <tr>\n",
       "      <th>1</th>\n",
       "      <td>61468</td>\n",
       "      <td>True</td>\n",
       "      <td>phone</td>\n",
       "      <td>1585425658</td>\n",
       "    </tr>\n",
       "    <tr>\n",
       "      <th>3</th>\n",
       "      <td>9961</td>\n",
       "      <td>True</td>\n",
       "      <td>phone</td>\n",
       "      <td>1585400189</td>\n",
       "    </tr>\n",
       "    <tr>\n",
       "      <th>4</th>\n",
       "      <td>10931</td>\n",
       "      <td>True</td>\n",
       "      <td>computer</td>\n",
       "      <td>1585468629</td>\n",
       "    </tr>\n",
       "    <tr>\n",
       "      <th>5</th>\n",
       "      <td>41928</td>\n",
       "      <td>True</td>\n",
       "      <td>phone</td>\n",
       "      <td>1585446772</td>\n",
       "    </tr>\n",
       "    <tr>\n",
       "      <th>...</th>\n",
       "      <td>...</td>\n",
       "      <td>...</td>\n",
       "      <td>...</td>\n",
       "      <td>...</td>\n",
       "    </tr>\n",
       "    <tr>\n",
       "      <th>4493</th>\n",
       "      <td>92584</td>\n",
       "      <td>True</td>\n",
       "      <td>computer</td>\n",
       "      <td>1585408896</td>\n",
       "    </tr>\n",
       "    <tr>\n",
       "      <th>4494</th>\n",
       "      <td>95152</td>\n",
       "      <td>True</td>\n",
       "      <td>computer</td>\n",
       "      <td>1585420263</td>\n",
       "    </tr>\n",
       "    <tr>\n",
       "      <th>4496</th>\n",
       "      <td>73299</td>\n",
       "      <td>True</td>\n",
       "      <td>phone</td>\n",
       "      <td>1585458370</td>\n",
       "    </tr>\n",
       "    <tr>\n",
       "      <th>4497</th>\n",
       "      <td>8967</td>\n",
       "      <td>True</td>\n",
       "      <td>phone</td>\n",
       "      <td>1585465121</td>\n",
       "    </tr>\n",
       "    <tr>\n",
       "      <th>4499</th>\n",
       "      <td>40921</td>\n",
       "      <td>True</td>\n",
       "      <td>phone</td>\n",
       "      <td>1585437692</td>\n",
       "    </tr>\n",
       "  </tbody>\n",
       "</table>\n",
       "<p>3289 rows × 4 columns</p>\n",
       "</div>"
      ],
      "text/plain": [
       "      client  success  platform        time\n",
       "0      40177     True     phone  1585412212\n",
       "1      61468     True     phone  1585425658\n",
       "3       9961     True     phone  1585400189\n",
       "4      10931     True  computer  1585468629\n",
       "5      41928     True     phone  1585446772\n",
       "...      ...      ...       ...         ...\n",
       "4493   92584     True  computer  1585408896\n",
       "4494   95152     True  computer  1585420263\n",
       "4496   73299     True     phone  1585458370\n",
       "4497    8967     True     phone  1585465121\n",
       "4499   40921     True     phone  1585437692\n",
       "\n",
       "[3289 rows x 4 columns]"
      ]
     },
     "execution_count": 11,
     "metadata": {},
     "output_type": "execute_result"
    }
   ],
   "source": [
    "logs.loc[logs['success'] == True]\n",
    "\n",
    "\n"
   ]
  },
  {
   "cell_type": "markdown",
   "metadata": {
    "id": "z1vGhJtkb1HX"
   },
   "source": [
    "#### Считаем количество успешных ответов с каждой платформы и находим платформу с максимальным значением."
   ]
  },
  {
   "cell_type": "code",
   "execution_count": 12,
   "metadata": {
    "id": "w_62SUoRb1HY",
    "scrolled": true
   },
   "outputs": [
    {
     "data": {
      "text/plain": [
       "phone       2019\n",
       "computer    1090\n",
       "tablet       180\n",
       "Name: platform, dtype: int64"
      ]
     },
     "execution_count": 12,
     "metadata": {},
     "output_type": "execute_result"
    }
   ],
   "source": [
    "cnt_sucs_platform=logs.loc[logs.success==True].platform.value_counts()\n",
    "cnt_sucs_platform"
   ]
  },
  {
   "cell_type": "code",
   "execution_count": 13,
   "metadata": {
    "id": "S0Qf1sLvb1HY"
   },
   "outputs": [
    {
     "data": {
      "text/plain": [
       "'phone'"
      ]
     },
     "execution_count": 13,
     "metadata": {},
     "output_type": "execute_result"
    }
   ],
   "source": [
    "cnt_sucs_platform.idxmax()\n"
   ]
  },
  {
   "cell_type": "markdown",
   "metadata": {
    "id": "8gV2ZaVBb1HZ"
   },
   "source": [
    "## Задача 3\n",
    "### Самая популярная платформа среди премиум-клиентов."
   ]
  },
  {
   "cell_type": "markdown",
   "metadata": {
    "id": "CenGjpvob1HZ"
   },
   "source": [
    "Менеджер продукта выдвинул идею, что стоит сфокусироваться не просто на одной платформе, но ещё и только на сегменте премиум.\n",
    "\n",
    "\n",
    "\n",
    "(phone)"
   ]
  },
  {
   "cell_type": "markdown",
   "metadata": {
    "id": "7Jgm3eJdb1Ha"
   },
   "source": [
    "#### Объединяем датафреймы `user_data` и `logs` по колонке `client`, чтобы собрать вместе информацию о статусе клиента и его активности в приложении"
   ]
  },
  {
   "cell_type": "code",
   "execution_count": 14,
   "metadata": {
    "id": "F639yvjWb1Ha",
    "scrolled": true
   },
   "outputs": [
    {
     "data": {
      "text/html": [
       "<div>\n",
       "<style scoped>\n",
       "    .dataframe tbody tr th:only-of-type {\n",
       "        vertical-align: middle;\n",
       "    }\n",
       "\n",
       "    .dataframe tbody tr th {\n",
       "        vertical-align: top;\n",
       "    }\n",
       "\n",
       "    .dataframe thead th {\n",
       "        text-align: right;\n",
       "    }\n",
       "</style>\n",
       "<table border=\"1\" class=\"dataframe\">\n",
       "  <thead>\n",
       "    <tr style=\"text-align: right;\">\n",
       "      <th></th>\n",
       "      <th>client</th>\n",
       "      <th>premium</th>\n",
       "      <th>age</th>\n",
       "      <th>success</th>\n",
       "      <th>platform</th>\n",
       "      <th>time</th>\n",
       "    </tr>\n",
       "  </thead>\n",
       "  <tbody>\n",
       "    <tr>\n",
       "      <th>0</th>\n",
       "      <td>46346</td>\n",
       "      <td>False</td>\n",
       "      <td>58</td>\n",
       "      <td>True</td>\n",
       "      <td>phone</td>\n",
       "      <td>1585452839</td>\n",
       "    </tr>\n",
       "    <tr>\n",
       "      <th>1</th>\n",
       "      <td>4391</td>\n",
       "      <td>False</td>\n",
       "      <td>55</td>\n",
       "      <td>False</td>\n",
       "      <td>phone</td>\n",
       "      <td>1585409861</td>\n",
       "    </tr>\n",
       "    <tr>\n",
       "      <th>2</th>\n",
       "      <td>27372</td>\n",
       "      <td>False</td>\n",
       "      <td>64</td>\n",
       "      <td>False</td>\n",
       "      <td>phone</td>\n",
       "      <td>1585446018</td>\n",
       "    </tr>\n",
       "    <tr>\n",
       "      <th>3</th>\n",
       "      <td>11989</td>\n",
       "      <td>False</td>\n",
       "      <td>44</td>\n",
       "      <td>True</td>\n",
       "      <td>computer</td>\n",
       "      <td>1585403698</td>\n",
       "    </tr>\n",
       "    <tr>\n",
       "      <th>4</th>\n",
       "      <td>60664</td>\n",
       "      <td>False</td>\n",
       "      <td>49</td>\n",
       "      <td>True</td>\n",
       "      <td>phone</td>\n",
       "      <td>1585406918</td>\n",
       "    </tr>\n",
       "    <tr>\n",
       "      <th>...</th>\n",
       "      <td>...</td>\n",
       "      <td>...</td>\n",
       "      <td>...</td>\n",
       "      <td>...</td>\n",
       "      <td>...</td>\n",
       "      <td>...</td>\n",
       "    </tr>\n",
       "    <tr>\n",
       "      <th>3434</th>\n",
       "      <td>19411</td>\n",
       "      <td>False</td>\n",
       "      <td>29</td>\n",
       "      <td>True</td>\n",
       "      <td>phone</td>\n",
       "      <td>1585400902</td>\n",
       "    </tr>\n",
       "    <tr>\n",
       "      <th>3435</th>\n",
       "      <td>61579</td>\n",
       "      <td>False</td>\n",
       "      <td>50</td>\n",
       "      <td>True</td>\n",
       "      <td>phone</td>\n",
       "      <td>1585436158</td>\n",
       "    </tr>\n",
       "    <tr>\n",
       "      <th>3436</th>\n",
       "      <td>61221</td>\n",
       "      <td>True</td>\n",
       "      <td>64</td>\n",
       "      <td>True</td>\n",
       "      <td>phone</td>\n",
       "      <td>1585440218</td>\n",
       "    </tr>\n",
       "    <tr>\n",
       "      <th>3437</th>\n",
       "      <td>29863</td>\n",
       "      <td>False</td>\n",
       "      <td>46</td>\n",
       "      <td>True</td>\n",
       "      <td>tablet</td>\n",
       "      <td>1585443437</td>\n",
       "    </tr>\n",
       "    <tr>\n",
       "      <th>3438</th>\n",
       "      <td>78499</td>\n",
       "      <td>False</td>\n",
       "      <td>36</td>\n",
       "      <td>False</td>\n",
       "      <td>phone</td>\n",
       "      <td>1585425483</td>\n",
       "    </tr>\n",
       "  </tbody>\n",
       "</table>\n",
       "<p>3439 rows × 6 columns</p>\n",
       "</div>"
      ],
      "text/plain": [
       "      client  premium  age  success  platform        time\n",
       "0      46346    False   58     True     phone  1585452839\n",
       "1       4391    False   55    False     phone  1585409861\n",
       "2      27372    False   64    False     phone  1585446018\n",
       "3      11989    False   44     True  computer  1585403698\n",
       "4      60664    False   49     True     phone  1585406918\n",
       "...      ...      ...  ...      ...       ...         ...\n",
       "3434   19411    False   29     True     phone  1585400902\n",
       "3435   61579    False   50     True     phone  1585436158\n",
       "3436   61221     True   64     True     phone  1585440218\n",
       "3437   29863    False   46     True    tablet  1585443437\n",
       "3438   78499    False   36    False     phone  1585425483\n",
       "\n",
       "[3439 rows x 6 columns]"
      ]
     },
     "execution_count": 14,
     "metadata": {},
     "output_type": "execute_result"
    }
   ],
   "source": [
    "client_info=user_data.merge(logs, on='client', how='inner')\n",
    "client_info"
   ]
  },
  {
   "cell_type": "code",
   "execution_count": 15,
   "metadata": {
    "id": "pBms6ejbb1Hb"
   },
   "outputs": [
    {
     "data": {
      "text/html": [
       "<div>\n",
       "<style scoped>\n",
       "    .dataframe tbody tr th:only-of-type {\n",
       "        vertical-align: middle;\n",
       "    }\n",
       "\n",
       "    .dataframe tbody tr th {\n",
       "        vertical-align: top;\n",
       "    }\n",
       "\n",
       "    .dataframe thead th {\n",
       "        text-align: right;\n",
       "    }\n",
       "</style>\n",
       "<table border=\"1\" class=\"dataframe\">\n",
       "  <thead>\n",
       "    <tr style=\"text-align: right;\">\n",
       "      <th></th>\n",
       "      <th>client</th>\n",
       "      <th>premium</th>\n",
       "      <th>age</th>\n",
       "      <th>success</th>\n",
       "      <th>platform</th>\n",
       "      <th>time</th>\n",
       "    </tr>\n",
       "  </thead>\n",
       "  <tbody>\n",
       "    <tr>\n",
       "      <th>0</th>\n",
       "      <td>46346</td>\n",
       "      <td>False</td>\n",
       "      <td>58</td>\n",
       "      <td>True</td>\n",
       "      <td>phone</td>\n",
       "      <td>1585452839</td>\n",
       "    </tr>\n",
       "    <tr>\n",
       "      <th>1</th>\n",
       "      <td>4391</td>\n",
       "      <td>False</td>\n",
       "      <td>55</td>\n",
       "      <td>False</td>\n",
       "      <td>phone</td>\n",
       "      <td>1585409861</td>\n",
       "    </tr>\n",
       "    <tr>\n",
       "      <th>2</th>\n",
       "      <td>27372</td>\n",
       "      <td>False</td>\n",
       "      <td>64</td>\n",
       "      <td>False</td>\n",
       "      <td>phone</td>\n",
       "      <td>1585446018</td>\n",
       "    </tr>\n",
       "    <tr>\n",
       "      <th>3</th>\n",
       "      <td>11989</td>\n",
       "      <td>False</td>\n",
       "      <td>44</td>\n",
       "      <td>True</td>\n",
       "      <td>computer</td>\n",
       "      <td>1585403698</td>\n",
       "    </tr>\n",
       "    <tr>\n",
       "      <th>4</th>\n",
       "      <td>60664</td>\n",
       "      <td>False</td>\n",
       "      <td>49</td>\n",
       "      <td>True</td>\n",
       "      <td>phone</td>\n",
       "      <td>1585406918</td>\n",
       "    </tr>\n",
       "  </tbody>\n",
       "</table>\n",
       "</div>"
      ],
      "text/plain": [
       "   client  premium  age  success  platform        time\n",
       "0   46346    False   58     True     phone  1585452839\n",
       "1    4391    False   55    False     phone  1585409861\n",
       "2   27372    False   64    False     phone  1585446018\n",
       "3   11989    False   44     True  computer  1585403698\n",
       "4   60664    False   49     True     phone  1585406918"
      ]
     },
     "execution_count": 15,
     "metadata": {},
     "output_type": "execute_result"
    }
   ],
   "source": [
    "client_info.head()\n"
   ]
  },
  {
   "cell_type": "markdown",
   "metadata": {
    "id": "mZ7fx3Xnb1Hb"
   },
   "source": [
    "#### Отбераем записи о премиум-клиентах"
   ]
  },
  {
   "cell_type": "code",
   "execution_count": 19,
   "metadata": {
    "id": "LSB7s-fnb1Hc"
   },
   "outputs": [
    {
     "data": {
      "text/html": [
       "<div>\n",
       "<style scoped>\n",
       "    .dataframe tbody tr th:only-of-type {\n",
       "        vertical-align: middle;\n",
       "    }\n",
       "\n",
       "    .dataframe tbody tr th {\n",
       "        vertical-align: top;\n",
       "    }\n",
       "\n",
       "    .dataframe thead th {\n",
       "        text-align: right;\n",
       "    }\n",
       "</style>\n",
       "<table border=\"1\" class=\"dataframe\">\n",
       "  <thead>\n",
       "    <tr style=\"text-align: right;\">\n",
       "      <th></th>\n",
       "      <th>client</th>\n",
       "      <th>premium</th>\n",
       "      <th>age</th>\n",
       "      <th>success</th>\n",
       "      <th>platform</th>\n",
       "      <th>time</th>\n",
       "    </tr>\n",
       "  </thead>\n",
       "  <tbody>\n",
       "    <tr>\n",
       "      <th>23</th>\n",
       "      <td>74867</td>\n",
       "      <td>True</td>\n",
       "      <td>27</td>\n",
       "      <td>False</td>\n",
       "      <td>computer</td>\n",
       "      <td>1585452086</td>\n",
       "    </tr>\n",
       "    <tr>\n",
       "      <th>24</th>\n",
       "      <td>49379</td>\n",
       "      <td>True</td>\n",
       "      <td>25</td>\n",
       "      <td>False</td>\n",
       "      <td>computer</td>\n",
       "      <td>1585433626</td>\n",
       "    </tr>\n",
       "    <tr>\n",
       "      <th>25</th>\n",
       "      <td>88203</td>\n",
       "      <td>True</td>\n",
       "      <td>35</td>\n",
       "      <td>True</td>\n",
       "      <td>phone</td>\n",
       "      <td>1585450059</td>\n",
       "    </tr>\n",
       "    <tr>\n",
       "      <th>30</th>\n",
       "      <td>32603</td>\n",
       "      <td>True</td>\n",
       "      <td>20</td>\n",
       "      <td>True</td>\n",
       "      <td>computer</td>\n",
       "      <td>1585473383</td>\n",
       "    </tr>\n",
       "    <tr>\n",
       "      <th>52</th>\n",
       "      <td>53182</td>\n",
       "      <td>True</td>\n",
       "      <td>24</td>\n",
       "      <td>True</td>\n",
       "      <td>phone</td>\n",
       "      <td>1585406474</td>\n",
       "    </tr>\n",
       "    <tr>\n",
       "      <th>...</th>\n",
       "      <td>...</td>\n",
       "      <td>...</td>\n",
       "      <td>...</td>\n",
       "      <td>...</td>\n",
       "      <td>...</td>\n",
       "      <td>...</td>\n",
       "    </tr>\n",
       "    <tr>\n",
       "      <th>3413</th>\n",
       "      <td>52373</td>\n",
       "      <td>True</td>\n",
       "      <td>36</td>\n",
       "      <td>True</td>\n",
       "      <td>phone</td>\n",
       "      <td>1585405142</td>\n",
       "    </tr>\n",
       "    <tr>\n",
       "      <th>3415</th>\n",
       "      <td>13688</td>\n",
       "      <td>True</td>\n",
       "      <td>66</td>\n",
       "      <td>True</td>\n",
       "      <td>computer</td>\n",
       "      <td>1585453923</td>\n",
       "    </tr>\n",
       "    <tr>\n",
       "      <th>3419</th>\n",
       "      <td>40643</td>\n",
       "      <td>True</td>\n",
       "      <td>22</td>\n",
       "      <td>True</td>\n",
       "      <td>phone</td>\n",
       "      <td>1585413473</td>\n",
       "    </tr>\n",
       "    <tr>\n",
       "      <th>3432</th>\n",
       "      <td>53774</td>\n",
       "      <td>True</td>\n",
       "      <td>50</td>\n",
       "      <td>True</td>\n",
       "      <td>phone</td>\n",
       "      <td>1585422804</td>\n",
       "    </tr>\n",
       "    <tr>\n",
       "      <th>3436</th>\n",
       "      <td>61221</td>\n",
       "      <td>True</td>\n",
       "      <td>64</td>\n",
       "      <td>True</td>\n",
       "      <td>phone</td>\n",
       "      <td>1585440218</td>\n",
       "    </tr>\n",
       "  </tbody>\n",
       "</table>\n",
       "<p>420 rows × 6 columns</p>\n",
       "</div>"
      ],
      "text/plain": [
       "      client  premium  age  success  platform        time\n",
       "23     74867     True   27    False  computer  1585452086\n",
       "24     49379     True   25    False  computer  1585433626\n",
       "25     88203     True   35     True     phone  1585450059\n",
       "30     32603     True   20     True  computer  1585473383\n",
       "52     53182     True   24     True     phone  1585406474\n",
       "...      ...      ...  ...      ...       ...         ...\n",
       "3413   52373     True   36     True     phone  1585405142\n",
       "3415   13688     True   66     True  computer  1585453923\n",
       "3419   40643     True   22     True     phone  1585413473\n",
       "3432   53774     True   50     True     phone  1585422804\n",
       "3436   61221     True   64     True     phone  1585440218\n",
       "\n",
       "[420 rows x 6 columns]"
      ]
     },
     "execution_count": 19,
     "metadata": {},
     "output_type": "execute_result"
    }
   ],
   "source": [
    "client_prem=client_info.loc[client_info.premium==True]\n",
    "client_prem"
   ]
  },
  {
   "cell_type": "markdown",
   "metadata": {
    "id": "7SZcHK6Fb1Hc"
   },
   "source": [
    "#### Считаем количество ответов премиум-клиентов с каждой платформы"
   ]
  },
  {
   "cell_type": "code",
   "execution_count": 17,
   "metadata": {
    "id": "i7YCr7ITb1Hc"
   },
   "outputs": [
    {
     "data": {
      "text/plain": [
       "phone       246\n",
       "computer    150\n",
       "tablet       24\n",
       "Name: platform, dtype: int64"
      ]
     },
     "execution_count": 17,
     "metadata": {},
     "output_type": "execute_result"
    }
   ],
   "source": [
    "client_prem_cnt_answ=client_prem.platform.value_counts()\n",
    "client_prem_cnt_answ"
   ]
  },
  {
   "cell_type": "markdown",
   "metadata": {
    "id": "FtoIt3exb1Hd"
   },
   "source": [
    "#### Определяем платформу с наибольшим количеством ответов премиум-клиентов"
   ]
  },
  {
   "cell_type": "code",
   "execution_count": 18,
   "metadata": {
    "id": "5KM1YeK_b1Hd"
   },
   "outputs": [
    {
     "data": {
      "text/plain": [
       "'phone'"
      ]
     },
     "execution_count": 18,
     "metadata": {},
     "output_type": "execute_result"
    }
   ],
   "source": [
    "client_prem_cnt_answ.idxmax()"
   ]
  },
  {
   "cell_type": "markdown",
   "metadata": {
    "id": "dUG5Vsumb1Hg"
   },
   "source": [
    "## Задача 4\n",
    "### Сравнение самой популярной платформы с остальными платформами.\n",
    "Менеджер хочет посмотреть, насколько она более востребованная, чем остальные платформы. Сравнивать числа удобнее не в таблице, а на графике.\n",
    "\n",
    "\n",
    "Построим график, демонстрирующий количество ответов премиум-клиентов на каждой платформе."
   ]
  },
  {
   "cell_type": "markdown",
   "metadata": {
    "id": "zZw26ArDb1Hh"
   },
   "source": [
    "#### Отберём записи о премиум-клиентах и посчитаем количество их ответов для каждой платформы."
   ]
  },
  {
   "cell_type": "code",
   "execution_count": 22,
   "metadata": {
    "id": "BP2dzQa8b1Hh"
   },
   "outputs": [
    {
     "data": {
      "text/plain": [
       "phone       246\n",
       "computer    150\n",
       "tablet       24\n",
       "Name: platform, dtype: int64"
      ]
     },
     "execution_count": 22,
     "metadata": {},
     "output_type": "execute_result"
    }
   ],
   "source": [
    "cl_premium_platform_data = client_info.query('premium == True').platform.value_counts()\n",
    "cl_premium_platform_data"
   ]
  },
  {
   "cell_type": "markdown",
   "metadata": {
    "id": "lvlhjeAJb1H7"
   },
   "source": [
    "#### Построим столбчатую диаграмму, где по оси y будут названия платформ, а по оси x - количество ответов."
   ]
  },
  {
   "cell_type": "code",
   "execution_count": 23,
   "metadata": {
    "id": "ffstDEARb1H8"
   },
   "outputs": [
    {
     "data": {
      "text/plain": [
       "<BarContainer object of 3 artists>"
      ]
     },
     "execution_count": 23,
     "metadata": {},
     "output_type": "execute_result"
    },
    {
     "data": {
      "image/png": "[encoded data removed]",
      "text/plain": [
       "<Figure size 432x288 with 1 Axes>"
      ]
     },
     "metadata": {
      "needs_background": "light"
     },
     "output_type": "display_data"
    }
   ],
   "source": [
    "plt.barh(cl_premium_platform_data.index, cl_premium_platform_data)\n"
   ]
  },
  {
   "cell_type": "markdown",
   "metadata": {
    "id": "kZ9jdG5pb1H-"
   },
   "source": [
    "## Задача 5\n",
    "\n",
    "### Категория клиентов с высшей долей неуспешных ответов.\n",
    "\n",
    "Возможно, команде стоит сфокусироваться на работе именно с премиум-клиентами. Посмотрим на долю неуспешных ответов от всего количества ответов — отдельно у премиум и обычных клиентов. "
   ]
  },
  {
   "cell_type": "markdown",
   "metadata": {
    "id": "r4kUz5Vyb1H-"
   },
   "source": [
    "#### Группируем объединенный датафрейм, полученный на прошлом шаге, по категории клиентов (колонка `premium`) и успешности ответа (колонка `success`), затем посчитаем количество записей для каждой группы."
   ]
  },
  {
   "cell_type": "code",
   "execution_count": 24,
   "metadata": {
    "id": "9WNToBOMb1H_"
   },
   "outputs": [
    {
     "data": {
      "text/html": [
       "<div>\n",
       "<style scoped>\n",
       "    .dataframe tbody tr th:only-of-type {\n",
       "        vertical-align: middle;\n",
       "    }\n",
       "\n",
       "    .dataframe tbody tr th {\n",
       "        vertical-align: top;\n",
       "    }\n",
       "\n",
       "    .dataframe thead th {\n",
       "        text-align: right;\n",
       "    }\n",
       "</style>\n",
       "<table border=\"1\" class=\"dataframe\">\n",
       "  <thead>\n",
       "    <tr style=\"text-align: right;\">\n",
       "      <th></th>\n",
       "      <th>premium</th>\n",
       "      <th>success</th>\n",
       "      <th>client</th>\n",
       "    </tr>\n",
       "  </thead>\n",
       "  <tbody>\n",
       "    <tr>\n",
       "      <th>0</th>\n",
       "      <td>False</td>\n",
       "      <td>False</td>\n",
       "      <td>775</td>\n",
       "    </tr>\n",
       "    <tr>\n",
       "      <th>1</th>\n",
       "      <td>False</td>\n",
       "      <td>True</td>\n",
       "      <td>2244</td>\n",
       "    </tr>\n",
       "    <tr>\n",
       "      <th>2</th>\n",
       "      <td>True</td>\n",
       "      <td>False</td>\n",
       "      <td>117</td>\n",
       "    </tr>\n",
       "    <tr>\n",
       "      <th>3</th>\n",
       "      <td>True</td>\n",
       "      <td>True</td>\n",
       "      <td>303</td>\n",
       "    </tr>\n",
       "  </tbody>\n",
       "</table>\n",
       "</div>"
      ],
      "text/plain": [
       "   premium  success  client\n",
       "0    False    False     775\n",
       "1    False     True    2244\n",
       "2     True    False     117\n",
       "3     True     True     303"
      ]
     },
     "execution_count": 24,
     "metadata": {},
     "output_type": "execute_result"
    }
   ],
   "source": [
    "cl_premium_platform_data=client_info.groupby(['premium', 'success'], as_index = False).agg({'client':'count'})\n",
    "cl_premium_platform_data"
   ]
  },
  {
   "cell_type": "markdown",
   "metadata": {
    "id": "0lWXmOJIb1H_"
   },
   "source": [
    "####  Преобразуем форму агрегированного датафрейма так, чтобы в строках была категория клиента (премиум или нет), в колонках успешность результата (да или нет), а в значениях — количество записей для каждой группы."
   ]
  },
  {
   "cell_type": "code",
   "execution_count": 25,
   "metadata": {
    "id": "yDpxg-DDb1H_"
   },
   "outputs": [
    {
     "data": {
      "text/html": [
       "<div>\n",
       "<style scoped>\n",
       "    .dataframe tbody tr th:only-of-type {\n",
       "        vertical-align: middle;\n",
       "    }\n",
       "\n",
       "    .dataframe tbody tr th {\n",
       "        vertical-align: top;\n",
       "    }\n",
       "\n",
       "    .dataframe thead th {\n",
       "        text-align: right;\n",
       "    }\n",
       "</style>\n",
       "<table border=\"1\" class=\"dataframe\">\n",
       "  <thead>\n",
       "    <tr style=\"text-align: right;\">\n",
       "      <th>success</th>\n",
       "      <th>False</th>\n",
       "      <th>True</th>\n",
       "    </tr>\n",
       "    <tr>\n",
       "      <th>premium</th>\n",
       "      <th></th>\n",
       "      <th></th>\n",
       "    </tr>\n",
       "  </thead>\n",
       "  <tbody>\n",
       "    <tr>\n",
       "      <th>False</th>\n",
       "      <td>775</td>\n",
       "      <td>2244</td>\n",
       "    </tr>\n",
       "    <tr>\n",
       "      <th>True</th>\n",
       "      <td>117</td>\n",
       "      <td>303</td>\n",
       "    </tr>\n",
       "  </tbody>\n",
       "</table>\n",
       "</div>"
      ],
      "text/plain": [
       "success  False  True \n",
       "premium              \n",
       "False      775   2244\n",
       "True       117    303"
      ]
     },
     "execution_count": 25,
     "metadata": {},
     "output_type": "execute_result"
    }
   ],
   "source": [
    "cl_prem_platform_pivot=cl_premium_platform_data.pivot(index = 'premium', columns = 'success', values = 'client')\n",
    "cl_prem_platform_pivot"
   ]
  },
  {
   "cell_type": "markdown",
   "metadata": {
    "id": "b4knWHm3b1IA"
   },
   "source": [
    "#### Создаём новую колонку с долей неуспешных ответов от всего количества ответов. Для этого разделим колонку с числом неуспешных ответов на сумму значений из колонок с числом успешных и неуспешных ответов."
   ]
  },
  {
   "cell_type": "code",
   "execution_count": 26,
   "metadata": {
    "id": "vw9hZ0Knb1IA"
   },
   "outputs": [
    {
     "data": {
      "text/html": [
       "<div>\n",
       "<style scoped>\n",
       "    .dataframe tbody tr th:only-of-type {\n",
       "        vertical-align: middle;\n",
       "    }\n",
       "\n",
       "    .dataframe tbody tr th {\n",
       "        vertical-align: top;\n",
       "    }\n",
       "\n",
       "    .dataframe thead th {\n",
       "        text-align: right;\n",
       "    }\n",
       "</style>\n",
       "<table border=\"1\" class=\"dataframe\">\n",
       "  <thead>\n",
       "    <tr style=\"text-align: right;\">\n",
       "      <th>success</th>\n",
       "      <th>False</th>\n",
       "      <th>True</th>\n",
       "      <th>unsuccess_rate</th>\n",
       "    </tr>\n",
       "    <tr>\n",
       "      <th>premium</th>\n",
       "      <th></th>\n",
       "      <th></th>\n",
       "      <th></th>\n",
       "    </tr>\n",
       "  </thead>\n",
       "  <tbody>\n",
       "    <tr>\n",
       "      <th>False</th>\n",
       "      <td>775</td>\n",
       "      <td>2244</td>\n",
       "      <td>0.225356</td>\n",
       "    </tr>\n",
       "    <tr>\n",
       "      <th>True</th>\n",
       "      <td>117</td>\n",
       "      <td>303</td>\n",
       "      <td>0.034022</td>\n",
       "    </tr>\n",
       "  </tbody>\n",
       "</table>\n",
       "</div>"
      ],
      "text/plain": [
       "success  False  True  unsuccess_rate\n",
       "premium                             \n",
       "False      775  2244        0.225356\n",
       "True       117   303        0.034022"
      ]
     },
     "execution_count": 26,
     "metadata": {},
     "output_type": "execute_result"
    }
   ],
   "source": [
    "cl_prem_platform_pivot['unsuccess_rate'] = (cl_prem_platform_pivot[False] / (cl_prem_platform_pivot[True].sum() + cl_prem_platform_pivot[False].sum()))\n",
    "cl_prem_platform_pivot"
   ]
  },
  {
   "cell_type": "markdown",
   "metadata": {
    "id": "3S0ST20gb1IA"
   },
   "source": [
    "####  У какой категории клиентов (премиум или обычных) доля неуспешных ответов выше, т.е. в какой строке значение больше?\n",
    "\n",
    "\n",
    "В строке с индексом False значение доли для обычных клиентов, а в строке с индексом True - для премиум.\n",
    "\n",
    "Доля неуспешных ответов выше у обычных клиентов."
   ]
  },
  {
   "cell_type": "markdown",
   "metadata": {
    "id": "ZmEyctRlb1IC"
   },
   "source": [
    "## Задача 6\n",
    "### Сравнение возраста премиум и обычных клиентов.\n",
    "\n",
    "У команды всё ещё есть сомнения по поводу работы только с премиум-клиентами. Посмотрим, как возраст премиум-клиентов отличается от возраста обычных. \n",
    "\n",
    "(премиум-клиентов возраста примерно 35-39 лет меньше, чем обычных клиентов этого же возраста)"
   ]
  },
  {
   "cell_type": "markdown",
   "metadata": {
    "id": "fHaMsxX9b1IC"
   },
   "source": [
    "#### Строим график распределения возраста премиум-клиентов."
   ]
  },
  {
   "cell_type": "code",
   "execution_count": 31,
   "metadata": {
    "id": "ZBw6o6_Jb1IC"
   },
   "outputs": [
    {
     "data": {
      "image/png": "[encoded data removed]",
      "text/plain": [
       "<Figure size 432x288 with 1 Axes>"
      ]
     },
     "metadata": {
      "needs_background": "light"
     },
     "output_type": "display_data"
    }
   ],
   "source": [
    "prem_age_compare=client_info.query('premium == True') \n",
    "plt.subplot(2, 1, 1)\n",
    "plt.hist(prem_age_compare['age'])\n",
    "plt.title('Возраст премиум-клиентов')\n",
    "plt.ylabel('Количество пользователей')\n",
    "plt.xlabel('Возраст')\n",
    "plt.grid()"
   ]
  },
  {
   "cell_type": "markdown",
   "metadata": {
    "id": "W1tX2p4bb1IE"
   },
   "source": [
    "### График распределения количества успешных ответов на пользователя\n",
    "По оси `x` - число успешных ответов, а по оси `y` - сколько пользователей дали такое число успешных ответов.\n",
    "\n",
    "Посмотрев на аналитику по премиум-клиентам, команда стартапа решила всё-таки работать со всеми категориями клиентов и в первую очередь обратить внимание на число успешных и неуспешных ответов. "
   ]
  },
  {
   "cell_type": "markdown",
   "metadata": {
    "id": "YT7CECX5b1IF"
   },
   "source": [
    "#### Отберём успешные ответы.\n",
    "(строки, где значение в столбце `success` датафрейма `logs` равно `True`)"
   ]
  },
  {
   "cell_type": "code",
   "execution_count": 32,
   "metadata": {
    "id": "g8JlKpoZb1IF"
   },
   "outputs": [
    {
     "data": {
      "text/html": [
       "<div>\n",
       "<style scoped>\n",
       "    .dataframe tbody tr th:only-of-type {\n",
       "        vertical-align: middle;\n",
       "    }\n",
       "\n",
       "    .dataframe tbody tr th {\n",
       "        vertical-align: top;\n",
       "    }\n",
       "\n",
       "    .dataframe thead th {\n",
       "        text-align: right;\n",
       "    }\n",
       "</style>\n",
       "<table border=\"1\" class=\"dataframe\">\n",
       "  <thead>\n",
       "    <tr style=\"text-align: right;\">\n",
       "      <th></th>\n",
       "      <th>client</th>\n",
       "      <th>success</th>\n",
       "      <th>platform</th>\n",
       "      <th>time</th>\n",
       "    </tr>\n",
       "  </thead>\n",
       "  <tbody>\n",
       "    <tr>\n",
       "      <th>0</th>\n",
       "      <td>40177</td>\n",
       "      <td>True</td>\n",
       "      <td>phone</td>\n",
       "      <td>1585412212</td>\n",
       "    </tr>\n",
       "    <tr>\n",
       "      <th>1</th>\n",
       "      <td>61468</td>\n",
       "      <td>True</td>\n",
       "      <td>phone</td>\n",
       "      <td>1585425658</td>\n",
       "    </tr>\n",
       "    <tr>\n",
       "      <th>3</th>\n",
       "      <td>9961</td>\n",
       "      <td>True</td>\n",
       "      <td>phone</td>\n",
       "      <td>1585400189</td>\n",
       "    </tr>\n",
       "    <tr>\n",
       "      <th>4</th>\n",
       "      <td>10931</td>\n",
       "      <td>True</td>\n",
       "      <td>computer</td>\n",
       "      <td>1585468629</td>\n",
       "    </tr>\n",
       "    <tr>\n",
       "      <th>5</th>\n",
       "      <td>41928</td>\n",
       "      <td>True</td>\n",
       "      <td>phone</td>\n",
       "      <td>1585446772</td>\n",
       "    </tr>\n",
       "    <tr>\n",
       "      <th>...</th>\n",
       "      <td>...</td>\n",
       "      <td>...</td>\n",
       "      <td>...</td>\n",
       "      <td>...</td>\n",
       "    </tr>\n",
       "    <tr>\n",
       "      <th>4493</th>\n",
       "      <td>92584</td>\n",
       "      <td>True</td>\n",
       "      <td>computer</td>\n",
       "      <td>1585408896</td>\n",
       "    </tr>\n",
       "    <tr>\n",
       "      <th>4494</th>\n",
       "      <td>95152</td>\n",
       "      <td>True</td>\n",
       "      <td>computer</td>\n",
       "      <td>1585420263</td>\n",
       "    </tr>\n",
       "    <tr>\n",
       "      <th>4496</th>\n",
       "      <td>73299</td>\n",
       "      <td>True</td>\n",
       "      <td>phone</td>\n",
       "      <td>1585458370</td>\n",
       "    </tr>\n",
       "    <tr>\n",
       "      <th>4497</th>\n",
       "      <td>8967</td>\n",
       "      <td>True</td>\n",
       "      <td>phone</td>\n",
       "      <td>1585465121</td>\n",
       "    </tr>\n",
       "    <tr>\n",
       "      <th>4499</th>\n",
       "      <td>40921</td>\n",
       "      <td>True</td>\n",
       "      <td>phone</td>\n",
       "      <td>1585437692</td>\n",
       "    </tr>\n",
       "  </tbody>\n",
       "</table>\n",
       "<p>3289 rows × 4 columns</p>\n",
       "</div>"
      ],
      "text/plain": [
       "      client  success  platform        time\n",
       "0      40177     True     phone  1585412212\n",
       "1      61468     True     phone  1585425658\n",
       "3       9961     True     phone  1585400189\n",
       "4      10931     True  computer  1585468629\n",
       "5      41928     True     phone  1585446772\n",
       "...      ...      ...       ...         ...\n",
       "4493   92584     True  computer  1585408896\n",
       "4494   95152     True  computer  1585420263\n",
       "4496   73299     True     phone  1585458370\n",
       "4497    8967     True     phone  1585465121\n",
       "4499   40921     True     phone  1585437692\n",
       "\n",
       "[3289 rows x 4 columns]"
      ]
     },
     "execution_count": 32,
     "metadata": {},
     "output_type": "execute_result"
    }
   ],
   "source": [
    "answ_success = logs.query('success==True')\n",
    "answ_success"
   ]
  },
  {
   "cell_type": "markdown",
   "metadata": {
    "id": "mO7OXiOkb1IQ"
   },
   "source": [
    "#### Подсчитаем количество успешных ответов для каждого клиента"
   ]
  },
  {
   "cell_type": "code",
   "execution_count": 33,
   "metadata": {
    "id": "QPg7HuyNb1IR"
   },
   "outputs": [
    {
     "data": {
      "text/plain": [
       "36165    41\n",
       "61468    41\n",
       "12179    41\n",
       "61473    41\n",
       "78349    41\n",
       "         ..\n",
       "36194     1\n",
       "57752     1\n",
       "84618     1\n",
       "53228     1\n",
       "36864     1\n",
       "Name: client, Length: 2845, dtype: int64"
      ]
     },
     "execution_count": 33,
     "metadata": {},
     "output_type": "execute_result"
    }
   ],
   "source": [
    "count_answ_success=answ_success['client'].value_counts()\n",
    "count_answ_success"
   ]
  },
  {
   "cell_type": "markdown",
   "metadata": {
    "id": "l9_6A_Ulb1IR"
   },
   "source": [
    "#### Чтобы не запутаться в значениях, переименуем получившуюся серию - сейчас колонка в ней называется `client`, хотя в ней число успешных ответов."
   ]
  },
  {
   "cell_type": "code",
   "execution_count": 34,
   "metadata": {
    "id": "vvfi41owb1IR"
   },
   "outputs": [
    {
     "data": {
      "text/plain": [
       "36165    41\n",
       "61468    41\n",
       "12179    41\n",
       "61473    41\n",
       "78349    41\n",
       "         ..\n",
       "36194     1\n",
       "57752     1\n",
       "84618     1\n",
       "53228     1\n",
       "36864     1\n",
       "Name: number_of_success, Length: 2845, dtype: int64"
      ]
     },
     "execution_count": 34,
     "metadata": {},
     "output_type": "execute_result"
    }
   ],
   "source": [
    "count_answ_success = count_answ_success.rename('number_of_success')\n",
    "count_answ_success"
   ]
  },
  {
   "cell_type": "markdown",
   "metadata": {
    "id": "sV9RKtWYb1IS"
   },
   "source": [
    "#### На основе получившейся серии строим график, распределения количества успешных ответов на пользователя.\n",
    "\n",
    "\n",
    "Бóльшая часть наблюдений сосредоточена в левой части графика"
   ]
  },
  {
   "cell_type": "code",
   "execution_count": 36,
   "metadata": {
    "id": "FyQMNXIub1IS"
   },
   "outputs": [
    {
     "data": {
      "text/plain": [
       "<matplotlib.axes._subplots.AxesSubplot at 0x7fe63f190a90>"
      ]
     },
     "execution_count": 36,
     "metadata": {},
     "output_type": "execute_result"
    },
    {
     "data": {
      "image/png": "[encoded data removed]",
      "text/plain": [
       "<Figure size 432x288 with 1 Axes>"
      ]
     },
     "metadata": {
      "needs_background": "light"
     },
     "output_type": "display_data"
    }
   ],
   "source": [
    "sns.countplot(x = count_answ_success)"
   ]
  },
  {
   "cell_type": "markdown",
   "metadata": {
    "id": "mX7l3gqkb1IU"
   },
   "source": [
    "## Задача 7\n",
    "### Клиенты какого возраста дали наибольшее количество успешных ответов на компьютере\n",
    "\n",
    "Визуализируем число успешных ответов, сделанных на платформе `computer`, в зависимости от возраста. По оси `x` будет идти возраст, по оси `y` – число успешных ответов."
   ]
  },
  {
   "cell_type": "raw",
   "metadata": {
    "id": "KEgLZuXLb1IX"
   },
   "source": [
    "success_answ = logs.query(\"success == True and platform == 'computer'\")\n",
    "success_answ\n"
   ]
  },
  {
   "cell_type": "markdown",
   "metadata": {
    "id": "jYBp-fKab1IX"
   },
   "source": [
    "#### Строим график числа успешных ответов в зависимости от возраста. По оси `x` – возраст, по оси `y` – число успешных ответов.\n",
    "\n",
    "\n",
    "(Клиенты с возрастом 28 лет дали натбольшее количество успешных ответов)"
   ]
  },
  {
   "cell_type": "code",
   "execution_count": 38,
   "metadata": {
    "id": "LjQPejivb1IX"
   },
   "outputs": [
    {
     "data": {
      "text/plain": [
       "<matplotlib.axes._subplots.AxesSubplot at 0x7fe63f105208>"
      ]
     },
     "execution_count": 38,
     "metadata": {},
     "output_type": "execute_result"
    },
    {
     "data": {
      "image/png": "[encoded data removed]",
      "text/plain": [
       "<Figure size 1152x576 with 1 Axes>"
      ]
     },
     "metadata": {
      "needs_background": "light"
     },
     "output_type": "display_data"
    }
   ],
   "source": [
    "plt.figure(figsize=(16, 8))\n",
    "sns.countplot(data=success_answ, x = client_info.age)"
   ]
  },
  {
   "cell_type": "markdown",
   "metadata": {
    "id": "-7lui4UNb1IZ"
   },
   "source": [
    "## Итоги"
   ]
  },
  {
   "cell_type": "markdown",
   "metadata": {
    "id": "OX2mLZYnb1IZ"
   },
   "source": [
    "В проекте собрана аналитика для команды геймдев-стартапа для принятия решения о векторе развития продукта. \n",
    "В работе понадобились навыки объединения данных и изменения их формы, а также построения графиков и принятия решений на основе визуализации.\n",
    "\n",
    "Были решены поставленные задачи:\n",
    "\n",
    "1. Идентификаторы клиентов с наибольшим количеством успешных ответов: 36165, 61468, 12179, 61473, 78349;\n",
    "2. Платформа, с какой было дано наибольшее количество успешных ответов - телефон;\n",
    "3. Самая популярная платформа среди премиум-клиентов также телефон (phone);\n",
    "4. Сравнили самую популярную платформу phone с остальными платформами. Для этого построили график количества ответов премиум-клиентов на каждой платформе. Количество ответов таких клиентов на телефоне (phone) в 1,64 раза больше, чем на компьютере (computer) и в 10,24 раза больше, чем на планшете (tablet);\n",
    "5. Доля неуспешных ответов выше у обычных клиентов;\n",
    "6. Сравнили возраста премиум и обычных клиентов.\n",
    "У нас чуть больше 40 премиум-клиентов возраста ориентировочно 65-69 лет.\n",
    "Среди премиум-клиентов больше тех, кому примерно 25-30 лет, чем тех, кому примерно 20-25 лет.\n",
    "премиум-клиентов возраста примерно 35-39 лет меньше, чем обычных клиентов этого же возраста\n",
    "7. Определить возраст клиентов, давших наибольшее количество успешных ответов на компьютере.\n"
   ]
  }
 ],
 "metadata": {
  "colab": {
   "provenance": []
  },
  "kernelspec": {
   "display_name": "Python 3",
   "language": "python",
   "name": "python3"
  },
  "language_info": {
   "codemirror_mode": {
    "name": "ipython",
    "version": 3
   },
   "file_extension": ".py",
   "mimetype": "text/x-python",
   "name": "python",
   "nbconvert_exporter": "python",
   "pygments_lexer": "ipython3",
   "version": "3.7.3"
  }
 },
 "nbformat": 4,
 "nbformat_minor": 1
}
