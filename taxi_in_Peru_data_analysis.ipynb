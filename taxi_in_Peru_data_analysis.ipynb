{
 "cells": [
  {
   "cell_type": "markdown",
   "metadata": {
    "id": "meHApm_GjObc"
   },
   "source": [
    "\n",
    "# Анализ данных о поездках на такси в Перу"
   ]
  },
  {
   "cell_type": "markdown",
   "metadata": {
    "id": "67bnjCtvjObe"
   },
   "source": [
    "В этом проекте представленны данные по поездкам на такси в Перу. Данные разделены на три датасета: в `passengers` информация о поездках со стороны пассажиров, в `drivers` — об этих же поездках со стороны водителей, в `taxi_2` — и та, и та информация, но о других поездках. В каждой строке каждого датасета — запись об одной поездке.\n",
    "\n",
    "## Описание данных:\n",
    "\n",
    "passengers:\n",
    "- journey_id – уникальный id поездки  \n",
    "- user_id – id пользователя  \n",
    "- start_type – тип заказа (asap, reserved, delayed)  \n",
    "- start_lat – исходное местоположение пользователя, широта  \n",
    "- start_lon – исходное местоположение пользователя, долгота  \n",
    "- source – платформа, с которой сделан заказ  \n",
    "- driver_score – какую оценку клиент поставил водителю  \n",
    "\n",
    "drivers:\n",
    "- journey_id – уникальный id поездки  \n",
    "- driver_id – id водителя  \n",
    "- taxi_id – id машины  \n",
    "- icon – тип поездки  \n",
    "- start_at – время начала поездки  \n",
    "- end_at – время окончания поездки  \n",
    "- end_lat – итоговое местоположение, широта  \n",
    "- end_lon – итоговое местоположение, долгота  \n",
    "- end_state – состояние заказа  \n",
    "- driver_start_lat – исходное местоположение водителя, широта  \n",
    "- driver_start_lon – исходное местоположение водителя, долгота  \n",
    "- arrived_at – время прибытия водителя  \n",
    "- rider_score – какую оценку водитель поставил клиенту  "
   ]
  },
  {
   "cell_type": "markdown",
   "metadata": {},
   "source": [
    "## Цель: \n",
    " 1. Анализ данных о такси в Перу;\n",
    " 2. Получение инсайтов для бизнес-решений.\n",
    "\n",
    "## Задачи:\n",
    "1. Определить долю заказов, сделанных с каждой уникальной платформы. И у какой платформы эта доля самая большая;\n",
    "2.  Анализ оценок, которые ставят пассажиры водителям и водители пассажирам;\n",
    "3. Анализ времени подачи машины;\n",
    "4. Определить id водителя, который чаще всего опаздывал на заказы, заранее сделанные клиентами;\n",
    "5. Определить сезонность заказов такси."
   ]
  },
  {
   "cell_type": "code",
   "execution_count": 9,
   "metadata": {
    "id": "3IVuDZfljObf"
   },
   "outputs": [
    {
     "name": "stdout",
     "output_type": "stream",
     "text": [
      "<class 'pandas.core.frame.DataFrame'>\n",
      "Int64Index: 11555 entries, 0 to 11554\n",
      "Data columns (total 19 columns):\n",
      " #   Column            Non-Null Count  Dtype  \n",
      "---  ------            --------------  -----  \n",
      " 0   journey_id        11555 non-null  object \n",
      " 1   user_id           11555 non-null  object \n",
      " 2   start_type        11555 non-null  object \n",
      " 3   start_lat         11555 non-null  object \n",
      " 4   start_lon         11555 non-null  object \n",
      " 5   source            11500 non-null  object \n",
      " 6   driver_score      3151 non-null   float64\n",
      " 7   driver_id         8170 non-null   object \n",
      " 8   taxi_id           8170 non-null   object \n",
      " 9   icon              11555 non-null  object \n",
      " 10  start_at          11555 non-null  object \n",
      " 11  end_at            11284 non-null  object \n",
      " 12  end_lat           11555 non-null  object \n",
      " 13  end_lon           11555 non-null  object \n",
      " 14  end_state         11543 non-null  object \n",
      " 15  driver_start_lat  8164 non-null   object \n",
      " 16  driver_start_lon  8164 non-null   object \n",
      " 17  arrived_at        7380 non-null   object \n",
      " 18  rider_score       6414 non-null   float64\n",
      "dtypes: float64(2), object(17)\n",
      "memory usage: 1.8+ MB\n"
     ]
    },
    {
     "data": {
      "text/plain": [
       "(11555, 19)"
      ]
     },
     "execution_count": 9,
     "metadata": {},
     "output_type": "execute_result"
    }
   ],
   "source": [
    "import pandas            as pd\n",
    "import seaborn           as sns\n",
    "import matplotlib.pyplot as plt\n",
    "passengers_df = pd.read_csv('passengers.csv')\n",
    "drivers_df    = pd.read_csv('drivers.csv')\n",
    "taxi_df       = pd.read_csv('taxi_2.csv')\n",
    "taxi_journey_df   = passengers_df.merge(drivers_df, how='inner', on='journey_id')\n",
    "taxi_journey_df.info()\n",
    "taxi_journey_df.shape"
   ]
  },
  {
   "cell_type": "markdown",
   "metadata": {
    "id": "IRjx0fhLjObj"
   },
   "source": [
    "#### Соединяем первую часть данных (объединенный датафрейм) со второй частью из датасета `taxi_2`.\n",
    "Для этого сначала читаем датасет `taxi_2`. После этого соединяем первую, полученную на прошлом шаге, и вторую часть данных."
   ]
  },
  {
   "cell_type": "code",
   "execution_count": 10,
   "metadata": {},
   "outputs": [
    {
     "data": {
      "text/html": [
       "<div>\n",
       "<style scoped>\n",
       "    .dataframe tbody tr th:only-of-type {\n",
       "        vertical-align: middle;\n",
       "    }\n",
       "\n",
       "    .dataframe tbody tr th {\n",
       "        vertical-align: top;\n",
       "    }\n",
       "\n",
       "    .dataframe thead th {\n",
       "        text-align: right;\n",
       "    }\n",
       "</style>\n",
       "<table border=\"1\" class=\"dataframe\">\n",
       "  <thead>\n",
       "    <tr style=\"text-align: right;\">\n",
       "      <th></th>\n",
       "      <th>journey_id</th>\n",
       "      <th>user_id</th>\n",
       "      <th>start_type</th>\n",
       "      <th>start_lat</th>\n",
       "      <th>start_lon</th>\n",
       "      <th>source</th>\n",
       "      <th>driver_score</th>\n",
       "      <th>driver_id</th>\n",
       "      <th>taxi_id</th>\n",
       "      <th>icon</th>\n",
       "      <th>start_at</th>\n",
       "      <th>end_at</th>\n",
       "      <th>end_lat</th>\n",
       "      <th>end_lon</th>\n",
       "      <th>end_state</th>\n",
       "      <th>driver_start_lat</th>\n",
       "      <th>driver_start_lon</th>\n",
       "      <th>arrived_at</th>\n",
       "      <th>rider_score</th>\n",
       "    </tr>\n",
       "  </thead>\n",
       "  <tbody>\n",
       "    <tr>\n",
       "      <th>0</th>\n",
       "      <td>23a1406fc6a11d866e3c82f22eed4d4c</td>\n",
       "      <td>0e9af5bbf1edfe591b54ecdfd7e91e26</td>\n",
       "      <td>asap</td>\n",
       "      <td>-12,13983536</td>\n",
       "      <td>-77,02355957</td>\n",
       "      <td>iPhone</td>\n",
       "      <td>5.0</td>\n",
       "      <td>583949a89a9ee17d19e3ca4f137b6b4c</td>\n",
       "      <td>b12f4f09c783e29fe0d0ea624530db56</td>\n",
       "      <td>executive</td>\n",
       "      <td>2010-11-16 16:44:00</td>\n",
       "      <td>2010-11-16 17:29:00</td>\n",
       "      <td>-12,05537033</td>\n",
       "      <td>-77,0413208</td>\n",
       "      <td>drop off</td>\n",
       "      <td>-12,10825481</td>\n",
       "      <td>-77,0272739</td>\n",
       "      <td>2010-11-16 17:02:00</td>\n",
       "      <td>5.0</td>\n",
       "    </tr>\n",
       "    <tr>\n",
       "      <th>1</th>\n",
       "      <td>dd2af4715d0dc16eded53afc0e243577</td>\n",
       "      <td>a553c46e3a22fb9c326aeb3d72b3334e</td>\n",
       "      <td>asap</td>\n",
       "      <td>-12,13874817</td>\n",
       "      <td>-76,99536133</td>\n",
       "      <td>iPhone</td>\n",
       "      <td>NaN</td>\n",
       "      <td>NaN</td>\n",
       "      <td>NaN</td>\n",
       "      <td>executive</td>\n",
       "      <td>2010-06-01 00:34:00</td>\n",
       "      <td>2010-06-01 00:37:00</td>\n",
       "      <td>-12,12465668</td>\n",
       "      <td>-77,02886963</td>\n",
       "      <td>not found</td>\n",
       "      <td>NaN</td>\n",
       "      <td>NaN</td>\n",
       "      <td>NaN</td>\n",
       "      <td>NaN</td>\n",
       "    </tr>\n",
       "    <tr>\n",
       "      <th>2</th>\n",
       "      <td>dd91e131888064bf7df3ce08f3d4b4ad</td>\n",
       "      <td>a553c46e3a22fb9c326aeb3d72b3334e</td>\n",
       "      <td>asap</td>\n",
       "      <td>-12,12453079</td>\n",
       "      <td>-77,02780151</td>\n",
       "      <td>iPhone</td>\n",
       "      <td>NaN</td>\n",
       "      <td>NaN</td>\n",
       "      <td>NaN</td>\n",
       "      <td>executive</td>\n",
       "      <td>2010-05-31 05:01:00</td>\n",
       "      <td>2010-05-31 05:04:00</td>\n",
       "      <td>-12,13883209</td>\n",
       "      <td>-76,99530029</td>\n",
       "      <td>not found</td>\n",
       "      <td>NaN</td>\n",
       "      <td>NaN</td>\n",
       "      <td>NaN</td>\n",
       "      <td>NaN</td>\n",
       "    </tr>\n",
       "    <tr>\n",
       "      <th>3</th>\n",
       "      <td>dd2af4715d0dc16eded53afc0e2466d0</td>\n",
       "      <td>a553c46e3a22fb9c326aeb3d72b3334e</td>\n",
       "      <td>asap</td>\n",
       "      <td>-12,13885117</td>\n",
       "      <td>-76,99530029</td>\n",
       "      <td>iPhone</td>\n",
       "      <td>NaN</td>\n",
       "      <td>NaN</td>\n",
       "      <td>NaN</td>\n",
       "      <td>executive</td>\n",
       "      <td>2010-06-01 00:29:00</td>\n",
       "      <td>2010-06-01 00:32:00</td>\n",
       "      <td>-12,12458801</td>\n",
       "      <td>-77,02896118</td>\n",
       "      <td>not found</td>\n",
       "      <td>NaN</td>\n",
       "      <td>NaN</td>\n",
       "      <td>NaN</td>\n",
       "      <td>NaN</td>\n",
       "    </tr>\n",
       "    <tr>\n",
       "      <th>4</th>\n",
       "      <td>85b7eabcf5d84e42dc7629b7d27781af</td>\n",
       "      <td>56772d544fdfa589a020a1ff894a86f7</td>\n",
       "      <td>reserved</td>\n",
       "      <td>-12,08995438</td>\n",
       "      <td>-76,92626953</td>\n",
       "      <td>iPhone</td>\n",
       "      <td>4.0</td>\n",
       "      <td>d665fb9f75ef5d9cd0fd89479380ba78</td>\n",
       "      <td>0accdd3aa5a322f4129fa20b53278c69</td>\n",
       "      <td>executive</td>\n",
       "      <td>2010-09-11 23:55:00</td>\n",
       "      <td>2010-09-12 01:07:00</td>\n",
       "      <td>-12,02223206</td>\n",
       "      <td>-77,10638428</td>\n",
       "      <td>drop off</td>\n",
       "      <td>-12,08311558</td>\n",
       "      <td>-76,9277072</td>\n",
       "      <td>2010-09-11 23:50:00</td>\n",
       "      <td>5.0</td>\n",
       "    </tr>\n",
       "    <tr>\n",
       "      <th>...</th>\n",
       "      <td>...</td>\n",
       "      <td>...</td>\n",
       "      <td>...</td>\n",
       "      <td>...</td>\n",
       "      <td>...</td>\n",
       "      <td>...</td>\n",
       "      <td>...</td>\n",
       "      <td>...</td>\n",
       "      <td>...</td>\n",
       "      <td>...</td>\n",
       "      <td>...</td>\n",
       "      <td>...</td>\n",
       "      <td>...</td>\n",
       "      <td>...</td>\n",
       "      <td>...</td>\n",
       "      <td>...</td>\n",
       "      <td>...</td>\n",
       "      <td>...</td>\n",
       "      <td>...</td>\n",
       "    </tr>\n",
       "    <tr>\n",
       "      <th>11551</th>\n",
       "      <td>4a18ea5737ce0ffecaf20b305a0e2c86</td>\n",
       "      <td>8998bb370b5f0cec43a373adebba0c72</td>\n",
       "      <td>reserved</td>\n",
       "      <td>-12,08974075</td>\n",
       "      <td>-77,04699707</td>\n",
       "      <td>iPhone</td>\n",
       "      <td>5.0</td>\n",
       "      <td>d665fb9f75ef5d9cd0fd89479380ba78</td>\n",
       "      <td>16cbe35db7fff70fbc8251b4cda9fdc9</td>\n",
       "      <td>executive</td>\n",
       "      <td>2010-07-31 13:15:00</td>\n",
       "      <td>2010-07-31 13:27:00</td>\n",
       "      <td>-12,08352661</td>\n",
       "      <td>-77,05044556</td>\n",
       "      <td>drop off</td>\n",
       "      <td>-12,08973527</td>\n",
       "      <td>-77,04787016</td>\n",
       "      <td>2010-07-31 13:15:00</td>\n",
       "      <td>5.0</td>\n",
       "    </tr>\n",
       "    <tr>\n",
       "      <th>11552</th>\n",
       "      <td>f1e4317f2c17991dd90d1cd17ae0d399</td>\n",
       "      <td>5f8a6ffef0ea5df78a8ee890267b60ec</td>\n",
       "      <td>asap</td>\n",
       "      <td>-12,09253011</td>\n",
       "      <td>-77,02875271</td>\n",
       "      <td>Android</td>\n",
       "      <td>NaN</td>\n",
       "      <td>17c21284245ff240c7212732991c2373</td>\n",
       "      <td>716a697375634f32a06d692b0448f13d</td>\n",
       "      <td>executive</td>\n",
       "      <td>2010-10-02 05:26:00</td>\n",
       "      <td>2010-10-02 05:56:00</td>\n",
       "      <td>-12,07776001</td>\n",
       "      <td>-77,05623798</td>\n",
       "      <td>drop off</td>\n",
       "      <td>-12,10639693</td>\n",
       "      <td>-77,04028948</td>\n",
       "      <td>2010-10-02 05:39:00</td>\n",
       "      <td>5.0</td>\n",
       "    </tr>\n",
       "    <tr>\n",
       "      <th>11553</th>\n",
       "      <td>1e44c0fd0a266c3719ff30410b257bce</td>\n",
       "      <td>c0ffb6f6cd801004dd8609c12277c2d1</td>\n",
       "      <td>asap</td>\n",
       "      <td>-12,1275637</td>\n",
       "      <td>-77,02642288</td>\n",
       "      <td>Android</td>\n",
       "      <td>0.0</td>\n",
       "      <td>4851ee4c867c9b49b909c1adb76c31e9</td>\n",
       "      <td>4851ee4c867c9b49b909c1adb76c538e</td>\n",
       "      <td>executive</td>\n",
       "      <td>2010-09-21 09:56:00</td>\n",
       "      <td>2010-09-21 10:18:00</td>\n",
       "      <td>-12,10529838</td>\n",
       "      <td>-77,04735249</td>\n",
       "      <td>drop off</td>\n",
       "      <td>-12,12605017</td>\n",
       "      <td>-77,01882491</td>\n",
       "      <td>2010-09-21 10:05:00</td>\n",
       "      <td>0.0</td>\n",
       "    </tr>\n",
       "    <tr>\n",
       "      <th>11554</th>\n",
       "      <td>7073883383b89ad289e864022150cdd7</td>\n",
       "      <td>c0ffb6f6cd801004dd8609c12277c2d1</td>\n",
       "      <td>reserved</td>\n",
       "      <td>-12,019468</td>\n",
       "      <td>-77,1077669</td>\n",
       "      <td>Android</td>\n",
       "      <td>NaN</td>\n",
       "      <td>56f59b58bcbbd1cdabc3652e713134c2</td>\n",
       "      <td>924d4f0e7554566623e8ebb3904a7b0c</td>\n",
       "      <td>executive</td>\n",
       "      <td>2010-04-29 04:30:00</td>\n",
       "      <td>2010-04-29 05:11:00</td>\n",
       "      <td>-12,09909987</td>\n",
       "      <td>-77,03475013</td>\n",
       "      <td>drop off</td>\n",
       "      <td>-12,0710933</td>\n",
       "      <td>-77,09855131</td>\n",
       "      <td>2010-04-29 04:23:00</td>\n",
       "      <td>5.0</td>\n",
       "    </tr>\n",
       "    <tr>\n",
       "      <th>11555</th>\n",
       "      <td>b7dea45c3cc92b9efd5a4905e69ff9bf</td>\n",
       "      <td>c0ffb6f6cd801004dd8609c12277c2d1</td>\n",
       "      <td>asap</td>\n",
       "      <td>-12,1334974</td>\n",
       "      <td>-77,0272581</td>\n",
       "      <td>web</td>\n",
       "      <td>NaN</td>\n",
       "      <td>924d4f0e7554566623e8ebb390491d08</td>\n",
       "      <td>924d4f0e7554566623e8ebb390491492</td>\n",
       "      <td>executive</td>\n",
       "      <td>2010-03-16 19:58:00</td>\n",
       "      <td>2010-03-16 20:02:00</td>\n",
       "      <td>-12,029174</td>\n",
       "      <td>-76,93977</td>\n",
       "      <td>rider cancel</td>\n",
       "      <td>-12,09586711</td>\n",
       "      <td>-77,07372552</td>\n",
       "      <td>NaN</td>\n",
       "      <td>NaN</td>\n",
       "    </tr>\n",
       "  </tbody>\n",
       "</table>\n",
       "<p>23111 rows × 19 columns</p>\n",
       "</div>"
      ],
      "text/plain": [
       "                             journey_id                           user_id  \\\n",
       "0      23a1406fc6a11d866e3c82f22eed4d4c  0e9af5bbf1edfe591b54ecdfd7e91e26   \n",
       "1      dd2af4715d0dc16eded53afc0e243577  a553c46e3a22fb9c326aeb3d72b3334e   \n",
       "2      dd91e131888064bf7df3ce08f3d4b4ad  a553c46e3a22fb9c326aeb3d72b3334e   \n",
       "3      dd2af4715d0dc16eded53afc0e2466d0  a553c46e3a22fb9c326aeb3d72b3334e   \n",
       "4      85b7eabcf5d84e42dc7629b7d27781af  56772d544fdfa589a020a1ff894a86f7   \n",
       "...                                 ...                               ...   \n",
       "11551  4a18ea5737ce0ffecaf20b305a0e2c86  8998bb370b5f0cec43a373adebba0c72   \n",
       "11552  f1e4317f2c17991dd90d1cd17ae0d399  5f8a6ffef0ea5df78a8ee890267b60ec   \n",
       "11553  1e44c0fd0a266c3719ff30410b257bce  c0ffb6f6cd801004dd8609c12277c2d1   \n",
       "11554  7073883383b89ad289e864022150cdd7  c0ffb6f6cd801004dd8609c12277c2d1   \n",
       "11555  b7dea45c3cc92b9efd5a4905e69ff9bf  c0ffb6f6cd801004dd8609c12277c2d1   \n",
       "\n",
       "      start_type     start_lat     start_lon   source  driver_score  \\\n",
       "0           asap  -12,13983536  -77,02355957   iPhone           5.0   \n",
       "1           asap  -12,13874817  -76,99536133   iPhone           NaN   \n",
       "2           asap  -12,12453079  -77,02780151   iPhone           NaN   \n",
       "3           asap  -12,13885117  -76,99530029   iPhone           NaN   \n",
       "4       reserved  -12,08995438  -76,92626953   iPhone           4.0   \n",
       "...          ...           ...           ...      ...           ...   \n",
       "11551   reserved  -12,08974075  -77,04699707   iPhone           5.0   \n",
       "11552       asap  -12,09253011  -77,02875271  Android           NaN   \n",
       "11553       asap   -12,1275637  -77,02642288  Android           0.0   \n",
       "11554   reserved    -12,019468   -77,1077669  Android           NaN   \n",
       "11555       asap   -12,1334974   -77,0272581      web           NaN   \n",
       "\n",
       "                              driver_id                           taxi_id  \\\n",
       "0      583949a89a9ee17d19e3ca4f137b6b4c  b12f4f09c783e29fe0d0ea624530db56   \n",
       "1                                   NaN                               NaN   \n",
       "2                                   NaN                               NaN   \n",
       "3                                   NaN                               NaN   \n",
       "4      d665fb9f75ef5d9cd0fd89479380ba78  0accdd3aa5a322f4129fa20b53278c69   \n",
       "...                                 ...                               ...   \n",
       "11551  d665fb9f75ef5d9cd0fd89479380ba78  16cbe35db7fff70fbc8251b4cda9fdc9   \n",
       "11552  17c21284245ff240c7212732991c2373  716a697375634f32a06d692b0448f13d   \n",
       "11553  4851ee4c867c9b49b909c1adb76c31e9  4851ee4c867c9b49b909c1adb76c538e   \n",
       "11554  56f59b58bcbbd1cdabc3652e713134c2  924d4f0e7554566623e8ebb3904a7b0c   \n",
       "11555  924d4f0e7554566623e8ebb390491d08  924d4f0e7554566623e8ebb390491492   \n",
       "\n",
       "            icon             start_at               end_at       end_lat  \\\n",
       "0      executive  2010-11-16 16:44:00  2010-11-16 17:29:00  -12,05537033   \n",
       "1      executive  2010-06-01 00:34:00  2010-06-01 00:37:00  -12,12465668   \n",
       "2      executive  2010-05-31 05:01:00  2010-05-31 05:04:00  -12,13883209   \n",
       "3      executive  2010-06-01 00:29:00  2010-06-01 00:32:00  -12,12458801   \n",
       "4      executive  2010-09-11 23:55:00  2010-09-12 01:07:00  -12,02223206   \n",
       "...          ...                  ...                  ...           ...   \n",
       "11551  executive  2010-07-31 13:15:00  2010-07-31 13:27:00  -12,08352661   \n",
       "11552  executive  2010-10-02 05:26:00  2010-10-02 05:56:00  -12,07776001   \n",
       "11553  executive  2010-09-21 09:56:00  2010-09-21 10:18:00  -12,10529838   \n",
       "11554  executive  2010-04-29 04:30:00  2010-04-29 05:11:00  -12,09909987   \n",
       "11555  executive  2010-03-16 19:58:00  2010-03-16 20:02:00    -12,029174   \n",
       "\n",
       "            end_lon     end_state driver_start_lat driver_start_lon  \\\n",
       "0       -77,0413208      drop off     -12,10825481      -77,0272739   \n",
       "1      -77,02886963     not found              NaN              NaN   \n",
       "2      -76,99530029     not found              NaN              NaN   \n",
       "3      -77,02896118     not found              NaN              NaN   \n",
       "4      -77,10638428      drop off     -12,08311558      -76,9277072   \n",
       "...             ...           ...              ...              ...   \n",
       "11551  -77,05044556      drop off     -12,08973527     -77,04787016   \n",
       "11552  -77,05623798      drop off     -12,10639693     -77,04028948   \n",
       "11553  -77,04735249      drop off     -12,12605017     -77,01882491   \n",
       "11554  -77,03475013      drop off      -12,0710933     -77,09855131   \n",
       "11555     -76,93977  rider cancel     -12,09586711     -77,07372552   \n",
       "\n",
       "                arrived_at  rider_score  \n",
       "0      2010-11-16 17:02:00          5.0  \n",
       "1                      NaN          NaN  \n",
       "2                      NaN          NaN  \n",
       "3                      NaN          NaN  \n",
       "4      2010-09-11 23:50:00          5.0  \n",
       "...                    ...          ...  \n",
       "11551  2010-07-31 13:15:00          5.0  \n",
       "11552  2010-10-02 05:39:00          5.0  \n",
       "11553  2010-09-21 10:05:00          0.0  \n",
       "11554  2010-04-29 04:23:00          5.0  \n",
       "11555                  NaN          NaN  \n",
       "\n",
       "[23111 rows x 19 columns]"
      ]
     },
     "execution_count": 10,
     "metadata": {},
     "output_type": "execute_result"
    }
   ],
   "source": [
    "taxi = pd.read_csv('taxi_2.csv')\n",
    "pd_new = pd.concat([journey_df, taxi])\n",
    "pd_new"
   ]
  },
  {
   "cell_type": "markdown",
   "metadata": {
    "id": "9JaE_z38jObt"
   },
   "source": [
    "#### Прежде чем перейти к анализу данных, проверяем, есть ли в них пропущенные значения.\n",
    "\n",
    "(Пропущенные значения есть, их больше всего в колонке driver_score - 8404)"
   ]
  },
  {
   "cell_type": "code",
   "execution_count": 12,
   "metadata": {
    "id": "PSI4ekEjjObu"
   },
   "outputs": [
    {
     "data": {
      "text/plain": [
       "journey_id             0\n",
       "user_id                0\n",
       "start_type             0\n",
       "start_lat              0\n",
       "start_lon              0\n",
       "source                55\n",
       "driver_score        8404\n",
       "driver_id           3385\n",
       "taxi_id             3385\n",
       "icon                   0\n",
       "start_at               0\n",
       "end_at               271\n",
       "end_lat                0\n",
       "end_lon                0\n",
       "end_state             12\n",
       "driver_start_lat    3391\n",
       "driver_start_lon    3391\n",
       "arrived_at          4175\n",
       "rider_score         5141\n",
       "dtype: int64"
      ]
     },
     "execution_count": 12,
     "metadata": {},
     "output_type": "execute_result"
    }
   ],
   "source": [
    "taxi_journey_df.isna().sum()\n",
    "\n"
   ]
  },
  {
   "cell_type": "markdown",
   "metadata": {
    "id": "UHHQUN4rjObv"
   },
   "source": [
    "#### Посмотрим, сколько платформ есть в данных."
   ]
  },
  {
   "cell_type": "code",
   "execution_count": 14,
   "metadata": {
    "id": "ACuTLsDsjObv"
   },
   "outputs": [
    {
     "data": {
      "text/plain": [
       "5"
      ]
     },
     "execution_count": 14,
     "metadata": {},
     "output_type": "execute_result"
    }
   ],
   "source": [
    "taxi_journey_df.source.nunique()\n"
   ]
  },
  {
   "cell_type": "markdown",
   "metadata": {
    "id": "4589vsiBjObw"
   },
   "source": [
    "## Задача 1\n",
    "#### Определим долю заказов, сделанных с каждой уникальной платформы. И у какой платформы эта доля самая большая. "
   ]
  },
  {
   "cell_type": "markdown",
   "metadata": {
    "id": "LdVEHhM6jObw"
   },
   "source": [
    "  Чтобы определить долю заказов, сделанных с той или иной платформы, посчитаем отношение количества заказов с конкретной платформы ко всему количеству заказов. Переведём значения в проценты и округлим.\n",
    "  \n",
    "(с платформы Android сделано больше всего заказов)"
   ]
  },
  {
   "cell_type": "code",
   "execution_count": 16,
   "metadata": {
    "id": "dV6CAOEnjObw"
   },
   "outputs": [
    {
     "data": {
      "text/plain": [
       "source\n",
       "Android    22.0\n",
       "Wap         1.0\n",
       "iPad        3.0\n",
       "iPhone     43.0\n",
       "web        32.0\n",
       "Name: journey_id, dtype: float64"
      ]
     },
     "execution_count": 16,
     "metadata": {},
     "output_type": "execute_result"
    }
   ],
   "source": [
    "count_journey=taxi_journey_df['user_id'].count()\n",
    "source_count_journey=taxi_journey_df.groupby('source').journey_id.count()\n",
    "platform_share=((source_count_journey/count_journey)*100).round()\n",
    "platform_share"
   ]
  },
  {
   "cell_type": "markdown",
   "metadata": {
    "id": "IcChz-KEjOby"
   },
   "source": [
    "#### Построим график с количеством заказов на платформах. "
   ]
  },
  {
   "cell_type": "markdown",
   "metadata": {
    "id": "PTlS0jDdjOby"
   },
   "source": [
    "Считаем количество заказов, сделанных с той или иной платформы (см.колонку `source`).\n",
    "Переименуем колонки, чтобы они назывались в соответствии с теми данными, которые в них содержатся: названия платформ и количество заказов."
   ]
  },
  {
   "cell_type": "code",
   "execution_count": 17,
   "metadata": {
    "id": "_r2Yfg_kjOby"
   },
   "outputs": [
    {
     "data": {
      "text/html": [
       "<div>\n",
       "<style scoped>\n",
       "    .dataframe tbody tr th:only-of-type {\n",
       "        vertical-align: middle;\n",
       "    }\n",
       "\n",
       "    .dataframe tbody tr th {\n",
       "        vertical-align: top;\n",
       "    }\n",
       "\n",
       "    .dataframe thead th {\n",
       "        text-align: right;\n",
       "    }\n",
       "</style>\n",
       "<table border=\"1\" class=\"dataframe\">\n",
       "  <thead>\n",
       "    <tr style=\"text-align: right;\">\n",
       "      <th></th>\n",
       "      <th>platform</th>\n",
       "      <th>count_journey</th>\n",
       "    </tr>\n",
       "  </thead>\n",
       "  <tbody>\n",
       "    <tr>\n",
       "      <th>0</th>\n",
       "      <td>Android</td>\n",
       "      <td>2533</td>\n",
       "    </tr>\n",
       "    <tr>\n",
       "      <th>1</th>\n",
       "      <td>Wap</td>\n",
       "      <td>72</td>\n",
       "    </tr>\n",
       "    <tr>\n",
       "      <th>2</th>\n",
       "      <td>iPad</td>\n",
       "      <td>306</td>\n",
       "    </tr>\n",
       "    <tr>\n",
       "      <th>3</th>\n",
       "      <td>iPhone</td>\n",
       "      <td>4942</td>\n",
       "    </tr>\n",
       "    <tr>\n",
       "      <th>4</th>\n",
       "      <td>web</td>\n",
       "      <td>3647</td>\n",
       "    </tr>\n",
       "  </tbody>\n",
       "</table>\n",
       "</div>"
      ],
      "text/plain": [
       "  platform  count_journey\n",
       "0  Android           2533\n",
       "1      Wap             72\n",
       "2     iPad            306\n",
       "3   iPhone           4942\n",
       "4      web           3647"
      ]
     },
     "execution_count": 17,
     "metadata": {},
     "output_type": "execute_result"
    }
   ],
   "source": [
    "source_count_journey=taxi_journey_df.groupby('source').journey_id.count().reset_index() \\\n",
    "    .rename(\n",
    "     columns={'source':'platform',\n",
    "         'journey_id':'count_journey'})\n",
    "source_count_journey"
   ]
  },
  {
   "cell_type": "markdown",
   "metadata": {},
   "source": [
    "Агрегируем данные и строим барчарт, где по оси `x` расположено название платформы (`source`), а по оси `y` – количество заказов (абсолютные значения, не доля)."
   ]
  },
  {
   "cell_type": "code",
   "execution_count": 18,
   "metadata": {
    "id": "GgYr9BxBjObz"
   },
   "outputs": [
    {
     "data": {
      "image/png": "[encoded data removed]",
      "text/plain": [
       "<Figure size 432x288 with 1 Axes>"
      ]
     },
     "metadata": {
      "needs_background": "light"
     },
     "output_type": "display_data"
    }
   ],
   "source": [
    "sns.barplot(data=source_count_journey, x='platform', y='count_journey')\n",
    "plt.xlabel('platform')\n",
    "plt.ylabel('count of journeys')\n",
    "sns.despine()"
   ]
  },
  {
   "cell_type": "markdown",
   "metadata": {
    "id": "dka-TcOEjOb1"
   },
   "source": [
    "#### Более детально проанализируем распределение заказов по платформам."
   ]
  },
  {
   "cell_type": "markdown",
   "metadata": {
    "id": "Gi3pr28ajOb1"
   },
   "source": [
    "На основе неагрегированного датафрейма построим график с помощью функции sns.countplot: по оси `x` расположим платформу, в качестве цвета столбца (параметр `hue`) используем состояние заказа, а по оси `y` будет количество заказов.\n",
    "\n",
    "\n",
    "\n",
    "(Посторив график, видим, что:\n",
    "\n",
    "а. Больше всего заказов со статусом drop off совершено с платформы iPhone;\n",
    "\n",
    "б. На Android количество отмененных поездок (rider cancel) меньше, чем на iPhone;\n",
    "\n",
    "в. Наибольшая разница между количеством drop off и rider cancel наблюдается для платформы iPhone.)"
   ]
  },
  {
   "cell_type": "code",
   "execution_count": 19,
   "metadata": {
    "id": "8HJAABEAjOb1"
   },
   "outputs": [
    {
     "data": {
      "text/plain": [
       "<matplotlib.axes._subplots.AxesSubplot at 0x7fadca223a58>"
      ]
     },
     "execution_count": 19,
     "metadata": {},
     "output_type": "execute_result"
    },
    {
     "data": {
      "image/png": "[encoded data removed]",
      "text/plain": [
       "<Figure size 1080x648 with 1 Axes>"
      ]
     },
     "metadata": {
      "needs_background": "light"
     },
     "output_type": "display_data"
    }
   ],
   "source": [
    "plt.figure(figsize=(15, 9))\n",
    "sns.countplot(data = taxi_journey_df, x = 'source', hue = 'end_state')\n",
    "\n"
   ]
  },
  {
   "cell_type": "markdown",
   "metadata": {
    "id": "BNH4PE85jOb4"
   },
   "source": [
    "## Задача 2\n",
    "#### Анализ оценок, которые ставят пассажиры водителям и водители пассажирам.\n",
    "\n",
    "Проверим, как распределены оценки водителей (см.колонку `driver_score`).\n",
    "\n",
    "Посчитаем частоту встречаемости каждой из оценок и переведём значения в проценты, округлим.\n",
    "Сбросим индекс и переименуем колонки в `driver_score` и `percentage`. Отсортируем датафрейм по колонке `driver_score` в порядке возрастания."
   ]
  },
  {
   "cell_type": "code",
   "execution_count": 20,
   "metadata": {
    "id": "vZbKZ1v7jOb5"
   },
   "outputs": [
    {
     "data": {
      "text/html": [
       "<div>\n",
       "<style scoped>\n",
       "    .dataframe tbody tr th:only-of-type {\n",
       "        vertical-align: middle;\n",
       "    }\n",
       "\n",
       "    .dataframe tbody tr th {\n",
       "        vertical-align: top;\n",
       "    }\n",
       "\n",
       "    .dataframe thead th {\n",
       "        text-align: right;\n",
       "    }\n",
       "</style>\n",
       "<table border=\"1\" class=\"dataframe\">\n",
       "  <thead>\n",
       "    <tr style=\"text-align: right;\">\n",
       "      <th></th>\n",
       "      <th>driver_score</th>\n",
       "      <th>percentage</th>\n",
       "    </tr>\n",
       "  </thead>\n",
       "  <tbody>\n",
       "    <tr>\n",
       "      <th>2</th>\n",
       "      <td>0.0</td>\n",
       "      <td>13.71</td>\n",
       "    </tr>\n",
       "    <tr>\n",
       "      <th>4</th>\n",
       "      <td>1.0</td>\n",
       "      <td>1.31</td>\n",
       "    </tr>\n",
       "    <tr>\n",
       "      <th>5</th>\n",
       "      <td>2.0</td>\n",
       "      <td>0.82</td>\n",
       "    </tr>\n",
       "    <tr>\n",
       "      <th>3</th>\n",
       "      <td>3.0</td>\n",
       "      <td>3.00</td>\n",
       "    </tr>\n",
       "    <tr>\n",
       "      <th>1</th>\n",
       "      <td>4.0</td>\n",
       "      <td>21.25</td>\n",
       "    </tr>\n",
       "    <tr>\n",
       "      <th>0</th>\n",
       "      <td>5.0</td>\n",
       "      <td>59.90</td>\n",
       "    </tr>\n",
       "  </tbody>\n",
       "</table>\n",
       "</div>"
      ],
      "text/plain": [
       "   driver_score  percentage\n",
       "2           0.0       13.71\n",
       "4           1.0        1.31\n",
       "5           2.0        0.82\n",
       "3           3.0        3.00\n",
       "1           4.0       21.25\n",
       "0           5.0       59.90"
      ]
     },
     "execution_count": 20,
     "metadata": {},
     "output_type": "execute_result"
    }
   ],
   "source": [
    "driver_score_counts = taxi_df.driver_score.value_counts(normalize = True).mul(100).round(2).reset_index() \\\n",
    "    .rename(columns={'index': 'driver_score', 'driver_score': 'percentage'}) \\\n",
    "    .sort_values('driver_score', ascending=True)\n",
    "driver_score_counts"
   ]
  },
  {
   "cell_type": "markdown",
   "metadata": {
    "id": "4CJbJNVwjOb7"
   },
   "source": [
    "#### Используя датафрейм `driver_score_counts`, строим круговую диаграмму и смотрим на долю каждой оценки."
   ]
  },
  {
   "cell_type": "code",
   "execution_count": 21,
   "metadata": {
    "id": "s3zgGOzxjOb8"
   },
   "outputs": [
    {
     "data": {
      "text/plain": [
       "<Figure size 576x576 with 0 Axes>"
      ]
     },
     "execution_count": 21,
     "metadata": {},
     "output_type": "execute_result"
    },
    {
     "data": {
      "image/png": "[encoded data removed]",
      "text/plain": [
       "<Figure size 432x288 with 1 Axes>"
      ]
     },
     "metadata": {},
     "output_type": "display_data"
    },
    {
     "data": {
      "text/plain": [
       "<Figure size 576x576 with 0 Axes>"
      ]
     },
     "metadata": {},
     "output_type": "display_data"
    }
   ],
   "source": [
    "driver_score_counts.sort_values('percentage', ascending=True, inplace = True)\n",
    "plt.pie(driver_score_counts.percentage, startangle=90, rotatelabels=True, labels=driver_score_counts.driver_score)\n",
    "plt.figure(figsize=(8, 8))"
   ]
  },
  {
   "cell_type": "markdown",
   "metadata": {
    "id": "vMR1naK9jOb-"
   },
   "source": [
    "## Задача 2\n",
    "#### Анализ оценок водителей пассажирам (см.колонку `rider_score`). \n",
    "Сравним распределение этих оценок с распределением оценок водителей.\n",
    "\n",
    "\n",
    "\n",
    "\n",
    "(Более чем в 80% случаев водители поставили клиентам 5 звездочек.\n",
    " Водители ставят меньше оценок 0, чем клиенты)"
   ]
  },
  {
   "cell_type": "markdown",
   "metadata": {
    "id": "Pa0L8UpyjOb-"
   },
   "source": [
    "Посчитаем частоту встречаемости каждой из оценок, сбросим индекс и переименуем колонки в `rider_score` и `percentage`."
   ]
  },
  {
   "cell_type": "code",
   "execution_count": 32,
   "metadata": {
    "id": "HXi9JdGwjOb-"
   },
   "outputs": [],
   "source": [
    "taxi_new = taxi.rider_score.value_counts(normalize = True).mul(100).round(2).reset_index()\n",
    "taxi_new = taxi_new.rename(columns={'index': 'rider_score', 'rider_score': 'percentage'})\n",
    "rider_score_counts = taxi_new.sort_values('rider_score', ascending=True)"
   ]
  },
  {
   "cell_type": "code",
   "execution_count": 34,
   "metadata": {
    "id": "DTwdVS1WjOb_"
   },
   "outputs": [
    {
     "data": {
      "text/plain": [
       "([<matplotlib.patches.Wedge at 0x7fadc95c3320>,\n",
       "  <matplotlib.patches.Wedge at 0x7fadc95c3940>,\n",
       "  <matplotlib.patches.Wedge at 0x7fadc95c3eb8>,\n",
       "  <matplotlib.patches.Wedge at 0x7fadc95cd470>,\n",
       "  <matplotlib.patches.Wedge at 0x7fadc960c278>,\n",
       "  <matplotlib.patches.Wedge at 0x7fadc95cdf28>],\n",
       " [Text(-0.3888223589862553, -1.028988422263518, '5.0'),\n",
       "  Text(0.5229502337696985, 0.9677412117917774, '4.0'),\n",
       "  Text(0.2061194983972917, 1.0805159658146886, '0.0'),\n",
       "  Text(0.07665556650997467, 1.0973258058220607, '3.0'),\n",
       "  Text(0.02453385577727526, 1.0997263704761744, '2.0'),\n",
       "  Text(0.007602645145737557, 1.0999737268620502, '1.0')])"
      ]
     },
     "execution_count": 34,
     "metadata": {},
     "output_type": "execute_result"
    },
    {
     "data": {
      "image/png": "[encoded data removed]",
      "text/plain": [
       "<Figure size 1152x648 with 1 Axes>"
      ]
     },
     "metadata": {},
     "output_type": "display_data"
    }
   ],
   "source": [
    "plt.figure(figsize=(16,9))\n",
    "rider_score_counts.sort_values('percentage', ascending=False, inplace = True)\n",
    "plt.pie(rider_score_counts.percentage)\n",
    "plt.pie(rider_score_counts.percentage, startangle = 90, rotatelabels= True, labels = rider_score_counts.rider_score)"
   ]
  },
  {
   "cell_type": "markdown",
   "metadata": {
    "id": "DNSVH2SqjOcA"
   },
   "source": [
    "Приведём столбцы `start_at`, `end_at`, `arrived_at` к формату даты и времени."
   ]
  },
  {
   "cell_type": "code",
   "execution_count": 35,
   "metadata": {
    "id": "CZNEKrQmjOcA"
   },
   "outputs": [
    {
     "data": {
      "text/html": [
       "<div>\n",
       "<style scoped>\n",
       "    .dataframe tbody tr th:only-of-type {\n",
       "        vertical-align: middle;\n",
       "    }\n",
       "\n",
       "    .dataframe tbody tr th {\n",
       "        vertical-align: top;\n",
       "    }\n",
       "\n",
       "    .dataframe thead th {\n",
       "        text-align: right;\n",
       "    }\n",
       "</style>\n",
       "<table border=\"1\" class=\"dataframe\">\n",
       "  <thead>\n",
       "    <tr style=\"text-align: right;\">\n",
       "      <th></th>\n",
       "      <th>journey_id</th>\n",
       "      <th>user_id</th>\n",
       "      <th>start_type</th>\n",
       "      <th>start_lat</th>\n",
       "      <th>start_lon</th>\n",
       "      <th>source</th>\n",
       "      <th>driver_score</th>\n",
       "      <th>driver_id</th>\n",
       "      <th>taxi_id</th>\n",
       "      <th>icon</th>\n",
       "      <th>start_at</th>\n",
       "      <th>end_at</th>\n",
       "      <th>end_lat</th>\n",
       "      <th>end_lon</th>\n",
       "      <th>end_state</th>\n",
       "      <th>driver_start_lat</th>\n",
       "      <th>driver_start_lon</th>\n",
       "      <th>arrived_at</th>\n",
       "      <th>rider_score</th>\n",
       "    </tr>\n",
       "  </thead>\n",
       "  <tbody>\n",
       "    <tr>\n",
       "      <th>0</th>\n",
       "      <td>23a1406fc6a11d866e3c82f22eed4d4c</td>\n",
       "      <td>0e9af5bbf1edfe591b54ecdfd7e91e26</td>\n",
       "      <td>asap</td>\n",
       "      <td>-12,13983536</td>\n",
       "      <td>-77,02355957</td>\n",
       "      <td>iPhone</td>\n",
       "      <td>5.0</td>\n",
       "      <td>583949a89a9ee17d19e3ca4f137b6b4c</td>\n",
       "      <td>b12f4f09c783e29fe0d0ea624530db56</td>\n",
       "      <td>executive</td>\n",
       "      <td>2010-11-16 16:44:00</td>\n",
       "      <td>2010-11-16 17:29:00</td>\n",
       "      <td>-12,05537033</td>\n",
       "      <td>-77,0413208</td>\n",
       "      <td>drop off</td>\n",
       "      <td>-12,10825481</td>\n",
       "      <td>-77,0272739</td>\n",
       "      <td>2010-11-16 17:02:00</td>\n",
       "      <td>5.0</td>\n",
       "    </tr>\n",
       "    <tr>\n",
       "      <th>1</th>\n",
       "      <td>dd2af4715d0dc16eded53afc0e243577</td>\n",
       "      <td>a553c46e3a22fb9c326aeb3d72b3334e</td>\n",
       "      <td>asap</td>\n",
       "      <td>-12,13874817</td>\n",
       "      <td>-76,99536133</td>\n",
       "      <td>iPhone</td>\n",
       "      <td>NaN</td>\n",
       "      <td>NaN</td>\n",
       "      <td>NaN</td>\n",
       "      <td>executive</td>\n",
       "      <td>2010-06-01 00:34:00</td>\n",
       "      <td>2010-06-01 00:37:00</td>\n",
       "      <td>-12,12465668</td>\n",
       "      <td>-77,02886963</td>\n",
       "      <td>not found</td>\n",
       "      <td>NaN</td>\n",
       "      <td>NaN</td>\n",
       "      <td>NaN</td>\n",
       "      <td>NaN</td>\n",
       "    </tr>\n",
       "    <tr>\n",
       "      <th>2</th>\n",
       "      <td>dd91e131888064bf7df3ce08f3d4b4ad</td>\n",
       "      <td>a553c46e3a22fb9c326aeb3d72b3334e</td>\n",
       "      <td>asap</td>\n",
       "      <td>-12,12453079</td>\n",
       "      <td>-77,02780151</td>\n",
       "      <td>iPhone</td>\n",
       "      <td>NaN</td>\n",
       "      <td>NaN</td>\n",
       "      <td>NaN</td>\n",
       "      <td>executive</td>\n",
       "      <td>2010-05-31 05:01:00</td>\n",
       "      <td>2010-05-31 05:04:00</td>\n",
       "      <td>-12,13883209</td>\n",
       "      <td>-76,99530029</td>\n",
       "      <td>not found</td>\n",
       "      <td>NaN</td>\n",
       "      <td>NaN</td>\n",
       "      <td>NaN</td>\n",
       "      <td>NaN</td>\n",
       "    </tr>\n",
       "    <tr>\n",
       "      <th>3</th>\n",
       "      <td>dd2af4715d0dc16eded53afc0e2466d0</td>\n",
       "      <td>a553c46e3a22fb9c326aeb3d72b3334e</td>\n",
       "      <td>asap</td>\n",
       "      <td>-12,13885117</td>\n",
       "      <td>-76,99530029</td>\n",
       "      <td>iPhone</td>\n",
       "      <td>NaN</td>\n",
       "      <td>NaN</td>\n",
       "      <td>NaN</td>\n",
       "      <td>executive</td>\n",
       "      <td>2010-06-01 00:29:00</td>\n",
       "      <td>2010-06-01 00:32:00</td>\n",
       "      <td>-12,12458801</td>\n",
       "      <td>-77,02896118</td>\n",
       "      <td>not found</td>\n",
       "      <td>NaN</td>\n",
       "      <td>NaN</td>\n",
       "      <td>NaN</td>\n",
       "      <td>NaN</td>\n",
       "    </tr>\n",
       "    <tr>\n",
       "      <th>4</th>\n",
       "      <td>85b7eabcf5d84e42dc7629b7d27781af</td>\n",
       "      <td>56772d544fdfa589a020a1ff894a86f7</td>\n",
       "      <td>reserved</td>\n",
       "      <td>-12,08995438</td>\n",
       "      <td>-76,92626953</td>\n",
       "      <td>iPhone</td>\n",
       "      <td>4.0</td>\n",
       "      <td>d665fb9f75ef5d9cd0fd89479380ba78</td>\n",
       "      <td>0accdd3aa5a322f4129fa20b53278c69</td>\n",
       "      <td>executive</td>\n",
       "      <td>2010-09-11 23:55:00</td>\n",
       "      <td>2010-09-12 01:07:00</td>\n",
       "      <td>-12,02223206</td>\n",
       "      <td>-77,10638428</td>\n",
       "      <td>drop off</td>\n",
       "      <td>-12,08311558</td>\n",
       "      <td>-76,9277072</td>\n",
       "      <td>2010-09-11 23:50:00</td>\n",
       "      <td>5.0</td>\n",
       "    </tr>\n",
       "  </tbody>\n",
       "</table>\n",
       "</div>"
      ],
      "text/plain": [
       "                         journey_id                           user_id  \\\n",
       "0  23a1406fc6a11d866e3c82f22eed4d4c  0e9af5bbf1edfe591b54ecdfd7e91e26   \n",
       "1  dd2af4715d0dc16eded53afc0e243577  a553c46e3a22fb9c326aeb3d72b3334e   \n",
       "2  dd91e131888064bf7df3ce08f3d4b4ad  a553c46e3a22fb9c326aeb3d72b3334e   \n",
       "3  dd2af4715d0dc16eded53afc0e2466d0  a553c46e3a22fb9c326aeb3d72b3334e   \n",
       "4  85b7eabcf5d84e42dc7629b7d27781af  56772d544fdfa589a020a1ff894a86f7   \n",
       "\n",
       "  start_type     start_lat     start_lon  source  driver_score  \\\n",
       "0       asap  -12,13983536  -77,02355957  iPhone           5.0   \n",
       "1       asap  -12,13874817  -76,99536133  iPhone           NaN   \n",
       "2       asap  -12,12453079  -77,02780151  iPhone           NaN   \n",
       "3       asap  -12,13885117  -76,99530029  iPhone           NaN   \n",
       "4   reserved  -12,08995438  -76,92626953  iPhone           4.0   \n",
       "\n",
       "                          driver_id                           taxi_id  \\\n",
       "0  583949a89a9ee17d19e3ca4f137b6b4c  b12f4f09c783e29fe0d0ea624530db56   \n",
       "1                               NaN                               NaN   \n",
       "2                               NaN                               NaN   \n",
       "3                               NaN                               NaN   \n",
       "4  d665fb9f75ef5d9cd0fd89479380ba78  0accdd3aa5a322f4129fa20b53278c69   \n",
       "\n",
       "        icon             start_at               end_at       end_lat  \\\n",
       "0  executive  2010-11-16 16:44:00  2010-11-16 17:29:00  -12,05537033   \n",
       "1  executive  2010-06-01 00:34:00  2010-06-01 00:37:00  -12,12465668   \n",
       "2  executive  2010-05-31 05:01:00  2010-05-31 05:04:00  -12,13883209   \n",
       "3  executive  2010-06-01 00:29:00  2010-06-01 00:32:00  -12,12458801   \n",
       "4  executive  2010-09-11 23:55:00  2010-09-12 01:07:00  -12,02223206   \n",
       "\n",
       "        end_lon  end_state driver_start_lat driver_start_lon  \\\n",
       "0   -77,0413208   drop off     -12,10825481      -77,0272739   \n",
       "1  -77,02886963  not found              NaN              NaN   \n",
       "2  -76,99530029  not found              NaN              NaN   \n",
       "3  -77,02896118  not found              NaN              NaN   \n",
       "4  -77,10638428   drop off     -12,08311558      -76,9277072   \n",
       "\n",
       "            arrived_at  rider_score  \n",
       "0  2010-11-16 17:02:00          5.0  \n",
       "1                  NaN          NaN  \n",
       "2                  NaN          NaN  \n",
       "3                  NaN          NaN  \n",
       "4  2010-09-11 23:50:00          5.0  "
      ]
     },
     "execution_count": 35,
     "metadata": {},
     "output_type": "execute_result"
    }
   ],
   "source": [
    "taxi_journey_df.head()\n"
   ]
  },
  {
   "cell_type": "code",
   "execution_count": 36,
   "metadata": {
    "id": "WugShYUAjOcA"
   },
   "outputs": [
    {
     "data": {
      "text/html": [
       "<div>\n",
       "<style scoped>\n",
       "    .dataframe tbody tr th:only-of-type {\n",
       "        vertical-align: middle;\n",
       "    }\n",
       "\n",
       "    .dataframe tbody tr th {\n",
       "        vertical-align: top;\n",
       "    }\n",
       "\n",
       "    .dataframe thead th {\n",
       "        text-align: right;\n",
       "    }\n",
       "</style>\n",
       "<table border=\"1\" class=\"dataframe\">\n",
       "  <thead>\n",
       "    <tr style=\"text-align: right;\">\n",
       "      <th></th>\n",
       "      <th>journey_id</th>\n",
       "      <th>user_id</th>\n",
       "      <th>start_type</th>\n",
       "      <th>start_lat</th>\n",
       "      <th>start_lon</th>\n",
       "      <th>source</th>\n",
       "      <th>driver_score</th>\n",
       "      <th>driver_id</th>\n",
       "      <th>taxi_id</th>\n",
       "      <th>icon</th>\n",
       "      <th>start_at</th>\n",
       "      <th>end_at</th>\n",
       "      <th>end_lat</th>\n",
       "      <th>end_lon</th>\n",
       "      <th>end_state</th>\n",
       "      <th>driver_start_lat</th>\n",
       "      <th>driver_start_lon</th>\n",
       "      <th>arrived_at</th>\n",
       "      <th>rider_score</th>\n",
       "    </tr>\n",
       "  </thead>\n",
       "  <tbody>\n",
       "    <tr>\n",
       "      <th>0</th>\n",
       "      <td>23a1406fc6a11d866e3c82f22eed4d4c</td>\n",
       "      <td>0e9af5bbf1edfe591b54ecdfd7e91e26</td>\n",
       "      <td>asap</td>\n",
       "      <td>-12,13983536</td>\n",
       "      <td>-77,02355957</td>\n",
       "      <td>iPhone</td>\n",
       "      <td>5.0</td>\n",
       "      <td>583949a89a9ee17d19e3ca4f137b6b4c</td>\n",
       "      <td>b12f4f09c783e29fe0d0ea624530db56</td>\n",
       "      <td>executive</td>\n",
       "      <td>2010-11-16 16:44:00</td>\n",
       "      <td>2010-11-16 17:29:00</td>\n",
       "      <td>-12,05537033</td>\n",
       "      <td>-77,0413208</td>\n",
       "      <td>drop off</td>\n",
       "      <td>-12,10825481</td>\n",
       "      <td>-77,0272739</td>\n",
       "      <td>2010-11-16 17:02:00</td>\n",
       "      <td>5.0</td>\n",
       "    </tr>\n",
       "    <tr>\n",
       "      <th>1</th>\n",
       "      <td>dd2af4715d0dc16eded53afc0e243577</td>\n",
       "      <td>a553c46e3a22fb9c326aeb3d72b3334e</td>\n",
       "      <td>asap</td>\n",
       "      <td>-12,13874817</td>\n",
       "      <td>-76,99536133</td>\n",
       "      <td>iPhone</td>\n",
       "      <td>NaN</td>\n",
       "      <td>NaN</td>\n",
       "      <td>NaN</td>\n",
       "      <td>executive</td>\n",
       "      <td>2010-06-01 00:34:00</td>\n",
       "      <td>2010-06-01 00:37:00</td>\n",
       "      <td>-12,12465668</td>\n",
       "      <td>-77,02886963</td>\n",
       "      <td>not found</td>\n",
       "      <td>NaN</td>\n",
       "      <td>NaN</td>\n",
       "      <td>NaT</td>\n",
       "      <td>NaN</td>\n",
       "    </tr>\n",
       "    <tr>\n",
       "      <th>2</th>\n",
       "      <td>dd91e131888064bf7df3ce08f3d4b4ad</td>\n",
       "      <td>a553c46e3a22fb9c326aeb3d72b3334e</td>\n",
       "      <td>asap</td>\n",
       "      <td>-12,12453079</td>\n",
       "      <td>-77,02780151</td>\n",
       "      <td>iPhone</td>\n",
       "      <td>NaN</td>\n",
       "      <td>NaN</td>\n",
       "      <td>NaN</td>\n",
       "      <td>executive</td>\n",
       "      <td>2010-05-31 05:01:00</td>\n",
       "      <td>2010-05-31 05:04:00</td>\n",
       "      <td>-12,13883209</td>\n",
       "      <td>-76,99530029</td>\n",
       "      <td>not found</td>\n",
       "      <td>NaN</td>\n",
       "      <td>NaN</td>\n",
       "      <td>NaT</td>\n",
       "      <td>NaN</td>\n",
       "    </tr>\n",
       "    <tr>\n",
       "      <th>3</th>\n",
       "      <td>dd2af4715d0dc16eded53afc0e2466d0</td>\n",
       "      <td>a553c46e3a22fb9c326aeb3d72b3334e</td>\n",
       "      <td>asap</td>\n",
       "      <td>-12,13885117</td>\n",
       "      <td>-76,99530029</td>\n",
       "      <td>iPhone</td>\n",
       "      <td>NaN</td>\n",
       "      <td>NaN</td>\n",
       "      <td>NaN</td>\n",
       "      <td>executive</td>\n",
       "      <td>2010-06-01 00:29:00</td>\n",
       "      <td>2010-06-01 00:32:00</td>\n",
       "      <td>-12,12458801</td>\n",
       "      <td>-77,02896118</td>\n",
       "      <td>not found</td>\n",
       "      <td>NaN</td>\n",
       "      <td>NaN</td>\n",
       "      <td>NaT</td>\n",
       "      <td>NaN</td>\n",
       "    </tr>\n",
       "    <tr>\n",
       "      <th>4</th>\n",
       "      <td>85b7eabcf5d84e42dc7629b7d27781af</td>\n",
       "      <td>56772d544fdfa589a020a1ff894a86f7</td>\n",
       "      <td>reserved</td>\n",
       "      <td>-12,08995438</td>\n",
       "      <td>-76,92626953</td>\n",
       "      <td>iPhone</td>\n",
       "      <td>4.0</td>\n",
       "      <td>d665fb9f75ef5d9cd0fd89479380ba78</td>\n",
       "      <td>0accdd3aa5a322f4129fa20b53278c69</td>\n",
       "      <td>executive</td>\n",
       "      <td>2010-09-11 23:55:00</td>\n",
       "      <td>2010-09-12 01:07:00</td>\n",
       "      <td>-12,02223206</td>\n",
       "      <td>-77,10638428</td>\n",
       "      <td>drop off</td>\n",
       "      <td>-12,08311558</td>\n",
       "      <td>-76,9277072</td>\n",
       "      <td>2010-09-11 23:50:00</td>\n",
       "      <td>5.0</td>\n",
       "    </tr>\n",
       "    <tr>\n",
       "      <th>...</th>\n",
       "      <td>...</td>\n",
       "      <td>...</td>\n",
       "      <td>...</td>\n",
       "      <td>...</td>\n",
       "      <td>...</td>\n",
       "      <td>...</td>\n",
       "      <td>...</td>\n",
       "      <td>...</td>\n",
       "      <td>...</td>\n",
       "      <td>...</td>\n",
       "      <td>...</td>\n",
       "      <td>...</td>\n",
       "      <td>...</td>\n",
       "      <td>...</td>\n",
       "      <td>...</td>\n",
       "      <td>...</td>\n",
       "      <td>...</td>\n",
       "      <td>...</td>\n",
       "      <td>...</td>\n",
       "    </tr>\n",
       "    <tr>\n",
       "      <th>11550</th>\n",
       "      <td>b6206048fbda6d454ead4fa2b4948940</td>\n",
       "      <td>86aa09456b63a2a25e0097c55203cb59</td>\n",
       "      <td>asap</td>\n",
       "      <td>-12,09699249</td>\n",
       "      <td>-77,04226685</td>\n",
       "      <td>iPhone</td>\n",
       "      <td>5.0</td>\n",
       "      <td>ae06c34243f741e203e97c48ebcbd9da</td>\n",
       "      <td>f6254a51b033dcea52c37c715b010474</td>\n",
       "      <td>executive</td>\n",
       "      <td>2010-11-29 13:27:00</td>\n",
       "      <td>2010-11-29 14:08:00</td>\n",
       "      <td>-12,08663177</td>\n",
       "      <td>-76,99130249</td>\n",
       "      <td>drop off</td>\n",
       "      <td>-12,09508341</td>\n",
       "      <td>-77,03027931</td>\n",
       "      <td>2010-11-29 13:42:00</td>\n",
       "      <td>5.0</td>\n",
       "    </tr>\n",
       "    <tr>\n",
       "      <th>11551</th>\n",
       "      <td>b6206048fbda6d454ead4fa2b4bd2ce5</td>\n",
       "      <td>27bd69801ce062f9b751502b38443d94</td>\n",
       "      <td>asap</td>\n",
       "      <td>-12,105472</td>\n",
       "      <td>-77,018854</td>\n",
       "      <td>web</td>\n",
       "      <td>NaN</td>\n",
       "      <td>3abce16ea601affbeae8f50584ce72ef</td>\n",
       "      <td>ab6ee368af1a9e1293acc0d14d1f9338</td>\n",
       "      <td>executive</td>\n",
       "      <td>2010-11-29 15:29:00</td>\n",
       "      <td>2010-11-29 15:29:00</td>\n",
       "      <td>-12,1012259</td>\n",
       "      <td>-77,037736</td>\n",
       "      <td>drop off</td>\n",
       "      <td>0</td>\n",
       "      <td>0</td>\n",
       "      <td>2010-11-29 15:29:00</td>\n",
       "      <td>5.0</td>\n",
       "    </tr>\n",
       "    <tr>\n",
       "      <th>11552</th>\n",
       "      <td>cd6fba80de11849ce566009f41dd6dfd</td>\n",
       "      <td>1199f830a03cd75df5e7a7cc7ca8a20c</td>\n",
       "      <td>asap</td>\n",
       "      <td>-12,08918381</td>\n",
       "      <td>-76,97341919</td>\n",
       "      <td>iPhone</td>\n",
       "      <td>NaN</td>\n",
       "      <td>b66c43e298753a3d39220e53008a4325</td>\n",
       "      <td>b66c43e298753a3d39220e53008a4f19</td>\n",
       "      <td>executive</td>\n",
       "      <td>2010-11-28 22:28:00</td>\n",
       "      <td>2010-11-28 23:22:00</td>\n",
       "      <td>-12,110672</td>\n",
       "      <td>-77,03985596</td>\n",
       "      <td>drop off</td>\n",
       "      <td>-12,08397746</td>\n",
       "      <td>-76,96980433</td>\n",
       "      <td>2010-11-28 22:38:00</td>\n",
       "      <td>5.0</td>\n",
       "    </tr>\n",
       "    <tr>\n",
       "      <th>11553</th>\n",
       "      <td>d2cf43d9f47c6512b84e1ea7b8754a1d</td>\n",
       "      <td>ae06c34243f741e203e97c48eb62e6db</td>\n",
       "      <td>asap</td>\n",
       "      <td>-12,0988425</td>\n",
       "      <td>-76,9706896</td>\n",
       "      <td>web</td>\n",
       "      <td>NaN</td>\n",
       "      <td>ecdcce0c956e266ed26c80fd9e5cbb8f</td>\n",
       "      <td>1d3c551d7fc3d0daf73f0a8c82781c2d</td>\n",
       "      <td>executive</td>\n",
       "      <td>2010-11-27 20:11:00</td>\n",
       "      <td>2010-11-27 20:31:00</td>\n",
       "      <td>-12,15</td>\n",
       "      <td>-77,0166667</td>\n",
       "      <td>drop off</td>\n",
       "      <td>-12,09828368</td>\n",
       "      <td>-76,97143374</td>\n",
       "      <td>2010-11-27 20:12:00</td>\n",
       "      <td>5.0</td>\n",
       "    </tr>\n",
       "    <tr>\n",
       "      <th>11554</th>\n",
       "      <td>b6206048fbda6d454ead4fa2b4937e8a</td>\n",
       "      <td>53699c4aac0da3f8ba9c1fe1e0a11249</td>\n",
       "      <td>asap</td>\n",
       "      <td>-12,11039332</td>\n",
       "      <td>-77,03737602</td>\n",
       "      <td>Android</td>\n",
       "      <td>NaN</td>\n",
       "      <td>ecdcce0c956e266ed26c80fd9e5cbb8f</td>\n",
       "      <td>1d3c551d7fc3d0daf73f0a8c82781c2d</td>\n",
       "      <td>executive</td>\n",
       "      <td>2010-11-29 18:23:00</td>\n",
       "      <td>2010-11-29 18:55:00</td>\n",
       "      <td>-12,09350214</td>\n",
       "      <td>-77,02761512</td>\n",
       "      <td>drop off</td>\n",
       "      <td>-12,1103766</td>\n",
       "      <td>-77,037526</td>\n",
       "      <td>2010-11-29 18:37:00</td>\n",
       "      <td>5.0</td>\n",
       "    </tr>\n",
       "  </tbody>\n",
       "</table>\n",
       "<p>11555 rows × 19 columns</p>\n",
       "</div>"
      ],
      "text/plain": [
       "                             journey_id                           user_id  \\\n",
       "0      23a1406fc6a11d866e3c82f22eed4d4c  0e9af5bbf1edfe591b54ecdfd7e91e26   \n",
       "1      dd2af4715d0dc16eded53afc0e243577  a553c46e3a22fb9c326aeb3d72b3334e   \n",
       "2      dd91e131888064bf7df3ce08f3d4b4ad  a553c46e3a22fb9c326aeb3d72b3334e   \n",
       "3      dd2af4715d0dc16eded53afc0e2466d0  a553c46e3a22fb9c326aeb3d72b3334e   \n",
       "4      85b7eabcf5d84e42dc7629b7d27781af  56772d544fdfa589a020a1ff894a86f7   \n",
       "...                                 ...                               ...   \n",
       "11550  b6206048fbda6d454ead4fa2b4948940  86aa09456b63a2a25e0097c55203cb59   \n",
       "11551  b6206048fbda6d454ead4fa2b4bd2ce5  27bd69801ce062f9b751502b38443d94   \n",
       "11552  cd6fba80de11849ce566009f41dd6dfd  1199f830a03cd75df5e7a7cc7ca8a20c   \n",
       "11553  d2cf43d9f47c6512b84e1ea7b8754a1d  ae06c34243f741e203e97c48eb62e6db   \n",
       "11554  b6206048fbda6d454ead4fa2b4937e8a  53699c4aac0da3f8ba9c1fe1e0a11249   \n",
       "\n",
       "      start_type     start_lat     start_lon   source  driver_score  \\\n",
       "0           asap  -12,13983536  -77,02355957   iPhone           5.0   \n",
       "1           asap  -12,13874817  -76,99536133   iPhone           NaN   \n",
       "2           asap  -12,12453079  -77,02780151   iPhone           NaN   \n",
       "3           asap  -12,13885117  -76,99530029   iPhone           NaN   \n",
       "4       reserved  -12,08995438  -76,92626953   iPhone           4.0   \n",
       "...          ...           ...           ...      ...           ...   \n",
       "11550       asap  -12,09699249  -77,04226685   iPhone           5.0   \n",
       "11551       asap    -12,105472    -77,018854      web           NaN   \n",
       "11552       asap  -12,08918381  -76,97341919   iPhone           NaN   \n",
       "11553       asap   -12,0988425   -76,9706896      web           NaN   \n",
       "11554       asap  -12,11039332  -77,03737602  Android           NaN   \n",
       "\n",
       "                              driver_id                           taxi_id  \\\n",
       "0      583949a89a9ee17d19e3ca4f137b6b4c  b12f4f09c783e29fe0d0ea624530db56   \n",
       "1                                   NaN                               NaN   \n",
       "2                                   NaN                               NaN   \n",
       "3                                   NaN                               NaN   \n",
       "4      d665fb9f75ef5d9cd0fd89479380ba78  0accdd3aa5a322f4129fa20b53278c69   \n",
       "...                                 ...                               ...   \n",
       "11550  ae06c34243f741e203e97c48ebcbd9da  f6254a51b033dcea52c37c715b010474   \n",
       "11551  3abce16ea601affbeae8f50584ce72ef  ab6ee368af1a9e1293acc0d14d1f9338   \n",
       "11552  b66c43e298753a3d39220e53008a4325  b66c43e298753a3d39220e53008a4f19   \n",
       "11553  ecdcce0c956e266ed26c80fd9e5cbb8f  1d3c551d7fc3d0daf73f0a8c82781c2d   \n",
       "11554  ecdcce0c956e266ed26c80fd9e5cbb8f  1d3c551d7fc3d0daf73f0a8c82781c2d   \n",
       "\n",
       "            icon            start_at              end_at       end_lat  \\\n",
       "0      executive 2010-11-16 16:44:00 2010-11-16 17:29:00  -12,05537033   \n",
       "1      executive 2010-06-01 00:34:00 2010-06-01 00:37:00  -12,12465668   \n",
       "2      executive 2010-05-31 05:01:00 2010-05-31 05:04:00  -12,13883209   \n",
       "3      executive 2010-06-01 00:29:00 2010-06-01 00:32:00  -12,12458801   \n",
       "4      executive 2010-09-11 23:55:00 2010-09-12 01:07:00  -12,02223206   \n",
       "...          ...                 ...                 ...           ...   \n",
       "11550  executive 2010-11-29 13:27:00 2010-11-29 14:08:00  -12,08663177   \n",
       "11551  executive 2010-11-29 15:29:00 2010-11-29 15:29:00   -12,1012259   \n",
       "11552  executive 2010-11-28 22:28:00 2010-11-28 23:22:00    -12,110672   \n",
       "11553  executive 2010-11-27 20:11:00 2010-11-27 20:31:00        -12,15   \n",
       "11554  executive 2010-11-29 18:23:00 2010-11-29 18:55:00  -12,09350214   \n",
       "\n",
       "            end_lon  end_state driver_start_lat driver_start_lon  \\\n",
       "0       -77,0413208   drop off     -12,10825481      -77,0272739   \n",
       "1      -77,02886963  not found              NaN              NaN   \n",
       "2      -76,99530029  not found              NaN              NaN   \n",
       "3      -77,02896118  not found              NaN              NaN   \n",
       "4      -77,10638428   drop off     -12,08311558      -76,9277072   \n",
       "...             ...        ...              ...              ...   \n",
       "11550  -76,99130249   drop off     -12,09508341     -77,03027931   \n",
       "11551    -77,037736   drop off                0                0   \n",
       "11552  -77,03985596   drop off     -12,08397746     -76,96980433   \n",
       "11553   -77,0166667   drop off     -12,09828368     -76,97143374   \n",
       "11554  -77,02761512   drop off      -12,1103766       -77,037526   \n",
       "\n",
       "               arrived_at  rider_score  \n",
       "0     2010-11-16 17:02:00          5.0  \n",
       "1                     NaT          NaN  \n",
       "2                     NaT          NaN  \n",
       "3                     NaT          NaN  \n",
       "4     2010-09-11 23:50:00          5.0  \n",
       "...                   ...          ...  \n",
       "11550 2010-11-29 13:42:00          5.0  \n",
       "11551 2010-11-29 15:29:00          5.0  \n",
       "11552 2010-11-28 22:38:00          5.0  \n",
       "11553 2010-11-27 20:12:00          5.0  \n",
       "11554 2010-11-29 18:37:00          5.0  \n",
       "\n",
       "[11555 rows x 19 columns]"
      ]
     },
     "execution_count": 36,
     "metadata": {},
     "output_type": "execute_result"
    }
   ],
   "source": [
    "taxi_journey_df[['start_at', 'end_at', 'arrived_at']] = taxi_journey_df[['start_at', 'end_at', 'arrived_at']].apply(pd.to_datetime)\n",
    "taxi_journey_df"
   ]
  },
  {
   "cell_type": "markdown",
   "metadata": {
    "id": "DSvWDxv5jOcB"
   },
   "source": [
    "Отфильтруем данные и оставим наблюдения со статусами заказа «asap» и «reserved» (см.колонку `start_type`)."
   ]
  },
  {
   "cell_type": "code",
   "execution_count": 38,
   "metadata": {
    "id": "XPClQDsQjOcB"
   },
   "outputs": [
    {
     "data": {
      "text/html": [
       "<div>\n",
       "<style scoped>\n",
       "    .dataframe tbody tr th:only-of-type {\n",
       "        vertical-align: middle;\n",
       "    }\n",
       "\n",
       "    .dataframe tbody tr th {\n",
       "        vertical-align: top;\n",
       "    }\n",
       "\n",
       "    .dataframe thead th {\n",
       "        text-align: right;\n",
       "    }\n",
       "</style>\n",
       "<table border=\"1\" class=\"dataframe\">\n",
       "  <thead>\n",
       "    <tr style=\"text-align: right;\">\n",
       "      <th></th>\n",
       "      <th>journey_id</th>\n",
       "      <th>user_id</th>\n",
       "      <th>start_type</th>\n",
       "      <th>start_lat</th>\n",
       "      <th>start_lon</th>\n",
       "      <th>source</th>\n",
       "      <th>driver_score</th>\n",
       "      <th>driver_id</th>\n",
       "      <th>taxi_id</th>\n",
       "      <th>icon</th>\n",
       "      <th>start_at</th>\n",
       "      <th>end_at</th>\n",
       "      <th>end_lat</th>\n",
       "      <th>end_lon</th>\n",
       "      <th>end_state</th>\n",
       "      <th>driver_start_lat</th>\n",
       "      <th>driver_start_lon</th>\n",
       "      <th>arrived_at</th>\n",
       "      <th>rider_score</th>\n",
       "    </tr>\n",
       "  </thead>\n",
       "  <tbody>\n",
       "    <tr>\n",
       "      <th>0</th>\n",
       "      <td>23a1406fc6a11d866e3c82f22eed4d4c</td>\n",
       "      <td>0e9af5bbf1edfe591b54ecdfd7e91e26</td>\n",
       "      <td>asap</td>\n",
       "      <td>-12,13983536</td>\n",
       "      <td>-77,02355957</td>\n",
       "      <td>iPhone</td>\n",
       "      <td>5.0</td>\n",
       "      <td>583949a89a9ee17d19e3ca4f137b6b4c</td>\n",
       "      <td>b12f4f09c783e29fe0d0ea624530db56</td>\n",
       "      <td>executive</td>\n",
       "      <td>2010-11-16 16:44:00</td>\n",
       "      <td>2010-11-16 17:29:00</td>\n",
       "      <td>-12,05537033</td>\n",
       "      <td>-77,0413208</td>\n",
       "      <td>drop off</td>\n",
       "      <td>-12,10825481</td>\n",
       "      <td>-77,0272739</td>\n",
       "      <td>2010-11-16 17:02:00</td>\n",
       "      <td>5.0</td>\n",
       "    </tr>\n",
       "    <tr>\n",
       "      <th>1</th>\n",
       "      <td>dd2af4715d0dc16eded53afc0e243577</td>\n",
       "      <td>a553c46e3a22fb9c326aeb3d72b3334e</td>\n",
       "      <td>asap</td>\n",
       "      <td>-12,13874817</td>\n",
       "      <td>-76,99536133</td>\n",
       "      <td>iPhone</td>\n",
       "      <td>NaN</td>\n",
       "      <td>NaN</td>\n",
       "      <td>NaN</td>\n",
       "      <td>executive</td>\n",
       "      <td>2010-06-01 00:34:00</td>\n",
       "      <td>2010-06-01 00:37:00</td>\n",
       "      <td>-12,12465668</td>\n",
       "      <td>-77,02886963</td>\n",
       "      <td>not found</td>\n",
       "      <td>NaN</td>\n",
       "      <td>NaN</td>\n",
       "      <td>NaT</td>\n",
       "      <td>NaN</td>\n",
       "    </tr>\n",
       "    <tr>\n",
       "      <th>2</th>\n",
       "      <td>dd91e131888064bf7df3ce08f3d4b4ad</td>\n",
       "      <td>a553c46e3a22fb9c326aeb3d72b3334e</td>\n",
       "      <td>asap</td>\n",
       "      <td>-12,12453079</td>\n",
       "      <td>-77,02780151</td>\n",
       "      <td>iPhone</td>\n",
       "      <td>NaN</td>\n",
       "      <td>NaN</td>\n",
       "      <td>NaN</td>\n",
       "      <td>executive</td>\n",
       "      <td>2010-05-31 05:01:00</td>\n",
       "      <td>2010-05-31 05:04:00</td>\n",
       "      <td>-12,13883209</td>\n",
       "      <td>-76,99530029</td>\n",
       "      <td>not found</td>\n",
       "      <td>NaN</td>\n",
       "      <td>NaN</td>\n",
       "      <td>NaT</td>\n",
       "      <td>NaN</td>\n",
       "    </tr>\n",
       "    <tr>\n",
       "      <th>3</th>\n",
       "      <td>dd2af4715d0dc16eded53afc0e2466d0</td>\n",
       "      <td>a553c46e3a22fb9c326aeb3d72b3334e</td>\n",
       "      <td>asap</td>\n",
       "      <td>-12,13885117</td>\n",
       "      <td>-76,99530029</td>\n",
       "      <td>iPhone</td>\n",
       "      <td>NaN</td>\n",
       "      <td>NaN</td>\n",
       "      <td>NaN</td>\n",
       "      <td>executive</td>\n",
       "      <td>2010-06-01 00:29:00</td>\n",
       "      <td>2010-06-01 00:32:00</td>\n",
       "      <td>-12,12458801</td>\n",
       "      <td>-77,02896118</td>\n",
       "      <td>not found</td>\n",
       "      <td>NaN</td>\n",
       "      <td>NaN</td>\n",
       "      <td>NaT</td>\n",
       "      <td>NaN</td>\n",
       "    </tr>\n",
       "    <tr>\n",
       "      <th>4</th>\n",
       "      <td>85b7eabcf5d84e42dc7629b7d27781af</td>\n",
       "      <td>56772d544fdfa589a020a1ff894a86f7</td>\n",
       "      <td>reserved</td>\n",
       "      <td>-12,08995438</td>\n",
       "      <td>-76,92626953</td>\n",
       "      <td>iPhone</td>\n",
       "      <td>4.0</td>\n",
       "      <td>d665fb9f75ef5d9cd0fd89479380ba78</td>\n",
       "      <td>0accdd3aa5a322f4129fa20b53278c69</td>\n",
       "      <td>executive</td>\n",
       "      <td>2010-09-11 23:55:00</td>\n",
       "      <td>2010-09-12 01:07:00</td>\n",
       "      <td>-12,02223206</td>\n",
       "      <td>-77,10638428</td>\n",
       "      <td>drop off</td>\n",
       "      <td>-12,08311558</td>\n",
       "      <td>-76,9277072</td>\n",
       "      <td>2010-09-11 23:50:00</td>\n",
       "      <td>5.0</td>\n",
       "    </tr>\n",
       "    <tr>\n",
       "      <th>...</th>\n",
       "      <td>...</td>\n",
       "      <td>...</td>\n",
       "      <td>...</td>\n",
       "      <td>...</td>\n",
       "      <td>...</td>\n",
       "      <td>...</td>\n",
       "      <td>...</td>\n",
       "      <td>...</td>\n",
       "      <td>...</td>\n",
       "      <td>...</td>\n",
       "      <td>...</td>\n",
       "      <td>...</td>\n",
       "      <td>...</td>\n",
       "      <td>...</td>\n",
       "      <td>...</td>\n",
       "      <td>...</td>\n",
       "      <td>...</td>\n",
       "      <td>...</td>\n",
       "      <td>...</td>\n",
       "    </tr>\n",
       "    <tr>\n",
       "      <th>11550</th>\n",
       "      <td>b6206048fbda6d454ead4fa2b4948940</td>\n",
       "      <td>86aa09456b63a2a25e0097c55203cb59</td>\n",
       "      <td>asap</td>\n",
       "      <td>-12,09699249</td>\n",
       "      <td>-77,04226685</td>\n",
       "      <td>iPhone</td>\n",
       "      <td>5.0</td>\n",
       "      <td>ae06c34243f741e203e97c48ebcbd9da</td>\n",
       "      <td>f6254a51b033dcea52c37c715b010474</td>\n",
       "      <td>executive</td>\n",
       "      <td>2010-11-29 13:27:00</td>\n",
       "      <td>2010-11-29 14:08:00</td>\n",
       "      <td>-12,08663177</td>\n",
       "      <td>-76,99130249</td>\n",
       "      <td>drop off</td>\n",
       "      <td>-12,09508341</td>\n",
       "      <td>-77,03027931</td>\n",
       "      <td>2010-11-29 13:42:00</td>\n",
       "      <td>5.0</td>\n",
       "    </tr>\n",
       "    <tr>\n",
       "      <th>11551</th>\n",
       "      <td>b6206048fbda6d454ead4fa2b4bd2ce5</td>\n",
       "      <td>27bd69801ce062f9b751502b38443d94</td>\n",
       "      <td>asap</td>\n",
       "      <td>-12,105472</td>\n",
       "      <td>-77,018854</td>\n",
       "      <td>web</td>\n",
       "      <td>NaN</td>\n",
       "      <td>3abce16ea601affbeae8f50584ce72ef</td>\n",
       "      <td>ab6ee368af1a9e1293acc0d14d1f9338</td>\n",
       "      <td>executive</td>\n",
       "      <td>2010-11-29 15:29:00</td>\n",
       "      <td>2010-11-29 15:29:00</td>\n",
       "      <td>-12,1012259</td>\n",
       "      <td>-77,037736</td>\n",
       "      <td>drop off</td>\n",
       "      <td>0</td>\n",
       "      <td>0</td>\n",
       "      <td>2010-11-29 15:29:00</td>\n",
       "      <td>5.0</td>\n",
       "    </tr>\n",
       "    <tr>\n",
       "      <th>11552</th>\n",
       "      <td>cd6fba80de11849ce566009f41dd6dfd</td>\n",
       "      <td>1199f830a03cd75df5e7a7cc7ca8a20c</td>\n",
       "      <td>asap</td>\n",
       "      <td>-12,08918381</td>\n",
       "      <td>-76,97341919</td>\n",
       "      <td>iPhone</td>\n",
       "      <td>NaN</td>\n",
       "      <td>b66c43e298753a3d39220e53008a4325</td>\n",
       "      <td>b66c43e298753a3d39220e53008a4f19</td>\n",
       "      <td>executive</td>\n",
       "      <td>2010-11-28 22:28:00</td>\n",
       "      <td>2010-11-28 23:22:00</td>\n",
       "      <td>-12,110672</td>\n",
       "      <td>-77,03985596</td>\n",
       "      <td>drop off</td>\n",
       "      <td>-12,08397746</td>\n",
       "      <td>-76,96980433</td>\n",
       "      <td>2010-11-28 22:38:00</td>\n",
       "      <td>5.0</td>\n",
       "    </tr>\n",
       "    <tr>\n",
       "      <th>11553</th>\n",
       "      <td>d2cf43d9f47c6512b84e1ea7b8754a1d</td>\n",
       "      <td>ae06c34243f741e203e97c48eb62e6db</td>\n",
       "      <td>asap</td>\n",
       "      <td>-12,0988425</td>\n",
       "      <td>-76,9706896</td>\n",
       "      <td>web</td>\n",
       "      <td>NaN</td>\n",
       "      <td>ecdcce0c956e266ed26c80fd9e5cbb8f</td>\n",
       "      <td>1d3c551d7fc3d0daf73f0a8c82781c2d</td>\n",
       "      <td>executive</td>\n",
       "      <td>2010-11-27 20:11:00</td>\n",
       "      <td>2010-11-27 20:31:00</td>\n",
       "      <td>-12,15</td>\n",
       "      <td>-77,0166667</td>\n",
       "      <td>drop off</td>\n",
       "      <td>-12,09828368</td>\n",
       "      <td>-76,97143374</td>\n",
       "      <td>2010-11-27 20:12:00</td>\n",
       "      <td>5.0</td>\n",
       "    </tr>\n",
       "    <tr>\n",
       "      <th>11554</th>\n",
       "      <td>b6206048fbda6d454ead4fa2b4937e8a</td>\n",
       "      <td>53699c4aac0da3f8ba9c1fe1e0a11249</td>\n",
       "      <td>asap</td>\n",
       "      <td>-12,11039332</td>\n",
       "      <td>-77,03737602</td>\n",
       "      <td>Android</td>\n",
       "      <td>NaN</td>\n",
       "      <td>ecdcce0c956e266ed26c80fd9e5cbb8f</td>\n",
       "      <td>1d3c551d7fc3d0daf73f0a8c82781c2d</td>\n",
       "      <td>executive</td>\n",
       "      <td>2010-11-29 18:23:00</td>\n",
       "      <td>2010-11-29 18:55:00</td>\n",
       "      <td>-12,09350214</td>\n",
       "      <td>-77,02761512</td>\n",
       "      <td>drop off</td>\n",
       "      <td>-12,1103766</td>\n",
       "      <td>-77,037526</td>\n",
       "      <td>2010-11-29 18:37:00</td>\n",
       "      <td>5.0</td>\n",
       "    </tr>\n",
       "  </tbody>\n",
       "</table>\n",
       "<p>11539 rows × 19 columns</p>\n",
       "</div>"
      ],
      "text/plain": [
       "                             journey_id                           user_id  \\\n",
       "0      23a1406fc6a11d866e3c82f22eed4d4c  0e9af5bbf1edfe591b54ecdfd7e91e26   \n",
       "1      dd2af4715d0dc16eded53afc0e243577  a553c46e3a22fb9c326aeb3d72b3334e   \n",
       "2      dd91e131888064bf7df3ce08f3d4b4ad  a553c46e3a22fb9c326aeb3d72b3334e   \n",
       "3      dd2af4715d0dc16eded53afc0e2466d0  a553c46e3a22fb9c326aeb3d72b3334e   \n",
       "4      85b7eabcf5d84e42dc7629b7d27781af  56772d544fdfa589a020a1ff894a86f7   \n",
       "...                                 ...                               ...   \n",
       "11550  b6206048fbda6d454ead4fa2b4948940  86aa09456b63a2a25e0097c55203cb59   \n",
       "11551  b6206048fbda6d454ead4fa2b4bd2ce5  27bd69801ce062f9b751502b38443d94   \n",
       "11552  cd6fba80de11849ce566009f41dd6dfd  1199f830a03cd75df5e7a7cc7ca8a20c   \n",
       "11553  d2cf43d9f47c6512b84e1ea7b8754a1d  ae06c34243f741e203e97c48eb62e6db   \n",
       "11554  b6206048fbda6d454ead4fa2b4937e8a  53699c4aac0da3f8ba9c1fe1e0a11249   \n",
       "\n",
       "      start_type     start_lat     start_lon   source  driver_score  \\\n",
       "0           asap  -12,13983536  -77,02355957   iPhone           5.0   \n",
       "1           asap  -12,13874817  -76,99536133   iPhone           NaN   \n",
       "2           asap  -12,12453079  -77,02780151   iPhone           NaN   \n",
       "3           asap  -12,13885117  -76,99530029   iPhone           NaN   \n",
       "4       reserved  -12,08995438  -76,92626953   iPhone           4.0   \n",
       "...          ...           ...           ...      ...           ...   \n",
       "11550       asap  -12,09699249  -77,04226685   iPhone           5.0   \n",
       "11551       asap    -12,105472    -77,018854      web           NaN   \n",
       "11552       asap  -12,08918381  -76,97341919   iPhone           NaN   \n",
       "11553       asap   -12,0988425   -76,9706896      web           NaN   \n",
       "11554       asap  -12,11039332  -77,03737602  Android           NaN   \n",
       "\n",
       "                              driver_id                           taxi_id  \\\n",
       "0      583949a89a9ee17d19e3ca4f137b6b4c  b12f4f09c783e29fe0d0ea624530db56   \n",
       "1                                   NaN                               NaN   \n",
       "2                                   NaN                               NaN   \n",
       "3                                   NaN                               NaN   \n",
       "4      d665fb9f75ef5d9cd0fd89479380ba78  0accdd3aa5a322f4129fa20b53278c69   \n",
       "...                                 ...                               ...   \n",
       "11550  ae06c34243f741e203e97c48ebcbd9da  f6254a51b033dcea52c37c715b010474   \n",
       "11551  3abce16ea601affbeae8f50584ce72ef  ab6ee368af1a9e1293acc0d14d1f9338   \n",
       "11552  b66c43e298753a3d39220e53008a4325  b66c43e298753a3d39220e53008a4f19   \n",
       "11553  ecdcce0c956e266ed26c80fd9e5cbb8f  1d3c551d7fc3d0daf73f0a8c82781c2d   \n",
       "11554  ecdcce0c956e266ed26c80fd9e5cbb8f  1d3c551d7fc3d0daf73f0a8c82781c2d   \n",
       "\n",
       "            icon            start_at              end_at       end_lat  \\\n",
       "0      executive 2010-11-16 16:44:00 2010-11-16 17:29:00  -12,05537033   \n",
       "1      executive 2010-06-01 00:34:00 2010-06-01 00:37:00  -12,12465668   \n",
       "2      executive 2010-05-31 05:01:00 2010-05-31 05:04:00  -12,13883209   \n",
       "3      executive 2010-06-01 00:29:00 2010-06-01 00:32:00  -12,12458801   \n",
       "4      executive 2010-09-11 23:55:00 2010-09-12 01:07:00  -12,02223206   \n",
       "...          ...                 ...                 ...           ...   \n",
       "11550  executive 2010-11-29 13:27:00 2010-11-29 14:08:00  -12,08663177   \n",
       "11551  executive 2010-11-29 15:29:00 2010-11-29 15:29:00   -12,1012259   \n",
       "11552  executive 2010-11-28 22:28:00 2010-11-28 23:22:00    -12,110672   \n",
       "11553  executive 2010-11-27 20:11:00 2010-11-27 20:31:00        -12,15   \n",
       "11554  executive 2010-11-29 18:23:00 2010-11-29 18:55:00  -12,09350214   \n",
       "\n",
       "            end_lon  end_state driver_start_lat driver_start_lon  \\\n",
       "0       -77,0413208   drop off     -12,10825481      -77,0272739   \n",
       "1      -77,02886963  not found              NaN              NaN   \n",
       "2      -76,99530029  not found              NaN              NaN   \n",
       "3      -77,02896118  not found              NaN              NaN   \n",
       "4      -77,10638428   drop off     -12,08311558      -76,9277072   \n",
       "...             ...        ...              ...              ...   \n",
       "11550  -76,99130249   drop off     -12,09508341     -77,03027931   \n",
       "11551    -77,037736   drop off                0                0   \n",
       "11552  -77,03985596   drop off     -12,08397746     -76,96980433   \n",
       "11553   -77,0166667   drop off     -12,09828368     -76,97143374   \n",
       "11554  -77,02761512   drop off      -12,1103766       -77,037526   \n",
       "\n",
       "               arrived_at  rider_score  \n",
       "0     2010-11-16 17:02:00          5.0  \n",
       "1                     NaT          NaN  \n",
       "2                     NaT          NaN  \n",
       "3                     NaT          NaN  \n",
       "4     2010-09-11 23:50:00          5.0  \n",
       "...                   ...          ...  \n",
       "11550 2010-11-29 13:42:00          5.0  \n",
       "11551 2010-11-29 15:29:00          5.0  \n",
       "11552 2010-11-28 22:38:00          5.0  \n",
       "11553 2010-11-27 20:12:00          5.0  \n",
       "11554 2010-11-29 18:37:00          5.0  \n",
       "\n",
       "[11539 rows x 19 columns]"
      ]
     },
     "execution_count": 38,
     "metadata": {},
     "output_type": "execute_result"
    }
   ],
   "source": [
    "taxi = taxi_journey_df[taxi_journey_df['start_type'].isin(['asap', 'reserved'])]\n",
    "taxi\n"
   ]
  },
  {
   "cell_type": "markdown",
   "metadata": {
    "id": "EW06EX8tjOcC"
   },
   "source": [
    "## Задача 3\n",
    "### Анализ времени подачи машины — долго ли пассажиры ждут такси. \n",
    "\n",
    "Для этого создадим колонку `wait_time`, в которой будет храниться разница между временем подачи машины (см.колонку `arrived_at`) и временем заказа (см.колонку `start_at`). \n",
    "Определим медианное время подачи машины в минутах."
   ]
  },
  {
   "cell_type": "code",
   "execution_count": 39,
   "metadata": {
    "id": "4IngMq5QjOcC"
   },
   "outputs": [
    {
     "data": {
      "text/plain": [
       "Timedelta('0 days 00:05:00')"
      ]
     },
     "execution_count": 39,
     "metadata": {},
     "output_type": "execute_result"
    }
   ],
   "source": [
    "taxi_journey_df['wait_time']=taxi_journey_df.arrived_at - taxi_journey_df.start_at\n",
    "taxi_journey_df.wait_time.median()"
   ]
  },
  {
   "cell_type": "markdown",
   "metadata": {
    "id": "IqNPM7VfjOcD"
   },
   "source": [
    "## Задача 4\n",
    "### Определим id водителя, который чаще всего опаздывал на заказы, заранее сделанные клиентами.\n",
    "\n",
    "Если клиент сделал заказ к определенному времени (`start_type` == 'reserved'), но ему пришлось ждать машину (`wait_time` > 0), значит, водитель опоздал. "
   ]
  },
  {
   "cell_type": "code",
   "execution_count": 40,
   "metadata": {
    "id": "Zedw6CnEjOcE"
   },
   "outputs": [
    {
     "data": {
      "text/plain": [
       "'d665fb9f75ef5d9cd0fd89479380ba78'"
      ]
     },
     "execution_count": 40,
     "metadata": {},
     "output_type": "execute_result"
    }
   ],
   "source": [
    "time_difference = pd.to_timedelta(0)\n",
    "taxi_journey_df.query(\"start_type=='reserved'and wait_time > @time_difference\")\n",
    "driver_cnt_delay = taxi_journey_df.driver_id.value_counts()\n",
    "driver_cnt_delay.idxmax()"
   ]
  },
  {
   "cell_type": "markdown",
   "metadata": {
    "id": "g8QQh9MNjOcI"
   },
   "source": [
    "#### Добавим столбец `month`, где будет храниться номер месяца, в котором был сделан заказ (см.колонку `start_at`),  и столбец `weekday` – название дня недели."
   ]
  },
  {
   "cell_type": "code",
   "execution_count": 41,
   "metadata": {
    "id": "mj9yDby3jOcI"
   },
   "outputs": [],
   "source": [
    "taxi_journey_df['month']=taxi_journey_df.start_at.dt.month\n",
    "taxi_journey_df['weekday']=taxi_journey_df.start_at.dt.day_name()"
   ]
  },
  {
   "cell_type": "markdown",
   "metadata": {
    "id": "aLYH2r8cjOcK"
   },
   "source": [
    "## Задача 5\n",
    "### Есть ли сезонные колебания в заказах такси?\n",
    "Чтобы понять это, построим график количества заказов по месяцам и определим месяц с наименьшим количеством заказов летом.\n",
    "\n",
    "(В июле количество заказов было наименьшим)"
   ]
  },
  {
   "cell_type": "code",
   "execution_count": 42,
   "metadata": {
    "id": "l1x1dCMDjOcK"
   },
   "outputs": [
    {
     "data": {
      "text/plain": [
       "<matplotlib.axes._subplots.AxesSubplot at 0x7fadc9f5d080>"
      ]
     },
     "execution_count": 42,
     "metadata": {},
     "output_type": "execute_result"
    },
    {
     "data": {
      "image/png": "[encoded data removed]",
      "text/plain": [
       "<Figure size 432x288 with 1 Axes>"
      ]
     },
     "metadata": {
      "needs_background": "light"
     },
     "output_type": "display_data"
    }
   ],
   "source": [
    "sns.countplot(data = taxi_journey_df, x = 'month')"
   ]
  },
  {
   "cell_type": "markdown",
   "metadata": {
    "id": "XDom2cJhjOcL"
   },
   "source": [
    "#### Определим, в какой день недели поступает меньше всего заказов.\n",
    "\n",
    "Для этого построим аналогичный график по дням недели (см. колонку `weekday`).\n",
    "\n",
    "(по средам меньше всего заказов)"
   ]
  },
  {
   "cell_type": "code",
   "execution_count": 43,
   "metadata": {
    "id": "Wh6Hnhw6jOcL"
   },
   "outputs": [
    {
     "name": "stderr",
     "output_type": "stream",
     "text": [
      "/opt/tljh/user/lib/python3.7/site-packages/seaborn/_decorators.py:43: FutureWarning: Pass the following variable as a keyword arg: x. From version 0.12, the only valid positional argument will be `data`, and passing other arguments without an explicit keyword will result in an error or misinterpretation.\n",
      "  FutureWarning\n"
     ]
    },
    {
     "data": {
      "text/plain": [
       "<matplotlib.axes._subplots.AxesSubplot at 0x7fadc9453ba8>"
      ]
     },
     "execution_count": 43,
     "metadata": {},
     "output_type": "execute_result"
    },
    {
     "data": {
      "image/png": "[encoded data removed]",
      "text/plain": [
       "<Figure size 1152x648 with 1 Axes>"
      ]
     },
     "metadata": {
      "needs_background": "light"
     },
     "output_type": "display_data"
    }
   ],
   "source": [
    "plt.figure(figsize=(16,9))  \n",
    "sns.countplot(data = taxi_journey_df, x = 'weekday')\n",
    "sns.countplot(taxi_journey_df['weekday'], order=['Monday', 'Tuesday', 'Wednesday', 'Thursday', 'Friday', 'Saturday', 'Sunday'])"
   ]
  },
  {
   "cell_type": "markdown",
   "metadata": {
    "id": "-u5RQQBijOcN"
   },
   "source": [
    "## Итоги"
   ]
  },
  {
   "cell_type": "markdown",
   "metadata": {
    "id": "hsaIHVaijOcN"
   },
   "source": [
    "В этом проекте мы собрали данные о поездках на такси в Перу в один датафрейм и проанализировали их в разрезе по платформам, построили графики и сравнили оценки водителей и пассажиров, определили самого опаздывающего водителя, посмотрели на годовую и недельную сезонность заказов. В процессе были закреплены навыки работы с временнЫми данными и библиотеками pandas, seaborn и matplotlib.\n",
    "\n",
    "В ходе анализа данных решены следующие задачи:\n",
    "\n",
    "1. Определены доли заказов, сделанных с каждой уникальной платформы. С платформы Android сделано больше всего заказов;\n",
    "2. Более чем в 80% случаев водители поставили клиентам 5 звездочек. Водители ставят меньше оценок 0, чем клиенты;\n",
    "3. Время подачи машины в среднем 5 минут;\n",
    "4. Водитель с id d665fb9f75ef5d9cd0fd89479380ba78, чаще всего опаздывал на заказы, заранее сделанные клиентами;\n",
    "5. Меньше всего заказов такси по средам и в июле."
   ]
  }
 ],
 "metadata": {
  "colab": {
   "provenance": []
  },
  "kernelspec": {
   "display_name": "Python 3",
   "language": "python",
   "name": "python3"
  },
  "language_info": {
   "codemirror_mode": {
    "name": "ipython",
    "version": 3
   },
   "file_extension": ".py",
   "mimetype": "text/x-python",
   "name": "python",
   "nbconvert_exporter": "python",
   "pygments_lexer": "ipython3",
   "version": "3.7.3"
  }
 },
 "nbformat": 4,
 "nbformat_minor": 1
}
