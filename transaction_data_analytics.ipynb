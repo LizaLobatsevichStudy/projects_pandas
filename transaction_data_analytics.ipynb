{
 "cells": [
  {
   "cell_type": "markdown",
   "metadata": {
    "id": "mXWcbp0pv-ld"
   },
   "source": [
    "# Анализ данных о транзакциях"
   ]
  },
  {
   "cell_type": "markdown",
   "metadata": {
    "id": "4p2S6RP1v-lp"
   },
   "source": [
    "## Данные о транзакциях:\n",
    "\n",
    "- InvoiceNo — номер заказа  \n",
    "- StockCode — код товара  \n",
    "- Description — описание товара  \n",
    "- Quantity — количество единиц товара, добавленных в заказ  \n",
    "- InvoiceDate — дата транзакции   \n",
    "- UnitPrice — цена за единицу товара  \n",
    "- CustomerID — id клиента  \n",
    "- Country — страна, где проживает клиент\n",
    "\n",
    "Каждая строка — это отдельная транзакция (т.е. добавление одного товара в корзину или его удаление, если это запись об отмененной транзакции). В данных нет кода для каждой транзакции, только для товара и для заказа. В одном заказе может быть несколько транзакций. Разные товары могут быть в разных заказах. Неотмененные транзакции считаются реализованными (т.е. эти товары были куплены)."
   ]
  },
  {
   "cell_type": "markdown",
   "metadata": {},
   "source": [
    "## Цели:\n",
    "1. Анализ данных о транзакциях;\n",
    "2. Получение инсайтов для бизнес-решений.\n",
    "\n",
    "## Задачи:\n",
    "1. Проанализировать покупки наиболее активных пользователей одной из Германии;\n",
    "2. Определим, какой товар отобранные активные пользователи из Германии добавляли в корзину чаще всего;\n",
    "3. Найти наиболее крупных по выручке заказов;\n",
    "4. Определить количество транзакций того или иного статуса;\n",
    "5. Посчитать количество успешных транзакций каждого пользователя."
   ]
  },
  {
   "cell_type": "markdown",
   "metadata": {},
   "source": [
    "# Часть 1"
   ]
  },
  {
   "cell_type": "markdown",
   "metadata": {
    "id": "gTwgAz6Cv-lt"
   },
   "source": [
    "#### Прочитаем данные с кодировкой `ISO-8859-1`, запишем полученный датафрейм в `retail`. Проверим, встречаются ли в данных повторяющиеся наблюдения и удалим дупликаты."
   ]
  },
  {
   "cell_type": "code",
   "execution_count": 35,
   "metadata": {
    "id": "cYwI5rvOv-l0"
   },
   "outputs": [
    {
     "data": {
      "text/html": [
       "<div>\n",
       "<style scoped>\n",
       "    .dataframe tbody tr th:only-of-type {\n",
       "        vertical-align: middle;\n",
       "    }\n",
       "\n",
       "    .dataframe tbody tr th {\n",
       "        vertical-align: top;\n",
       "    }\n",
       "\n",
       "    .dataframe thead th {\n",
       "        text-align: right;\n",
       "    }\n",
       "</style>\n",
       "<table border=\"1\" class=\"dataframe\">\n",
       "  <thead>\n",
       "    <tr style=\"text-align: right;\">\n",
       "      <th></th>\n",
       "      <th>InvoiceNo</th>\n",
       "      <th>StockCode</th>\n",
       "      <th>Description</th>\n",
       "      <th>Quantity</th>\n",
       "      <th>InvoiceDate</th>\n",
       "      <th>UnitPrice</th>\n",
       "      <th>CustomerID</th>\n",
       "      <th>Country</th>\n",
       "    </tr>\n",
       "  </thead>\n",
       "  <tbody>\n",
       "    <tr>\n",
       "      <th>0</th>\n",
       "      <td>536365</td>\n",
       "      <td>85123A</td>\n",
       "      <td>WHITE HANGING HEART T-LIGHT HOLDER</td>\n",
       "      <td>6</td>\n",
       "      <td>12/1/2010 8:26</td>\n",
       "      <td>2.55</td>\n",
       "      <td>17850.0</td>\n",
       "      <td>United Kingdom</td>\n",
       "    </tr>\n",
       "    <tr>\n",
       "      <th>1</th>\n",
       "      <td>536365</td>\n",
       "      <td>71053</td>\n",
       "      <td>WHITE METAL LANTERN</td>\n",
       "      <td>6</td>\n",
       "      <td>12/1/2010 8:26</td>\n",
       "      <td>3.39</td>\n",
       "      <td>17850.0</td>\n",
       "      <td>United Kingdom</td>\n",
       "    </tr>\n",
       "    <tr>\n",
       "      <th>2</th>\n",
       "      <td>536365</td>\n",
       "      <td>84406B</td>\n",
       "      <td>CREAM CUPID HEARTS COAT HANGER</td>\n",
       "      <td>8</td>\n",
       "      <td>12/1/2010 8:26</td>\n",
       "      <td>2.75</td>\n",
       "      <td>17850.0</td>\n",
       "      <td>United Kingdom</td>\n",
       "    </tr>\n",
       "    <tr>\n",
       "      <th>3</th>\n",
       "      <td>536365</td>\n",
       "      <td>84029G</td>\n",
       "      <td>KNITTED UNION FLAG HOT WATER BOTTLE</td>\n",
       "      <td>6</td>\n",
       "      <td>12/1/2010 8:26</td>\n",
       "      <td>3.39</td>\n",
       "      <td>17850.0</td>\n",
       "      <td>United Kingdom</td>\n",
       "    </tr>\n",
       "    <tr>\n",
       "      <th>4</th>\n",
       "      <td>536365</td>\n",
       "      <td>84029E</td>\n",
       "      <td>RED WOOLLY HOTTIE WHITE HEART.</td>\n",
       "      <td>6</td>\n",
       "      <td>12/1/2010 8:26</td>\n",
       "      <td>3.39</td>\n",
       "      <td>17850.0</td>\n",
       "      <td>United Kingdom</td>\n",
       "    </tr>\n",
       "    <tr>\n",
       "      <th>...</th>\n",
       "      <td>...</td>\n",
       "      <td>...</td>\n",
       "      <td>...</td>\n",
       "      <td>...</td>\n",
       "      <td>...</td>\n",
       "      <td>...</td>\n",
       "      <td>...</td>\n",
       "      <td>...</td>\n",
       "    </tr>\n",
       "    <tr>\n",
       "      <th>541904</th>\n",
       "      <td>581587</td>\n",
       "      <td>22613</td>\n",
       "      <td>PACK OF 20 SPACEBOY NAPKINS</td>\n",
       "      <td>12</td>\n",
       "      <td>12/9/2011 12:50</td>\n",
       "      <td>0.85</td>\n",
       "      <td>12680.0</td>\n",
       "      <td>France</td>\n",
       "    </tr>\n",
       "    <tr>\n",
       "      <th>541905</th>\n",
       "      <td>581587</td>\n",
       "      <td>22899</td>\n",
       "      <td>CHILDREN'S APRON DOLLY GIRL</td>\n",
       "      <td>6</td>\n",
       "      <td>12/9/2011 12:50</td>\n",
       "      <td>2.10</td>\n",
       "      <td>12680.0</td>\n",
       "      <td>France</td>\n",
       "    </tr>\n",
       "    <tr>\n",
       "      <th>541906</th>\n",
       "      <td>581587</td>\n",
       "      <td>23254</td>\n",
       "      <td>CHILDRENS CUTLERY DOLLY GIRL</td>\n",
       "      <td>4</td>\n",
       "      <td>12/9/2011 12:50</td>\n",
       "      <td>4.15</td>\n",
       "      <td>12680.0</td>\n",
       "      <td>France</td>\n",
       "    </tr>\n",
       "    <tr>\n",
       "      <th>541907</th>\n",
       "      <td>581587</td>\n",
       "      <td>23255</td>\n",
       "      <td>CHILDRENS CUTLERY CIRCUS PARADE</td>\n",
       "      <td>4</td>\n",
       "      <td>12/9/2011 12:50</td>\n",
       "      <td>4.15</td>\n",
       "      <td>12680.0</td>\n",
       "      <td>France</td>\n",
       "    </tr>\n",
       "    <tr>\n",
       "      <th>541908</th>\n",
       "      <td>581587</td>\n",
       "      <td>22138</td>\n",
       "      <td>BAKING SET 9 PIECE RETROSPOT</td>\n",
       "      <td>3</td>\n",
       "      <td>12/9/2011 12:50</td>\n",
       "      <td>4.95</td>\n",
       "      <td>12680.0</td>\n",
       "      <td>France</td>\n",
       "    </tr>\n",
       "  </tbody>\n",
       "</table>\n",
       "<p>541909 rows × 8 columns</p>\n",
       "</div>"
      ],
      "text/plain": [
       "       InvoiceNo StockCode                          Description  Quantity  \\\n",
       "0         536365    85123A   WHITE HANGING HEART T-LIGHT HOLDER         6   \n",
       "1         536365     71053                  WHITE METAL LANTERN         6   \n",
       "2         536365    84406B       CREAM CUPID HEARTS COAT HANGER         8   \n",
       "3         536365    84029G  KNITTED UNION FLAG HOT WATER BOTTLE         6   \n",
       "4         536365    84029E       RED WOOLLY HOTTIE WHITE HEART.         6   \n",
       "...          ...       ...                                  ...       ...   \n",
       "541904    581587     22613          PACK OF 20 SPACEBOY NAPKINS        12   \n",
       "541905    581587     22899         CHILDREN'S APRON DOLLY GIRL          6   \n",
       "541906    581587     23254        CHILDRENS CUTLERY DOLLY GIRL          4   \n",
       "541907    581587     23255      CHILDRENS CUTLERY CIRCUS PARADE         4   \n",
       "541908    581587     22138        BAKING SET 9 PIECE RETROSPOT          3   \n",
       "\n",
       "            InvoiceDate  UnitPrice  CustomerID         Country  \n",
       "0        12/1/2010 8:26       2.55     17850.0  United Kingdom  \n",
       "1        12/1/2010 8:26       3.39     17850.0  United Kingdom  \n",
       "2        12/1/2010 8:26       2.75     17850.0  United Kingdom  \n",
       "3        12/1/2010 8:26       3.39     17850.0  United Kingdom  \n",
       "4        12/1/2010 8:26       3.39     17850.0  United Kingdom  \n",
       "...                 ...        ...         ...             ...  \n",
       "541904  12/9/2011 12:50       0.85     12680.0          France  \n",
       "541905  12/9/2011 12:50       2.10     12680.0          France  \n",
       "541906  12/9/2011 12:50       4.15     12680.0          France  \n",
       "541907  12/9/2011 12:50       4.15     12680.0          France  \n",
       "541908  12/9/2011 12:50       4.95     12680.0          France  \n",
       "\n",
       "[541909 rows x 8 columns]"
      ]
     },
     "execution_count": 35,
     "metadata": {},
     "output_type": "execute_result"
    }
   ],
   "source": [
    "import pandas  as pd\n",
    "import seaborn as sns\n",
    "retail = pd.read_csv('5_data.zip', encoding='ISO-8859-1')\n",
    "retail\n",
    "\n"
   ]
  },
  {
   "cell_type": "markdown",
   "metadata": {
    "id": "d9-HFNWrv-l1"
   },
   "source": [
    "#### Отберём и удалим дупликаты."
   ]
  },
  {
   "cell_type": "code",
   "execution_count": 26,
   "metadata": {
    "id": "6z33f-xCv-l3"
   },
   "outputs": [],
   "source": [
    "duplicates = retail.loc[retail.duplicated()]\n",
    "retail = retail.drop_duplicates()\n",
    "\n"
   ]
  },
  {
   "cell_type": "markdown",
   "metadata": {
    "id": "TcsYe27Gv-mI"
   },
   "source": [
    "#### Продолжим предобработку данных перед их анализом. \n",
    "Данные содержат в себе записи как об успешных транзакциях, так и об отмененных. Если пользователь отменил транзакцию, в начале номера заказа (см.колонку `InvoiceNo`) ставится `C` (от `canceled`).  *Удалим эти записи из датафрейма `retail`, дальше они нам не понадобятся .*"
   ]
  },
  {
   "cell_type": "markdown",
   "metadata": {
    "id": "8Vlp2e5yv-mJ"
   },
   "source": [
    "#### Определим для каждой строки в колонке `InvoiceNo`, начинается ли эта строка с английской буквы `C`, и посчитаем количество таких строк."
   ]
  },
  {
   "cell_type": "code",
   "execution_count": 27,
   "metadata": {
    "id": "gurW3xP8v-mK"
   },
   "outputs": [
    {
     "data": {
      "text/plain": [
       "9251"
      ]
     },
     "execution_count": 27,
     "metadata": {},
     "output_type": "execute_result"
    }
   ],
   "source": [
    "retail.InvoiceNo.str.startswith('C').sum()\n",
    "\n"
   ]
  },
  {
   "cell_type": "markdown",
   "metadata": {
    "id": "9hxFBVvgv-mL"
   },
   "source": [
    "#### Удалим записи об отмененных транзакциях из датафрейма `retail`."
   ]
  },
  {
   "cell_type": "code",
   "execution_count": 28,
   "metadata": {
    "id": "m7lt7JZkv-mM"
   },
   "outputs": [],
   "source": [
    "retail = retail.loc[~retail.InvoiceNo.str.startswith('C')]\n"
   ]
  },
  {
   "cell_type": "markdown",
   "metadata": {
    "id": "1hvjTr7Hv-mU"
   },
   "source": [
    "## Задача 1\n",
    "### Проанализировать покупки наиболее активных пользователей одной из Германии. \n",
    "\n",
    "#### Для этого сначала найдём пользователей из Германии, которые совершили значительное количество заказов, т.е. выше определенного порога N.\n",
    "\n",
    "Мои коллеги расчитали, что этот порог — 80-й процентиль. То есть нужно посчитать число заказов (см.колонку `InvoiceNo`) для каждого пользователя (см. колонку `CustomerID`) из Германии (Germany) и оставить только тех, кто совершил более N заказов, где N – 80-й процентиль. "
   ]
  },
  {
   "cell_type": "code",
   "execution_count": 8,
   "metadata": {
    "id": "tgRVSIPkv-mX"
   },
   "outputs": [],
   "source": [
    "retail = retail.query(\"Country == 'Germany'\")\n"
   ]
  },
  {
   "cell_type": "markdown",
   "metadata": {
    "id": "_QOwzmWRv-mY"
   },
   "source": [
    "#### Посчитаем количество заказов (не транзакций) для каждого пользователя и сохраним результат в новый датафрейм `invoice_dist`"
   ]
  },
  {
   "cell_type": "code",
   "execution_count": 9,
   "metadata": {
    "id": "4WGg53nlv-ma"
   },
   "outputs": [],
   "source": [
    "invoice_dist = retail.groupby('CustomerID', as_index=False)\\\n",
    "                     .agg({'InvoiceNo': 'nunique'})\\\n",
    "                     .rename(columns={'InvoiceNo': 'total_invoices'})\n"
   ]
  },
  {
   "cell_type": "code",
   "execution_count": 10,
   "metadata": {
    "id": "N0ZvDZRJv-mc"
   },
   "outputs": [],
   "source": [
    "N = invoice_dist.total_invoices.quantile(q=0.8)\n",
    "\n"
   ]
  },
  {
   "cell_type": "markdown",
   "metadata": {
    "id": "_yf9CkXiv-mc"
   },
   "source": [
    "#### Определим значение порога N – 80го процентиля для числа заказов"
   ]
  },
  {
   "cell_type": "code",
   "execution_count": 11,
   "metadata": {
    "id": "_x5GmzZBv-md"
   },
   "outputs": [],
   "source": [
    "invoice_dist = invoice_dist.loc[invoice_dist.total_invoices > N]\n",
    "\n"
   ]
  },
  {
   "cell_type": "markdown",
   "metadata": {
    "id": "oacmh1iZv-md"
   },
   "source": [
    "#### Оставим только записи о тех клиентах, кто совершил заказов больше, чем порог N"
   ]
  },
  {
   "cell_type": "code",
   "execution_count": 12,
   "metadata": {
    "id": "qrFD8vnZv-me"
   },
   "outputs": [],
   "source": [
    "germany_top = invoice_dist['CustomerID']\n",
    "\n"
   ]
  },
  {
   "cell_type": "markdown",
   "metadata": {
    "id": "Q2dZG4ehv-me"
   },
   "source": [
    "####  Запишем в переменную `germany_top` только оставшиеся id пользователей"
   ]
  },
  {
   "cell_type": "code",
   "execution_count": 13,
   "metadata": {
    "id": "r5qmSnJQv-mg"
   },
   "outputs": [
    {
     "data": {
      "text/plain": [
       "3     12471.0\n",
       "6     12474.0\n",
       "8     12476.0\n",
       "12    12481.0\n",
       "16    12500.0\n",
       "26    12524.0\n",
       "37    12569.0\n",
       "44    12600.0\n",
       "51    12619.0\n",
       "52    12621.0\n",
       "56    12626.0\n",
       "64    12647.0\n",
       "69    12662.0\n",
       "77    12705.0\n",
       "78    12708.0\n",
       "79    12709.0\n",
       "81    12712.0\n",
       "83    12720.0\n",
       "Name: CustomerID, dtype: float64"
      ]
     },
     "execution_count": 13,
     "metadata": {},
     "output_type": "execute_result"
    }
   ],
   "source": [
    "retail = retail.query(\"Country == 'Germany'\")\n",
    "invoice_dist = retail.groupby('CustomerID', as_index=False)\\\n",
    "                     .agg({'InvoiceNo': 'nunique'})\\\n",
    "                     .rename(columns={'InvoiceNo': 'total_invoices'})\n",
    "N = invoice_dist.total_invoices.quantile(q=0.8)\n",
    "invoice_dist = invoice_dist.loc[invoice_dist.total_invoices > N]\n",
    "germany_top = invoice_dist['CustomerID']\n",
    "germany_top"
   ]
  },
  {
   "cell_type": "markdown",
   "metadata": {
    "id": "9VJChOx7v-mq"
   },
   "source": [
    "#### Отберём все записи о транзакциях интересующих пользователей. "
   ]
  },
  {
   "cell_type": "code",
   "execution_count": 14,
   "metadata": {
    "id": "Jn8pUJUAv-mt"
   },
   "outputs": [
    {
     "data": {
      "text/html": [
       "<div>\n",
       "<style scoped>\n",
       "    .dataframe tbody tr th:only-of-type {\n",
       "        vertical-align: middle;\n",
       "    }\n",
       "\n",
       "    .dataframe tbody tr th {\n",
       "        vertical-align: top;\n",
       "    }\n",
       "\n",
       "    .dataframe thead th {\n",
       "        text-align: right;\n",
       "    }\n",
       "</style>\n",
       "<table border=\"1\" class=\"dataframe\">\n",
       "  <thead>\n",
       "    <tr style=\"text-align: right;\">\n",
       "      <th></th>\n",
       "      <th>InvoiceNo</th>\n",
       "      <th>StockCode</th>\n",
       "      <th>Description</th>\n",
       "      <th>Quantity</th>\n",
       "      <th>InvoiceDate</th>\n",
       "      <th>UnitPrice</th>\n",
       "      <th>CustomerID</th>\n",
       "      <th>Country</th>\n",
       "    </tr>\n",
       "  </thead>\n",
       "  <tbody>\n",
       "    <tr>\n",
       "      <th>1109</th>\n",
       "      <td>536527</td>\n",
       "      <td>22809</td>\n",
       "      <td>SET OF 6 T-LIGHTS SANTA</td>\n",
       "      <td>6</td>\n",
       "      <td>12/1/2010 13:04</td>\n",
       "      <td>2.95</td>\n",
       "      <td>12662.0</td>\n",
       "      <td>Germany</td>\n",
       "    </tr>\n",
       "    <tr>\n",
       "      <th>1110</th>\n",
       "      <td>536527</td>\n",
       "      <td>84347</td>\n",
       "      <td>ROTATING SILVER ANGELS T-LIGHT HLDR</td>\n",
       "      <td>6</td>\n",
       "      <td>12/1/2010 13:04</td>\n",
       "      <td>2.55</td>\n",
       "      <td>12662.0</td>\n",
       "      <td>Germany</td>\n",
       "    </tr>\n",
       "    <tr>\n",
       "      <th>1111</th>\n",
       "      <td>536527</td>\n",
       "      <td>84945</td>\n",
       "      <td>MULTI COLOUR SILVER T-LIGHT HOLDER</td>\n",
       "      <td>12</td>\n",
       "      <td>12/1/2010 13:04</td>\n",
       "      <td>0.85</td>\n",
       "      <td>12662.0</td>\n",
       "      <td>Germany</td>\n",
       "    </tr>\n",
       "    <tr>\n",
       "      <th>1112</th>\n",
       "      <td>536527</td>\n",
       "      <td>22242</td>\n",
       "      <td>5 HOOK HANGER MAGIC TOADSTOOL</td>\n",
       "      <td>12</td>\n",
       "      <td>12/1/2010 13:04</td>\n",
       "      <td>1.65</td>\n",
       "      <td>12662.0</td>\n",
       "      <td>Germany</td>\n",
       "    </tr>\n",
       "    <tr>\n",
       "      <th>1113</th>\n",
       "      <td>536527</td>\n",
       "      <td>22244</td>\n",
       "      <td>3 HOOK HANGER MAGIC GARDEN</td>\n",
       "      <td>12</td>\n",
       "      <td>12/1/2010 13:04</td>\n",
       "      <td>1.95</td>\n",
       "      <td>12662.0</td>\n",
       "      <td>Germany</td>\n",
       "    </tr>\n",
       "    <tr>\n",
       "      <th>...</th>\n",
       "      <td>...</td>\n",
       "      <td>...</td>\n",
       "      <td>...</td>\n",
       "      <td>...</td>\n",
       "      <td>...</td>\n",
       "      <td>...</td>\n",
       "      <td>...</td>\n",
       "      <td>...</td>\n",
       "    </tr>\n",
       "    <tr>\n",
       "      <th>541726</th>\n",
       "      <td>581570</td>\n",
       "      <td>22139</td>\n",
       "      <td>RETROSPOT TEA SET CERAMIC 11 PC</td>\n",
       "      <td>3</td>\n",
       "      <td>12/9/2011 11:59</td>\n",
       "      <td>4.95</td>\n",
       "      <td>12662.0</td>\n",
       "      <td>Germany</td>\n",
       "    </tr>\n",
       "    <tr>\n",
       "      <th>541727</th>\n",
       "      <td>581570</td>\n",
       "      <td>23077</td>\n",
       "      <td>DOUGHNUT LIP GLOSS</td>\n",
       "      <td>20</td>\n",
       "      <td>12/9/2011 11:59</td>\n",
       "      <td>1.25</td>\n",
       "      <td>12662.0</td>\n",
       "      <td>Germany</td>\n",
       "    </tr>\n",
       "    <tr>\n",
       "      <th>541728</th>\n",
       "      <td>581570</td>\n",
       "      <td>20750</td>\n",
       "      <td>RED RETROSPOT MINI CASES</td>\n",
       "      <td>2</td>\n",
       "      <td>12/9/2011 11:59</td>\n",
       "      <td>7.95</td>\n",
       "      <td>12662.0</td>\n",
       "      <td>Germany</td>\n",
       "    </tr>\n",
       "    <tr>\n",
       "      <th>541729</th>\n",
       "      <td>581570</td>\n",
       "      <td>22505</td>\n",
       "      <td>MEMO BOARD COTTAGE DESIGN</td>\n",
       "      <td>4</td>\n",
       "      <td>12/9/2011 11:59</td>\n",
       "      <td>4.95</td>\n",
       "      <td>12662.0</td>\n",
       "      <td>Germany</td>\n",
       "    </tr>\n",
       "    <tr>\n",
       "      <th>541730</th>\n",
       "      <td>581570</td>\n",
       "      <td>POST</td>\n",
       "      <td>POSTAGE</td>\n",
       "      <td>1</td>\n",
       "      <td>12/9/2011 11:59</td>\n",
       "      <td>18.00</td>\n",
       "      <td>12662.0</td>\n",
       "      <td>Germany</td>\n",
       "    </tr>\n",
       "  </tbody>\n",
       "</table>\n",
       "<p>4175 rows × 8 columns</p>\n",
       "</div>"
      ],
      "text/plain": [
       "       InvoiceNo StockCode                          Description  Quantity  \\\n",
       "1109      536527     22809              SET OF 6 T-LIGHTS SANTA         6   \n",
       "1110      536527     84347  ROTATING SILVER ANGELS T-LIGHT HLDR         6   \n",
       "1111      536527     84945   MULTI COLOUR SILVER T-LIGHT HOLDER        12   \n",
       "1112      536527     22242        5 HOOK HANGER MAGIC TOADSTOOL        12   \n",
       "1113      536527     22244           3 HOOK HANGER MAGIC GARDEN        12   \n",
       "...          ...       ...                                  ...       ...   \n",
       "541726    581570     22139     RETROSPOT TEA SET CERAMIC 11 PC          3   \n",
       "541727    581570     23077                  DOUGHNUT LIP GLOSS         20   \n",
       "541728    581570     20750             RED RETROSPOT MINI CASES         2   \n",
       "541729    581570     22505            MEMO BOARD COTTAGE DESIGN         4   \n",
       "541730    581570      POST                              POSTAGE         1   \n",
       "\n",
       "            InvoiceDate  UnitPrice  CustomerID  Country  \n",
       "1109    12/1/2010 13:04       2.95     12662.0  Germany  \n",
       "1110    12/1/2010 13:04       2.55     12662.0  Germany  \n",
       "1111    12/1/2010 13:04       0.85     12662.0  Germany  \n",
       "1112    12/1/2010 13:04       1.65     12662.0  Germany  \n",
       "1113    12/1/2010 13:04       1.95     12662.0  Germany  \n",
       "...                 ...        ...         ...      ...  \n",
       "541726  12/9/2011 11:59       4.95     12662.0  Germany  \n",
       "541727  12/9/2011 11:59       1.25     12662.0  Germany  \n",
       "541728  12/9/2011 11:59       7.95     12662.0  Germany  \n",
       "541729  12/9/2011 11:59       4.95     12662.0  Germany  \n",
       "541730  12/9/2011 11:59      18.00     12662.0  Germany  \n",
       "\n",
       "[4175 rows x 8 columns]"
      ]
     },
     "execution_count": 14,
     "metadata": {},
     "output_type": "execute_result"
    }
   ],
   "source": [
    "retail.loc[retail['CustomerID'].isin(germany_top)]\n",
    "\n"
   ]
  },
  {
   "cell_type": "code",
   "execution_count": 15,
   "metadata": {
    "id": "Xcp4YfcEv-mv"
   },
   "outputs": [],
   "source": [
    "top_retail_germany = retail.loc[retail['CustomerID'].isin(germany_top)]\n"
   ]
  },
  {
   "cell_type": "markdown",
   "metadata": {
    "id": "ObcEWR_jv-m1"
   },
   "source": [
    "## Задача 2\n",
    "### Определим, какой товар отобранные активные пользователи из Германии (см.датафрейм `top_retail_germany`) добавляли в корзину чаще всего (без учета количества товара)."
   ]
  },
  {
   "cell_type": "markdown",
   "metadata": {
    "id": "WfRDrrpav-m1"
   },
   "source": [
    "#### Посчитаем, сколько раз каждый из товаров добавляли в корзину и самый популярный товар.\n",
    "(товар с id 22326 добавляли в корзину чаще всего)"
   ]
  },
  {
   "cell_type": "code",
   "execution_count": 16,
   "metadata": {
    "id": "kXQe5Rcdv-m2"
   },
   "outputs": [
    {
     "data": {
      "text/plain": [
       "POST     213\n",
       "22326     52\n",
       "22328     38\n",
       "22423     34\n",
       "20719     30\n",
       "        ... \n",
       "23179      1\n",
       "23019      1\n",
       "23299      1\n",
       "21576      1\n",
       "22242      1\n",
       "Name: StockCode, Length: 1158, dtype: int64"
      ]
     },
     "execution_count": 16,
     "metadata": {},
     "output_type": "execute_result"
    }
   ],
   "source": [
    "top_retail_germany.StockCode.value_counts()\n",
    "\n"
   ]
  },
  {
   "cell_type": "markdown",
   "metadata": {
    "id": "-ohcZBCYv-m7"
   },
   "source": [
    "## Задача 3\n",
    "\n",
    "### Найдём 5 наиболее крупных по выручке заказов.\n",
    "\n",
    "Для этого сначала посчитаем сумму покупки для каждой транзакции, т.е. создадим колонку `Revenue` с суммой покупки, используя колонки `Quantity` и `UnitPrice`. Потом для каждого заказа (см.колонку `InvoiceNo`) суммируйем выручку всех входящих в него транзакций — это будет колонка `TotalRevenue`."
   ]
  },
  {
   "cell_type": "code",
   "execution_count": 29,
   "metadata": {
    "id": "D1MBJGsLv-m9"
   },
   "outputs": [
    {
     "data": {
      "text/html": [
       "<div>\n",
       "<style scoped>\n",
       "    .dataframe tbody tr th:only-of-type {\n",
       "        vertical-align: middle;\n",
       "    }\n",
       "\n",
       "    .dataframe tbody tr th {\n",
       "        vertical-align: top;\n",
       "    }\n",
       "\n",
       "    .dataframe thead th {\n",
       "        text-align: right;\n",
       "    }\n",
       "</style>\n",
       "<table border=\"1\" class=\"dataframe\">\n",
       "  <thead>\n",
       "    <tr style=\"text-align: right;\">\n",
       "      <th></th>\n",
       "      <th>Revenue</th>\n",
       "    </tr>\n",
       "    <tr>\n",
       "      <th>InvoiceNo</th>\n",
       "      <th></th>\n",
       "    </tr>\n",
       "  </thead>\n",
       "  <tbody>\n",
       "    <tr>\n",
       "      <th>536365</th>\n",
       "      <td>139.12</td>\n",
       "    </tr>\n",
       "    <tr>\n",
       "      <th>536366</th>\n",
       "      <td>22.20</td>\n",
       "    </tr>\n",
       "    <tr>\n",
       "      <th>536367</th>\n",
       "      <td>278.73</td>\n",
       "    </tr>\n",
       "    <tr>\n",
       "      <th>536368</th>\n",
       "      <td>70.05</td>\n",
       "    </tr>\n",
       "    <tr>\n",
       "      <th>536369</th>\n",
       "      <td>17.85</td>\n",
       "    </tr>\n",
       "    <tr>\n",
       "      <th>...</th>\n",
       "      <td>...</td>\n",
       "    </tr>\n",
       "    <tr>\n",
       "      <th>581586</th>\n",
       "      <td>339.20</td>\n",
       "    </tr>\n",
       "    <tr>\n",
       "      <th>581587</th>\n",
       "      <td>249.45</td>\n",
       "    </tr>\n",
       "    <tr>\n",
       "      <th>A563185</th>\n",
       "      <td>11062.06</td>\n",
       "    </tr>\n",
       "    <tr>\n",
       "      <th>A563186</th>\n",
       "      <td>-11062.06</td>\n",
       "    </tr>\n",
       "    <tr>\n",
       "      <th>A563187</th>\n",
       "      <td>-11062.06</td>\n",
       "    </tr>\n",
       "  </tbody>\n",
       "</table>\n",
       "<p>22064 rows × 1 columns</p>\n",
       "</div>"
      ],
      "text/plain": [
       "            Revenue\n",
       "InvoiceNo          \n",
       "536365       139.12\n",
       "536366        22.20\n",
       "536367       278.73\n",
       "536368        70.05\n",
       "536369        17.85\n",
       "...             ...\n",
       "581586       339.20\n",
       "581587       249.45\n",
       "A563185    11062.06\n",
       "A563186   -11062.06\n",
       "A563187   -11062.06\n",
       "\n",
       "[22064 rows x 1 columns]"
      ]
     },
     "execution_count": 29,
     "metadata": {},
     "output_type": "execute_result"
    }
   ],
   "source": [
    "retail = retail.assign(Revenue = retail.UnitPrice * retail.Quantity)\n",
    "retail = retail.groupby('InvoiceNo').agg({'Revenue':'sum'})  \n",
    "retail\n",
    "\n"
   ]
  },
  {
   "cell_type": "code",
   "execution_count": 18,
   "metadata": {
    "id": "tla9oLgkv-m-"
   },
   "outputs": [
    {
     "data": {
      "text/html": [
       "<div>\n",
       "<style scoped>\n",
       "    .dataframe tbody tr th:only-of-type {\n",
       "        vertical-align: middle;\n",
       "    }\n",
       "\n",
       "    .dataframe tbody tr th {\n",
       "        vertical-align: top;\n",
       "    }\n",
       "\n",
       "    .dataframe thead th {\n",
       "        text-align: right;\n",
       "    }\n",
       "</style>\n",
       "<table border=\"1\" class=\"dataframe\">\n",
       "  <thead>\n",
       "    <tr style=\"text-align: right;\">\n",
       "      <th></th>\n",
       "      <th>TotalRevenue</th>\n",
       "    </tr>\n",
       "    <tr>\n",
       "      <th>InvoiceNo</th>\n",
       "      <th></th>\n",
       "    </tr>\n",
       "  </thead>\n",
       "  <tbody>\n",
       "    <tr>\n",
       "      <th>536527</th>\n",
       "      <td>261.48</td>\n",
       "    </tr>\n",
       "    <tr>\n",
       "      <th>536840</th>\n",
       "      <td>155.35</td>\n",
       "    </tr>\n",
       "    <tr>\n",
       "      <th>536861</th>\n",
       "      <td>303.50</td>\n",
       "    </tr>\n",
       "    <tr>\n",
       "      <th>536967</th>\n",
       "      <td>76.50</td>\n",
       "    </tr>\n",
       "    <tr>\n",
       "      <th>536983</th>\n",
       "      <td>175.53</td>\n",
       "    </tr>\n",
       "    <tr>\n",
       "      <th>...</th>\n",
       "      <td>...</td>\n",
       "    </tr>\n",
       "    <tr>\n",
       "      <th>581266</th>\n",
       "      <td>1188.20</td>\n",
       "    </tr>\n",
       "    <tr>\n",
       "      <th>581494</th>\n",
       "      <td>339.14</td>\n",
       "    </tr>\n",
       "    <tr>\n",
       "      <th>581570</th>\n",
       "      <td>224.95</td>\n",
       "    </tr>\n",
       "    <tr>\n",
       "      <th>581574</th>\n",
       "      <td>277.08</td>\n",
       "    </tr>\n",
       "    <tr>\n",
       "      <th>581578</th>\n",
       "      <td>848.55</td>\n",
       "    </tr>\n",
       "  </tbody>\n",
       "</table>\n",
       "<p>457 rows × 1 columns</p>\n",
       "</div>"
      ],
      "text/plain": [
       "           TotalRevenue\n",
       "InvoiceNo              \n",
       "536527           261.48\n",
       "536840           155.35\n",
       "536861           303.50\n",
       "536967            76.50\n",
       "536983           175.53\n",
       "...                 ...\n",
       "581266          1188.20\n",
       "581494           339.14\n",
       "581570           224.95\n",
       "581574           277.08\n",
       "581578           848.55\n",
       "\n",
       "[457 rows x 1 columns]"
      ]
     },
     "execution_count": 18,
     "metadata": {},
     "output_type": "execute_result"
    }
   ],
   "source": [
    "retail = retail.rename(columns={'Revenue': 'TotalRevenue'})\n",
    "retail\n"
   ]
  },
  {
   "cell_type": "code",
   "execution_count": 19,
   "metadata": {
    "id": "2P19YoGZv-m_"
   },
   "outputs": [],
   "source": [
    "retail = retail.rename(columns={'Revenue': 'TotalRevenue'})\n",
    "\n"
   ]
  },
  {
   "cell_type": "code",
   "execution_count": 20,
   "metadata": {
    "id": "vb5m-zYdv-nC"
   },
   "outputs": [
    {
     "data": {
      "text/html": [
       "<div>\n",
       "<style scoped>\n",
       "    .dataframe tbody tr th:only-of-type {\n",
       "        vertical-align: middle;\n",
       "    }\n",
       "\n",
       "    .dataframe tbody tr th {\n",
       "        vertical-align: top;\n",
       "    }\n",
       "\n",
       "    .dataframe thead th {\n",
       "        text-align: right;\n",
       "    }\n",
       "</style>\n",
       "<table border=\"1\" class=\"dataframe\">\n",
       "  <thead>\n",
       "    <tr style=\"text-align: right;\">\n",
       "      <th></th>\n",
       "      <th>TotalRevenue</th>\n",
       "    </tr>\n",
       "    <tr>\n",
       "      <th>InvoiceNo</th>\n",
       "      <th></th>\n",
       "    </tr>\n",
       "  </thead>\n",
       "  <tbody>\n",
       "    <tr>\n",
       "      <th>552978</th>\n",
       "      <td>9341.26</td>\n",
       "    </tr>\n",
       "    <tr>\n",
       "      <th>564856</th>\n",
       "      <td>4257.06</td>\n",
       "    </tr>\n",
       "    <tr>\n",
       "      <th>543737</th>\n",
       "      <td>2355.95</td>\n",
       "    </tr>\n",
       "    <tr>\n",
       "      <th>581179</th>\n",
       "      <td>2238.51</td>\n",
       "    </tr>\n",
       "    <tr>\n",
       "      <th>550137</th>\n",
       "      <td>2221.02</td>\n",
       "    </tr>\n",
       "  </tbody>\n",
       "</table>\n",
       "</div>"
      ],
      "text/plain": [
       "           TotalRevenue\n",
       "InvoiceNo              \n",
       "552978          9341.26\n",
       "564856          4257.06\n",
       "543737          2355.95\n",
       "581179          2238.51\n",
       "550137          2221.02"
      ]
     },
     "execution_count": 20,
     "metadata": {},
     "output_type": "execute_result"
    }
   ],
   "source": [
    "retail = retail.sort_values('TotalRevenue', ascending=False).head(5)\n",
    "retail\n",
    "\n"
   ]
  },
  {
   "cell_type": "code",
   "execution_count": 21,
   "metadata": {
    "id": "jmyvsxBjv-nE"
   },
   "outputs": [
    {
     "data": {
      "text/plain": [
       "Index(['552978', '564856', '543737', '581179', '550137'], dtype='object', name='InvoiceNo')"
      ]
     },
     "execution_count": 21,
     "metadata": {},
     "output_type": "execute_result"
    }
   ],
   "source": [
    "retail.index\n",
    "\n",
    "\n"
   ]
  },
  {
   "cell_type": "markdown",
   "metadata": {
    "id": "eLwt-AOtv-nL"
   },
   "source": [
    "# Часть 2\n",
    "Задача — проанализировать транзакции пользователей с точки зрения статуса транзакций. "
   ]
  },
  {
   "cell_type": "markdown",
   "metadata": {
    "id": "-Veepq2ev-nM"
   },
   "source": [
    "Работать с прошлыми данными мы закончили. \n",
    "Переключаемся на работу с новым датасетом `transaction_data.csv`. \n",
    "\n",
    "## Данные:\n",
    "\n",
    "- date – дата (2020-03-02 00:00:00 – 2020-03-02 01:29:05)  \n",
    "- name – имя пользователя  \n",
    "- transaction – статус транзакции  \n",
    "- minute – сколько минут прошло с начала дня (эта колонка будет доступна в данных с определенного шага)\n",
    "\n",
    "Каждая строка — это отдельная транзакция."
   ]
  },
  {
   "cell_type": "markdown",
   "metadata": {
    "id": "RGvUC9zev-nN"
   },
   "source": [
    "#### Определим, сколько в датасете пропущенных значений"
   ]
  },
  {
   "cell_type": "markdown",
   "metadata": {
    "id": "hN3UOi_Uv-nN"
   },
   "source": [
    "<details>\n",
    "<summary>&#9658; Нажмите сюда, чтобы увидеть подсказку</summary>\n",
    "  <p>\n",
    "      \n",
    "Данные находятся в файле формата CSV. Для их загрузки воспользуйтесь функцией `pd.read_csv()`, передав в качестве аргумента путь к файлу. Например,\n",
    "```python\n",
    "df = pd.read_csv('data.csv')\n",
    "```\n",
    "считает файл `data.csv`, хранящийся в той же папке, что и юпитер ноутбук, в котором вы сейчас работаете.\n",
    "</p>\n",
    "</details>"
   ]
  },
  {
   "cell_type": "code",
   "execution_count": 30,
   "metadata": {
    "id": "QGFhN3YWv-nN"
   },
   "outputs": [
    {
     "data": {
      "text/html": [
       "<div>\n",
       "<style scoped>\n",
       "    .dataframe tbody tr th:only-of-type {\n",
       "        vertical-align: middle;\n",
       "    }\n",
       "\n",
       "    .dataframe tbody tr th {\n",
       "        vertical-align: top;\n",
       "    }\n",
       "\n",
       "    .dataframe thead th {\n",
       "        text-align: right;\n",
       "    }\n",
       "</style>\n",
       "<table border=\"1\" class=\"dataframe\">\n",
       "  <thead>\n",
       "    <tr style=\"text-align: right;\">\n",
       "      <th></th>\n",
       "      <th>date</th>\n",
       "      <th>name</th>\n",
       "      <th>transaction</th>\n",
       "    </tr>\n",
       "  </thead>\n",
       "  <tbody>\n",
       "    <tr>\n",
       "      <th>0</th>\n",
       "      <td>2020-03-02 00:37:20</td>\n",
       "      <td>Ekaterina_Petrova</td>\n",
       "      <td>cancelled</td>\n",
       "    </tr>\n",
       "    <tr>\n",
       "      <th>1</th>\n",
       "      <td>2020-03-02 00:59:09</td>\n",
       "      <td>Irina_Fedorova</td>\n",
       "      <td>successfull</td>\n",
       "    </tr>\n",
       "    <tr>\n",
       "      <th>2</th>\n",
       "      <td>2020-03-02 01:06:14</td>\n",
       "      <td>Ekaterina_Smirnova</td>\n",
       "      <td>successfull</td>\n",
       "    </tr>\n",
       "    <tr>\n",
       "      <th>3</th>\n",
       "      <td>2020-03-02 00:02:58</td>\n",
       "      <td>Lolita_Polyanova</td>\n",
       "      <td>cancelled</td>\n",
       "    </tr>\n",
       "    <tr>\n",
       "      <th>4</th>\n",
       "      <td>2020-03-02 00:17:52</td>\n",
       "      <td>Julia_Smirnova</td>\n",
       "      <td>cancelled</td>\n",
       "    </tr>\n",
       "    <tr>\n",
       "      <th>...</th>\n",
       "      <td>...</td>\n",
       "      <td>...</td>\n",
       "      <td>...</td>\n",
       "    </tr>\n",
       "    <tr>\n",
       "      <th>5310</th>\n",
       "      <td>2020-03-02 00:09:28</td>\n",
       "      <td>Vasilisa_Fedorova</td>\n",
       "      <td>successfull</td>\n",
       "    </tr>\n",
       "    <tr>\n",
       "      <th>5311</th>\n",
       "      <td>2020-03-02 00:46:31</td>\n",
       "      <td>Vasilisa_Ozerova</td>\n",
       "      <td>successfull</td>\n",
       "    </tr>\n",
       "    <tr>\n",
       "      <th>5312</th>\n",
       "      <td>2020-03-02 00:16:38</td>\n",
       "      <td>Olga_Polyanova</td>\n",
       "      <td>successfull</td>\n",
       "    </tr>\n",
       "    <tr>\n",
       "      <th>5313</th>\n",
       "      <td>2020-03-02 00:13:00</td>\n",
       "      <td>Ekaterina_Smirnova</td>\n",
       "      <td>successfull</td>\n",
       "    </tr>\n",
       "    <tr>\n",
       "      <th>5314</th>\n",
       "      <td>2020-03-02 01:15:45</td>\n",
       "      <td>Irina_Fedorova</td>\n",
       "      <td>cancelled</td>\n",
       "    </tr>\n",
       "  </tbody>\n",
       "</table>\n",
       "<p>5315 rows × 3 columns</p>\n",
       "</div>"
      ],
      "text/plain": [
       "                     date                name  transaction\n",
       "0     2020-03-02 00:37:20   Ekaterina_Petrova    cancelled\n",
       "1     2020-03-02 00:59:09      Irina_Fedorova  successfull\n",
       "2     2020-03-02 01:06:14  Ekaterina_Smirnova  successfull\n",
       "3     2020-03-02 00:02:58    Lolita_Polyanova    cancelled\n",
       "4     2020-03-02 00:17:52      Julia_Smirnova    cancelled\n",
       "...                   ...                 ...          ...\n",
       "5310  2020-03-02 00:09:28   Vasilisa_Fedorova  successfull\n",
       "5311  2020-03-02 00:46:31    Vasilisa_Ozerova  successfull\n",
       "5312  2020-03-02 00:16:38      Olga_Polyanova  successfull\n",
       "5313  2020-03-02 00:13:00  Ekaterina_Smirnova  successfull\n",
       "5314  2020-03-02 01:15:45      Irina_Fedorova    cancelled\n",
       "\n",
       "[5315 rows x 3 columns]"
      ]
     },
     "execution_count": 30,
     "metadata": {},
     "output_type": "execute_result"
    }
   ],
   "source": [
    "import pandas as pd\n",
    "data = pd.read_csv('transaction_data.csv')\n",
    "data\n",
    "\n",
    "\n"
   ]
  },
  {
   "cell_type": "code",
   "execution_count": 31,
   "metadata": {
    "id": "4BWqadDzv-nQ"
   },
   "outputs": [
    {
     "data": {
      "text/plain": [
       "date           object\n",
       "name           object\n",
       "transaction    object\n",
       "dtype: object"
      ]
     },
     "execution_count": 31,
     "metadata": {},
     "output_type": "execute_result"
    }
   ],
   "source": [
    "data.dtypes\n",
    "\n",
    "\n"
   ]
  },
  {
   "cell_type": "code",
   "execution_count": 32,
   "metadata": {
    "id": "e5fcttSLv-nS"
   },
   "outputs": [
    {
     "data": {
      "text/html": [
       "<div>\n",
       "<style scoped>\n",
       "    .dataframe tbody tr th:only-of-type {\n",
       "        vertical-align: middle;\n",
       "    }\n",
       "\n",
       "    .dataframe tbody tr th {\n",
       "        vertical-align: top;\n",
       "    }\n",
       "\n",
       "    .dataframe thead th {\n",
       "        text-align: right;\n",
       "    }\n",
       "</style>\n",
       "<table border=\"1\" class=\"dataframe\">\n",
       "  <thead>\n",
       "    <tr style=\"text-align: right;\">\n",
       "      <th></th>\n",
       "      <th>date</th>\n",
       "      <th>name</th>\n",
       "      <th>transaction</th>\n",
       "    </tr>\n",
       "  </thead>\n",
       "  <tbody>\n",
       "    <tr>\n",
       "      <th>count</th>\n",
       "      <td>5315</td>\n",
       "      <td>5315</td>\n",
       "      <td>5315</td>\n",
       "    </tr>\n",
       "    <tr>\n",
       "      <th>unique</th>\n",
       "      <td>3373</td>\n",
       "      <td>56</td>\n",
       "      <td>3</td>\n",
       "    </tr>\n",
       "    <tr>\n",
       "      <th>top</th>\n",
       "      <td>2020-03-02 00:35:03</td>\n",
       "      <td>Masha_Ozerova</td>\n",
       "      <td>successfull</td>\n",
       "    </tr>\n",
       "    <tr>\n",
       "      <th>freq</th>\n",
       "      <td>6</td>\n",
       "      <td>112</td>\n",
       "      <td>3692</td>\n",
       "    </tr>\n",
       "  </tbody>\n",
       "</table>\n",
       "</div>"
      ],
      "text/plain": [
       "                       date           name  transaction\n",
       "count                  5315           5315         5315\n",
       "unique                 3373             56            3\n",
       "top     2020-03-02 00:35:03  Masha_Ozerova  successfull\n",
       "freq                      6            112         3692"
      ]
     },
     "execution_count": 32,
     "metadata": {},
     "output_type": "execute_result"
    }
   ],
   "source": [
    "data.describe()\n",
    "\n",
    "\n"
   ]
  },
  {
   "cell_type": "code",
   "execution_count": 33,
   "metadata": {
    "id": "Us1oBXZYv-nV"
   },
   "outputs": [
    {
     "name": "stdout",
     "output_type": "stream",
     "text": [
      "<class 'pandas.core.frame.DataFrame'>\n",
      "RangeIndex: 5315 entries, 0 to 5314\n",
      "Data columns (total 3 columns):\n",
      " #   Column       Non-Null Count  Dtype \n",
      "---  ------       --------------  ----- \n",
      " 0   date         5315 non-null   object\n",
      " 1   name         5315 non-null   object\n",
      " 2   transaction  5315 non-null   object\n",
      "dtypes: object(3)\n",
      "memory usage: 124.7+ KB\n"
     ]
    }
   ],
   "source": [
    "data.info()\n",
    "\n"
   ]
  },
  {
   "cell_type": "markdown",
   "metadata": {
    "id": "gMLMavFOv-ns"
   },
   "source": [
    "## Задача 4\n",
    "\n",
    "### Определим количество транзакций того или иного статуса и представим эту информацию с помощью графика барплот."
   ]
  },
  {
   "cell_type": "markdown",
   "metadata": {
    "id": "6g1qlfMzv-ns"
   },
   "source": [
    "#### Посчитаем количество записей для каждого статуса транзакций."
   ]
  },
  {
   "cell_type": "code",
   "execution_count": 36,
   "metadata": {
    "id": "v_kSyDjVv-ns"
   },
   "outputs": [],
   "source": [
    "data_counts = data.transaction.value_counts()\n"
   ]
  },
  {
   "cell_type": "markdown",
   "metadata": {
    "id": "7J77OCmcv-nu"
   },
   "source": [
    "#### На барплоте по оси `x` будет расположено название статуса, а по оси `y` – количество транзакций с таким статусом."
   ]
  },
  {
   "cell_type": "code",
   "execution_count": 37,
   "metadata": {
    "id": "L4Yl-VX-v-nu"
   },
   "outputs": [
    {
     "data": {
      "text/plain": [
       "<matplotlib.axes._subplots.AxesSubplot at 0x7fde94b68320>"
      ]
     },
     "execution_count": 37,
     "metadata": {},
     "output_type": "execute_result"
    },
    {
     "data": {
      "image/png": "[encoded data removed]",
      "text/plain": [
       "<Figure size 432x288 with 1 Axes>"
      ]
     },
     "metadata": {
      "needs_background": "light"
     },
     "output_type": "display_data"
    }
   ],
   "source": [
    "sns.barplot(x = data_counts.index, y=data_counts.values )\n",
    "\n"
   ]
  },
  {
   "cell_type": "markdown",
   "metadata": {
    "id": "a1Rl-fNrv-nz"
   },
   "source": [
    "## Задача 5\n",
    "### Посчитаем количество успешных транзакций каждого пользователя."
   ]
  },
  {
   "cell_type": "markdown",
   "metadata": {
    "id": "FOhr1Qopv-nz"
   },
   "source": [
    "#### Оставим записи только об успешных транзакциях (см.колонку `transaction`)"
   ]
  },
  {
   "cell_type": "code",
   "execution_count": 39,
   "metadata": {
    "id": "dlBPy4B8v-n0"
   },
   "outputs": [
    {
     "data": {
      "text/html": [
       "<div>\n",
       "<style scoped>\n",
       "    .dataframe tbody tr th:only-of-type {\n",
       "        vertical-align: middle;\n",
       "    }\n",
       "\n",
       "    .dataframe tbody tr th {\n",
       "        vertical-align: top;\n",
       "    }\n",
       "\n",
       "    .dataframe thead th {\n",
       "        text-align: right;\n",
       "    }\n",
       "</style>\n",
       "<table border=\"1\" class=\"dataframe\">\n",
       "  <thead>\n",
       "    <tr style=\"text-align: right;\">\n",
       "      <th></th>\n",
       "      <th>date</th>\n",
       "      <th>name</th>\n",
       "      <th>transaction</th>\n",
       "    </tr>\n",
       "  </thead>\n",
       "  <tbody>\n",
       "    <tr>\n",
       "      <th>1</th>\n",
       "      <td>2020-03-02 00:59:09</td>\n",
       "      <td>Irina_Fedorova</td>\n",
       "      <td>successfull</td>\n",
       "    </tr>\n",
       "    <tr>\n",
       "      <th>2</th>\n",
       "      <td>2020-03-02 01:06:14</td>\n",
       "      <td>Ekaterina_Smirnova</td>\n",
       "      <td>successfull</td>\n",
       "    </tr>\n",
       "    <tr>\n",
       "      <th>6</th>\n",
       "      <td>2020-03-02 00:54:12</td>\n",
       "      <td>Olga_Lesnova</td>\n",
       "      <td>successfull</td>\n",
       "    </tr>\n",
       "    <tr>\n",
       "      <th>7</th>\n",
       "      <td>2020-03-02 00:18:43</td>\n",
       "      <td>Irina_Lesnova</td>\n",
       "      <td>successfull</td>\n",
       "    </tr>\n",
       "    <tr>\n",
       "      <th>8</th>\n",
       "      <td>2020-03-02 00:06:10</td>\n",
       "      <td>Vasilisa_Petrova</td>\n",
       "      <td>successfull</td>\n",
       "    </tr>\n",
       "    <tr>\n",
       "      <th>...</th>\n",
       "      <td>...</td>\n",
       "      <td>...</td>\n",
       "      <td>...</td>\n",
       "    </tr>\n",
       "    <tr>\n",
       "      <th>5309</th>\n",
       "      <td>2020-03-02 01:26:13</td>\n",
       "      <td>Olga_Ozerova</td>\n",
       "      <td>successfull</td>\n",
       "    </tr>\n",
       "    <tr>\n",
       "      <th>5310</th>\n",
       "      <td>2020-03-02 00:09:28</td>\n",
       "      <td>Vasilisa_Fedorova</td>\n",
       "      <td>successfull</td>\n",
       "    </tr>\n",
       "    <tr>\n",
       "      <th>5311</th>\n",
       "      <td>2020-03-02 00:46:31</td>\n",
       "      <td>Vasilisa_Ozerova</td>\n",
       "      <td>successfull</td>\n",
       "    </tr>\n",
       "    <tr>\n",
       "      <th>5312</th>\n",
       "      <td>2020-03-02 00:16:38</td>\n",
       "      <td>Olga_Polyanova</td>\n",
       "      <td>successfull</td>\n",
       "    </tr>\n",
       "    <tr>\n",
       "      <th>5313</th>\n",
       "      <td>2020-03-02 00:13:00</td>\n",
       "      <td>Ekaterina_Smirnova</td>\n",
       "      <td>successfull</td>\n",
       "    </tr>\n",
       "  </tbody>\n",
       "</table>\n",
       "<p>3692 rows × 3 columns</p>\n",
       "</div>"
      ],
      "text/plain": [
       "                     date                name  transaction\n",
       "1     2020-03-02 00:59:09      Irina_Fedorova  successfull\n",
       "2     2020-03-02 01:06:14  Ekaterina_Smirnova  successfull\n",
       "6     2020-03-02 00:54:12        Olga_Lesnova  successfull\n",
       "7     2020-03-02 00:18:43       Irina_Lesnova  successfull\n",
       "8     2020-03-02 00:06:10    Vasilisa_Petrova  successfull\n",
       "...                   ...                 ...          ...\n",
       "5309  2020-03-02 01:26:13        Olga_Ozerova  successfull\n",
       "5310  2020-03-02 00:09:28   Vasilisa_Fedorova  successfull\n",
       "5311  2020-03-02 00:46:31    Vasilisa_Ozerova  successfull\n",
       "5312  2020-03-02 00:16:38      Olga_Polyanova  successfull\n",
       "5313  2020-03-02 00:13:00  Ekaterina_Smirnova  successfull\n",
       "\n",
       "[3692 rows x 3 columns]"
      ]
     },
     "execution_count": 39,
     "metadata": {},
     "output_type": "execute_result"
    }
   ],
   "source": [
    "data.loc[data[\"transaction\"] == 'successfull']\n",
    "\n"
   ]
  },
  {
   "cell_type": "markdown",
   "metadata": {
    "id": "orl1uglRv-n0"
   },
   "source": [
    "#### Посчитаем, сколько успешных транзакций совершил каждый пользователь."
   ]
  },
  {
   "cell_type": "code",
   "execution_count": 40,
   "metadata": {
    "id": "hBUWrPDav-n1"
   },
   "outputs": [
    {
     "data": {
      "text/html": [
       "<div>\n",
       "<style scoped>\n",
       "    .dataframe tbody tr th:only-of-type {\n",
       "        vertical-align: middle;\n",
       "    }\n",
       "\n",
       "    .dataframe tbody tr th {\n",
       "        vertical-align: top;\n",
       "    }\n",
       "\n",
       "    .dataframe thead th {\n",
       "        text-align: right;\n",
       "    }\n",
       "</style>\n",
       "<table border=\"1\" class=\"dataframe\">\n",
       "  <thead>\n",
       "    <tr style=\"text-align: right;\">\n",
       "      <th></th>\n",
       "      <th>size</th>\n",
       "    </tr>\n",
       "  </thead>\n",
       "  <tbody>\n",
       "    <tr>\n",
       "      <th>count</th>\n",
       "      <td>56.000000</td>\n",
       "    </tr>\n",
       "    <tr>\n",
       "      <th>mean</th>\n",
       "      <td>65.928571</td>\n",
       "    </tr>\n",
       "    <tr>\n",
       "      <th>std</th>\n",
       "      <td>7.787769</td>\n",
       "    </tr>\n",
       "    <tr>\n",
       "      <th>min</th>\n",
       "      <td>46.000000</td>\n",
       "    </tr>\n",
       "    <tr>\n",
       "      <th>25%</th>\n",
       "      <td>61.000000</td>\n",
       "    </tr>\n",
       "    <tr>\n",
       "      <th>50%</th>\n",
       "      <td>64.000000</td>\n",
       "    </tr>\n",
       "    <tr>\n",
       "      <th>75%</th>\n",
       "      <td>72.000000</td>\n",
       "    </tr>\n",
       "    <tr>\n",
       "      <th>max</th>\n",
       "      <td>82.000000</td>\n",
       "    </tr>\n",
       "  </tbody>\n",
       "</table>\n",
       "</div>"
      ],
      "text/plain": [
       "            size\n",
       "count  56.000000\n",
       "mean   65.928571\n",
       "std     7.787769\n",
       "min    46.000000\n",
       "25%    61.000000\n",
       "50%    64.000000\n",
       "75%    72.000000\n",
       "max    82.000000"
      ]
     },
     "execution_count": 40,
     "metadata": {},
     "output_type": "execute_result"
    }
   ],
   "source": [
    "data_success = data.loc[data[\"transaction\"] == 'successfull']\\\n",
    "        .groupby('name', as_index=False)\\\n",
    "        .size()\\\n",
    "        .describe()\n",
    "data_success\n",
    "\n"
   ]
  },
  {
   "cell_type": "markdown",
   "metadata": {
    "id": "EfyTs937v-oB"
   },
   "source": [
    "#### На основе расчетов с прошлого шага построим гистограмму, на которой по оси `x` будет отложено число транзакций, а по оси `y` — количество пользователей с таким числом транзакций.**"
   ]
  },
  {
   "cell_type": "code",
   "execution_count": 43,
   "metadata": {
    "id": "0x2m_RUcv-oB"
   },
   "outputs": [
    {
     "data": {
      "text/plain": [
       "<seaborn.axisgrid.FacetGrid at 0x7fde9110b0b8>"
      ]
     },
     "execution_count": 43,
     "metadata": {},
     "output_type": "execute_result"
    },
    {
     "data": {
      "image/png": "[encoded data removed]",
      "text/plain": [
       "<Figure size 360x360 with 1 Axes>"
      ]
     },
     "metadata": {
      "needs_background": "light"
     },
     "output_type": "display_data"
    }
   ],
   "source": [
    "data_success = data.loc[data[\"transaction\"] == 'successfull']\\\n",
    "        .groupby('name', as_index=False)\\\n",
    "        .size()\n",
    "sns.displot(data=data_success, x='size')\n"
   ]
  },
  {
   "cell_type": "markdown",
   "metadata": {},
   "source": [
    "## Итоги"
   ]
  },
  {
   "cell_type": "markdown",
   "metadata": {
    "id": "_a0jmAO9v-oh"
   },
   "source": [
    "В этом уроке был проведён анализ нескольких наборов данных о транзакциях. Для этого понадобилось подготовить данные к анализу, удалять дубликаты и другие лишние данные, определять, какие данные нужно оставить, а в каких есть ошибка, заполнять пропуски, строить сводные таблицы и корректные графики.\n",
    "\n",
    "В проекте были выполнены задачи: \n",
    "\n",
    "1. Проанализировать покупки наиболее активных пользователей одной из Германии;\n",
    "2. Товар с id 22326 отобранные активные пользователи из Германии добавляли в корзину чаще всего;\n",
    "3. Наиболее крупные по выручке заказы: 581483, 541431, 574941, 576365, 556444;\n",
    "4. Определили количество транзакций того или иного статуса: удачных транзакций около 3500, неудачных - около 1500;\n",
    "5. Посчитано количество успешных транзакций каждого пользователя. Пользователи в среднем совершили примерно по 66 транзакций. Максимальное число транзакций – 82. Примерно 25% пользователей совершили менее 61 транзакции."
   ]
  }
 ],
 "metadata": {
  "colab": {
   "provenance": []
  },
  "kernelspec": {
   "display_name": "Python 3",
   "language": "python",
   "name": "python3"
  },
  "language_info": {
   "codemirror_mode": {
    "name": "ipython",
    "version": 3
   },
   "file_extension": ".py",
   "mimetype": "text/x-python",
   "name": "python",
   "nbconvert_exporter": "python",
   "pygments_lexer": "ipython3",
   "version": "3.7.3"
  }
 },
 "nbformat": 4,
 "nbformat_minor": 1
}
